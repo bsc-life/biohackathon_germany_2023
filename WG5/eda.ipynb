{
 "cells": [
  {
   "cell_type": "markdown",
   "id": "d647f9e6",
   "metadata": {},
   "source": [
    "# EDA"
   ]
  },
  {
   "cell_type": "markdown",
   "id": "ef5df6f3",
   "metadata": {},
   "source": [
    "## Imports"
   ]
  },
  {
   "cell_type": "code",
   "execution_count": null,
   "id": "ab5d269b",
   "metadata": {},
   "outputs": [],
   "source": [
    "import os\n",
    "import zipfile\n",
    "import pandas as pd"
   ]
  },
  {
   "cell_type": "markdown",
   "id": "b7e627bb",
   "metadata": {},
   "source": [
    "## Scraper"
   ]
  },
  {
   "cell_type": "markdown",
   "id": "46d41024",
   "metadata": {},
   "source": [
    "Useful library to extract data from [NIH RePORTER API](https://api.reporter.nih.gov/): [pynih](https://github.com/jermwatt/pynih).\n",
    "Not used for the Hackaton (zip files manually downloaded)."
   ]
  },
  {
   "cell_type": "markdown",
   "id": "ac7f5c0d",
   "metadata": {},
   "source": [
    "## Functions"
   ]
  },
  {
   "cell_type": "code",
   "execution_count": null,
   "id": "965cf7e8",
   "metadata": {},
   "outputs": [],
   "source": [
    "def create_data_folders(document):\n",
    "    # Specify the folder containing the zip files\n",
    "    zip_folder = f'data/{document}/zip/'\n",
    "    # Specify the folder where you want to extract the files\n",
    "    extracted_folder = f'data/{document}/csv/'\n",
    "    # Create the extraction folder if it doesn't exist\n",
    "    os.makedirs(zip_folder, exist_ok=True)\n",
    "    os.makedirs(extracted_folder, exist_ok=True)\n",
    "    print(f'')\n",
    "    return zip_folder, extracted_folder"
   ]
  },
  {
   "cell_type": "code",
   "execution_count": null,
   "id": "bf1bc236",
   "metadata": {},
   "outputs": [],
   "source": [
    "def unzip_files(zip_folder, extracted_folder):\n",
    "    # List all zip files in the zip folder\n",
    "    zip_files = [f for f in os.listdir(zip_folder) if f.endswith('.zip')]\n",
    "\n",
    "    # Loop through zip files and extract contents\n",
    "    count = 0\n",
    "    for zip_file in zip_files:\n",
    "        zip_path = os.path.join(zip_folder, zip_file)\n",
    "        \n",
    "        with zipfile.ZipFile(zip_path, 'r') as zip_ref:\n",
    "            zip_ref.extractall(extracted_folder)\n",
    "        count += 1 \n",
    "        # print(f'{zip_file} extracted successfully!')\n",
    "    print(f'{count} zips extracted successfully!')"
   ]
  },
  {
   "cell_type": "code",
   "execution_count": null,
   "id": "6c267cde",
   "metadata": {},
   "outputs": [],
   "source": [
    "def create_df_from_csv(extracted_folder):\n",
    "    # Create a DataFrame to store the data from the CSVs\n",
    "    df_list = []\n",
    "\n",
    "    # Loop through extracted CSV files and read them into the DataFrame\n",
    "    for csv_file in os.listdir(extracted_folder):\n",
    "        if csv_file.endswith('.csv'):\n",
    "            csv_path = os.path.join(extracted_folder, csv_file)\n",
    "            # Open and read the file manually with error handling\n",
    "            with open(csv_path, 'r', encoding='utf-8', errors='replace') as file:\n",
    "                df = pd.read_csv(file, on_bad_lines='skip', low_memory=False)\n",
    "                # if 'projects' in csv_path:\n",
    "                #    df = df\n",
    "\n",
    "                \n",
    "                df_list.append(df)\n",
    "\n",
    "    # Concatenate all DataFrames into a single DataFrame\n",
    "    final_df = pd.concat(df_list, ignore_index=True)\n",
    "    return final_df\n"
   ]
  },
  {
   "cell_type": "code",
   "execution_count": null,
   "id": "af7f4336",
   "metadata": {},
   "outputs": [],
   "source": [
    "def create_final_df(document):\n",
    "    zip_folder, extracted_folder = create_data_folders(document)\n",
    "    \"\"\"\n",
    "    # UNZIP FILES - optional\n",
    "    if any(os.scandir(zip_folder)):\n",
    "        unzip_files(zip_folder, extracted_folder)\n",
    "    else:\n",
    "        print('No zips!')\n",
    "    \"\"\"\n",
    "    final_df = create_df_from_csv(extracted_folder)\n",
    "    print(f'Number of {document}: {final_df.shape[0]}')\n",
    "    return final_df"
   ]
  },
  {
   "cell_type": "markdown",
   "id": "df5f179f",
   "metadata": {},
   "source": [
    "## Data"
   ]
  },
  {
   "cell_type": "markdown",
   "id": "e99a5482",
   "metadata": {},
   "source": [
    "### Filters"
   ]
  },
  {
   "cell_type": "markdown",
   "id": "c3c0a42f",
   "metadata": {},
   "source": [
    "## Save csv"
   ]
  },
  {
   "cell_type": "code",
   "execution_count": 111,
   "id": "47cfbc1e",
   "metadata": {},
   "outputs": [],
   "source": [
    "# df_label.to_csv('output/data_label.csv')"
   ]
  }
 ],
 "metadata": {
  "kernelspec": {
   "display_name": "Python 3",
   "language": "python",
   "name": "python3"
  },
  "language_info": {
   "codemirror_mode": {
    "name": "ipython",
    "version": 3
   },
   "file_extension": ".py",
   "mimetype": "text/x-python",
   "name": "python",
   "nbconvert_exporter": "python",
   "pygments_lexer": "ipython3",
   "version": "3.7.10"
  }
 },
 "nbformat": 4,
 "nbformat_minor": 5
}
