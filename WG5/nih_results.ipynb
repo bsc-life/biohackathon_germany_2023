{
  "cells": [
    {
      "cell_type": "markdown",
      "metadata": {
        "id": "vxAKrigljBe6"
      },
      "source": [
        "# RePORTER results"
      ]
    },
    {
      "cell_type": "markdown",
      "metadata": {
        "id": "P-VilucCjFox"
      },
      "source": [
        "[RePORTER data](https://reporter.nih.gov/exporter/): publications + funding data of NIH projects (US) from 1980 until 2022.\n",
        "\n",
        "Analysis time window: `1985 - 2022`."
      ]
    },
    {
      "cell_type": "markdown",
      "metadata": {
        "id": "6tvJj1XQjLYy"
      },
      "source": [
        "## Imports"
      ]
    },
    {
      "cell_type": "code",
      "execution_count": 1,
      "metadata": {
        "id": "iA8gclt4jIhz"
      },
      "outputs": [],
      "source": [
        "import csv\n",
        "import pandas as pd"
      ]
    },
    {
      "cell_type": "markdown",
      "metadata": {
        "id": "d0LEQt0ajQQx"
      },
      "source": [
        "## Paths"
      ]
    },
    {
      "cell_type": "code",
      "execution_count": 2,
      "metadata": {
        "id": "l1GmNnIHjRfL"
      },
      "outputs": [],
      "source": [
        "codes_path = 'data/processing/codes.csv'\n",
        "publications_path = 'data/processing/publications.csv'\n",
        "link_tables_path = 'data/processing/link_tables.csv'\n",
        "merge_df2_path = 'data/processing/merge_df2.csv' # link_tables + publications\n",
        "projects_path = 'data/processing/projects.csv'"
      ]
    },
    {
      "cell_type": "markdown",
      "metadata": {
        "id": "cWPVuClLjS1S"
      },
      "source": [
        "## Data"
      ]
    },
    {
      "cell_type": "code",
      "execution_count": 3,
      "metadata": {
        "id": "x2itnxBOjUOa"
      },
      "outputs": [
        {
          "data": {
            "text/plain": [
              "(69795, 14)"
            ]
          },
          "execution_count": 3,
          "metadata": {},
          "output_type": "execute_result"
        }
      ],
      "source": [
        "merged_df2 = pd.read_csv(merge_df2_path, index_col=0, low_memory=False)\n",
        "merged_df2.shape # link_tables + publications"
      ]
    },
    {
      "cell_type": "code",
      "execution_count": 4,
      "metadata": {
        "id": "_q2mCetSjW2D"
      },
      "outputs": [
        {
          "data": {
            "text/plain": [
              "(616345, 41)"
            ]
          },
          "execution_count": 4,
          "metadata": {},
          "output_type": "execute_result"
        }
      ],
      "source": [
        "projects = pd.read_csv(projects_path, index_col=0, low_memory=False)\n",
        "projects.shape"
      ]
    },
    {
      "cell_type": "code",
      "execution_count": 5,
      "metadata": {
        "id": "ANjsuQf9kJH7"
      },
      "outputs": [
        {
          "data": {
            "text/plain": [
              "Index(['pmcid', 'doi', 'affiliation', 'author_list', 'country', 'issn',\n",
              "       'journal_issue', 'journal_title', 'journal_title_abbr', 'pmid',\n",
              "       'pub_date', 'pub_title', 'pub_year', 'project_number'],\n",
              "      dtype='object')"
            ]
          },
          "execution_count": 5,
          "metadata": {},
          "output_type": "execute_result"
        }
      ],
      "source": [
        "merged_df2.columns"
      ]
    },
    {
      "cell_type": "code",
      "execution_count": 6,
      "metadata": {
        "id": "BgDFmGeOkMv5"
      },
      "outputs": [],
      "source": [
        "publ_list = ['pub_' + col if 'pub_' not in col else col for col in merged_df2.columns[2:]]\n",
        "merged_df2.columns = ['pmcid', 'doi'] + publ_list"
      ]
    },
    {
      "cell_type": "code",
      "execution_count": 7,
      "metadata": {
        "id": "o3hhzn93kOjp"
      },
      "outputs": [
        {
          "data": {
            "text/plain": [
              "Index(['pmcid', 'doi', 'pub_affiliation', 'pub_author_list', 'pub_country',\n",
              "       'pub_issn', 'pub_journal_issue', 'pub_journal_title',\n",
              "       'pub_journal_title_abbr', 'pub_pmid', 'pub_date', 'pub_title',\n",
              "       'pub_year', 'pub_project_number'],\n",
              "      dtype='object')"
            ]
          },
          "execution_count": 7,
          "metadata": {},
          "output_type": "execute_result"
        }
      ],
      "source": [
        "merged_df2.columns # link_tables + publications"
      ]
    },
    {
      "cell_type": "code",
      "execution_count": 8,
      "metadata": {
        "id": "0F8TX38pkRvB"
      },
      "outputs": [
        {
          "name": "stdout",
          "output_type": "stream",
          "text": [
            "Unique pmc-ids: 22146\n"
          ]
        }
      ],
      "source": [
        "print(f\"Unique pmc-ids: {len(merged_df2.pmcid.unique())}\")"
      ]
    },
    {
      "cell_type": "code",
      "execution_count": 9,
      "metadata": {
        "id": "wtR1ICIskUUo"
      },
      "outputs": [
        {
          "data": {
            "text/plain": [
              "Index(['application_id', 'activity', 'administering_ic', 'application_type',\n",
              "       'arra_funded', 'award_notice_date', 'budget_start', 'budget_end',\n",
              "       'core_project_num', 'ed_inst_type', 'foa_number', 'full_project_num',\n",
              "       'subproject_id', 'funding_ics', 'fy', 'ic_name', 'nih_spending_cats',\n",
              "       'org_city', 'org_country', 'org_dept', 'org_fips', 'org_name',\n",
              "       'org_state', 'phr', 'pi_names', 'program_officer_name', 'project_start',\n",
              "       'project_end', 'project_terms', 'project_title', 'serial_number',\n",
              "       'study_section', 'study_section_name', 'support_year', 'total_cost',\n",
              "       'total_cost_sub_project', 'funding_mechanism', 'direct_cost_amt',\n",
              "       'indirect_cost_amt', 'org_ipf_code', 'opportunity number'],\n",
              "      dtype='object')"
            ]
          },
          "execution_count": 9,
          "metadata": {},
          "output_type": "execute_result"
        }
      ],
      "source": [
        "projects.columns"
      ]
    },
    {
      "cell_type": "code",
      "execution_count": 10,
      "metadata": {
        "id": "ebJ07fjbkV4g"
      },
      "outputs": [],
      "source": [
        "proj_list = ['proj_' + col if 'proj_' not in col else col for col in projects.columns]\n",
        "projects.columns =  proj_list"
      ]
    },
    {
      "cell_type": "code",
      "execution_count": 11,
      "metadata": {
        "id": "f4aNLaP7kXZQ"
      },
      "outputs": [
        {
          "data": {
            "text/plain": [
              "Index(['proj_application_id', 'proj_activity', 'proj_administering_ic',\n",
              "       'proj_application_type', 'proj_arra_funded', 'proj_award_notice_date',\n",
              "       'proj_budget_start', 'proj_budget_end', 'proj_core_project_num',\n",
              "       'proj_ed_inst_type', 'proj_foa_number', 'proj_full_project_num',\n",
              "       'proj_subproject_id', 'proj_funding_ics', 'proj_fy', 'proj_ic_name',\n",
              "       'proj_nih_spending_cats', 'proj_org_city', 'proj_org_country',\n",
              "       'proj_org_dept', 'proj_org_fips', 'proj_org_name', 'proj_org_state',\n",
              "       'proj_phr', 'proj_pi_names', 'proj_program_officer_name',\n",
              "       'proj_project_start', 'proj_project_end', 'proj_project_terms',\n",
              "       'proj_project_title', 'proj_serial_number', 'proj_study_section',\n",
              "       'proj_study_section_name', 'proj_support_year', 'proj_total_cost',\n",
              "       'proj_total_cost_sub_project', 'proj_funding_mechanism',\n",
              "       'proj_direct_cost_amt', 'proj_indirect_cost_amt', 'proj_org_ipf_code',\n",
              "       'proj_opportunity number'],\n",
              "      dtype='object')"
            ]
          },
          "execution_count": 11,
          "metadata": {},
          "output_type": "execute_result"
        }
      ],
      "source": [
        "projects.columns"
      ]
    },
    {
      "cell_type": "code",
      "execution_count": 12,
      "metadata": {
        "id": "lZIaZ279kZEA"
      },
      "outputs": [
        {
          "name": "stdout",
          "output_type": "stream",
          "text": [
            "K08CA133103\n",
            "F31GM009614\n"
          ]
        }
      ],
      "source": [
        "# Check\n",
        "print(merged_df2.pub_project_number.loc[0])\n",
        "print(projects.proj_core_project_num.loc[0])"
      ]
    },
    {
      "cell_type": "code",
      "execution_count": 13,
      "metadata": {
        "id": "TQaI9kqmkbTY"
      },
      "outputs": [
        {
          "data": {
            "text/plain": [
              "(3943185, 55)"
            ]
          },
          "execution_count": 13,
          "metadata": {},
          "output_type": "execute_result"
        }
      ],
      "source": [
        "# Final results\n",
        "results = pd.merge(merged_df2, projects, left_on='pub_project_number', right_on='proj_core_project_num', how='left')\n",
        "results.shape"
      ]
    },
    {
      "cell_type": "code",
      "execution_count": 14,
      "metadata": {
        "id": "_Ddrju5LkdJ4"
      },
      "outputs": [
        {
          "data": {
            "text/html": [
              "<div>\n",
              "<style scoped>\n",
              "    .dataframe tbody tr th:only-of-type {\n",
              "        vertical-align: middle;\n",
              "    }\n",
              "\n",
              "    .dataframe tbody tr th {\n",
              "        vertical-align: top;\n",
              "    }\n",
              "\n",
              "    .dataframe thead th {\n",
              "        text-align: right;\n",
              "    }\n",
              "</style>\n",
              "<table border=\"1\" class=\"dataframe\">\n",
              "  <thead>\n",
              "    <tr style=\"text-align: right;\">\n",
              "      <th></th>\n",
              "      <th>pmcid</th>\n",
              "      <th>doi</th>\n",
              "      <th>pub_affiliation</th>\n",
              "      <th>pub_author_list</th>\n",
              "      <th>pub_country</th>\n",
              "      <th>pub_issn</th>\n",
              "      <th>pub_journal_issue</th>\n",
              "      <th>pub_journal_title</th>\n",
              "      <th>pub_journal_title_abbr</th>\n",
              "      <th>pub_pmid</th>\n",
              "      <th>...</th>\n",
              "      <th>proj_study_section</th>\n",
              "      <th>proj_study_section_name</th>\n",
              "      <th>proj_support_year</th>\n",
              "      <th>proj_total_cost</th>\n",
              "      <th>proj_total_cost_sub_project</th>\n",
              "      <th>proj_funding_mechanism</th>\n",
              "      <th>proj_direct_cost_amt</th>\n",
              "      <th>proj_indirect_cost_amt</th>\n",
              "      <th>proj_org_ipf_code</th>\n",
              "      <th>proj_opportunity number</th>\n",
              "    </tr>\n",
              "  </thead>\n",
              "  <tbody>\n",
              "    <tr>\n",
              "      <th>0</th>\n",
              "      <td>3387267</td>\n",
              "      <td>10.1371/journal.pone.0039725</td>\n",
              "      <td>Department of Medicine, Stem Cell Program and ...</td>\n",
              "      <td>Ma, Wenxue; Gutierrez, Alejandro; Goff, Daniel...</td>\n",
              "      <td>United States</td>\n",
              "      <td>1932-6203</td>\n",
              "      <td>6</td>\n",
              "      <td>PloS one</td>\n",
              "      <td>PLoS One</td>\n",
              "      <td>22768113</td>\n",
              "      <td>...</td>\n",
              "      <td>NCI</td>\n",
              "      <td>Subcommittee E - Prevention &amp;Control</td>\n",
              "      <td>1.0</td>\n",
              "      <td>140940.0</td>\n",
              "      <td>NaN</td>\n",
              "      <td>0</td>\n",
              "      <td>NaN</td>\n",
              "      <td>NaN</td>\n",
              "      <td>NaN</td>\n",
              "      <td>0</td>\n",
              "    </tr>\n",
              "    <tr>\n",
              "      <th>1</th>\n",
              "      <td>3387267</td>\n",
              "      <td>10.1371/journal.pone.0039725</td>\n",
              "      <td>Department of Medicine, Stem Cell Program and ...</td>\n",
              "      <td>Ma, Wenxue; Gutierrez, Alejandro; Goff, Daniel...</td>\n",
              "      <td>United States</td>\n",
              "      <td>1932-6203</td>\n",
              "      <td>6</td>\n",
              "      <td>PloS one</td>\n",
              "      <td>PLoS One</td>\n",
              "      <td>22768113</td>\n",
              "      <td>...</td>\n",
              "      <td>NCI</td>\n",
              "      <td>Subcommittee B - Comprehensiveness</td>\n",
              "      <td>2.0</td>\n",
              "      <td>140940.0</td>\n",
              "      <td>NaN</td>\n",
              "      <td>Other Research Related</td>\n",
              "      <td>NaN</td>\n",
              "      <td>NaN</td>\n",
              "      <td>NaN</td>\n",
              "      <td>0</td>\n",
              "    </tr>\n",
              "    <tr>\n",
              "      <th>2</th>\n",
              "      <td>3387267</td>\n",
              "      <td>10.1371/journal.pone.0039725</td>\n",
              "      <td>Department of Medicine, Stem Cell Program and ...</td>\n",
              "      <td>Ma, Wenxue; Gutierrez, Alejandro; Goff, Daniel...</td>\n",
              "      <td>United States</td>\n",
              "      <td>1932-6203</td>\n",
              "      <td>6</td>\n",
              "      <td>PloS one</td>\n",
              "      <td>PLoS One</td>\n",
              "      <td>22768113</td>\n",
              "      <td>...</td>\n",
              "      <td>NCI</td>\n",
              "      <td>Subcommittee B - Comprehensiveness</td>\n",
              "      <td>3.0</td>\n",
              "      <td>140940.0</td>\n",
              "      <td>NaN</td>\n",
              "      <td>Other Research Related</td>\n",
              "      <td>NaN</td>\n",
              "      <td>NaN</td>\n",
              "      <td>NaN</td>\n",
              "      <td>0</td>\n",
              "    </tr>\n",
              "    <tr>\n",
              "      <th>3</th>\n",
              "      <td>3387267</td>\n",
              "      <td>10.1371/journal.pone.0039725</td>\n",
              "      <td>Department of Medicine, Stem Cell Program and ...</td>\n",
              "      <td>Ma, Wenxue; Gutierrez, Alejandro; Goff, Daniel...</td>\n",
              "      <td>United States</td>\n",
              "      <td>1932-6203</td>\n",
              "      <td>6</td>\n",
              "      <td>PloS one</td>\n",
              "      <td>PLoS One</td>\n",
              "      <td>22768113</td>\n",
              "      <td>...</td>\n",
              "      <td>NCI</td>\n",
              "      <td>Subcommittee B - Comprehensiveness</td>\n",
              "      <td>4.0</td>\n",
              "      <td>140940.0</td>\n",
              "      <td>NaN</td>\n",
              "      <td>Other Research Related</td>\n",
              "      <td>NaN</td>\n",
              "      <td>NaN</td>\n",
              "      <td>NaN</td>\n",
              "      <td>0</td>\n",
              "    </tr>\n",
              "    <tr>\n",
              "      <th>4</th>\n",
              "      <td>3387267</td>\n",
              "      <td>10.1371/journal.pone.0039725</td>\n",
              "      <td>Department of Medicine, Stem Cell Program and ...</td>\n",
              "      <td>Ma, Wenxue; Gutierrez, Alejandro; Goff, Daniel...</td>\n",
              "      <td>United States</td>\n",
              "      <td>1932-6203</td>\n",
              "      <td>6</td>\n",
              "      <td>PloS one</td>\n",
              "      <td>PLoS One</td>\n",
              "      <td>22768113</td>\n",
              "      <td>...</td>\n",
              "      <td>NCI</td>\n",
              "      <td>Subcommittee I - Transistion to Independence</td>\n",
              "      <td>5.0</td>\n",
              "      <td>140940.0</td>\n",
              "      <td>NaN</td>\n",
              "      <td>OTHER RESEARCH-RELATED</td>\n",
              "      <td>130500.0</td>\n",
              "      <td>10440.0</td>\n",
              "      <td>NaN</td>\n",
              "      <td>0</td>\n",
              "    </tr>\n",
              "  </tbody>\n",
              "</table>\n",
              "<p>5 rows × 55 columns</p>\n",
              "</div>"
            ],
            "text/plain": [
              "     pmcid                           doi  \\\n",
              "0  3387267  10.1371/journal.pone.0039725   \n",
              "1  3387267  10.1371/journal.pone.0039725   \n",
              "2  3387267  10.1371/journal.pone.0039725   \n",
              "3  3387267  10.1371/journal.pone.0039725   \n",
              "4  3387267  10.1371/journal.pone.0039725   \n",
              "\n",
              "                                     pub_affiliation  \\\n",
              "0  Department of Medicine, Stem Cell Program and ...   \n",
              "1  Department of Medicine, Stem Cell Program and ...   \n",
              "2  Department of Medicine, Stem Cell Program and ...   \n",
              "3  Department of Medicine, Stem Cell Program and ...   \n",
              "4  Department of Medicine, Stem Cell Program and ...   \n",
              "\n",
              "                                     pub_author_list    pub_country  \\\n",
              "0  Ma, Wenxue; Gutierrez, Alejandro; Goff, Daniel...  United States   \n",
              "1  Ma, Wenxue; Gutierrez, Alejandro; Goff, Daniel...  United States   \n",
              "2  Ma, Wenxue; Gutierrez, Alejandro; Goff, Daniel...  United States   \n",
              "3  Ma, Wenxue; Gutierrez, Alejandro; Goff, Daniel...  United States   \n",
              "4  Ma, Wenxue; Gutierrez, Alejandro; Goff, Daniel...  United States   \n",
              "\n",
              "    pub_issn pub_journal_issue pub_journal_title pub_journal_title_abbr  \\\n",
              "0  1932-6203                 6          PloS one               PLoS One   \n",
              "1  1932-6203                 6          PloS one               PLoS One   \n",
              "2  1932-6203                 6          PloS one               PLoS One   \n",
              "3  1932-6203                 6          PloS one               PLoS One   \n",
              "4  1932-6203                 6          PloS one               PLoS One   \n",
              "\n",
              "   pub_pmid  ... proj_study_section  \\\n",
              "0  22768113  ...                NCI   \n",
              "1  22768113  ...                NCI   \n",
              "2  22768113  ...                NCI   \n",
              "3  22768113  ...                NCI   \n",
              "4  22768113  ...                NCI   \n",
              "\n",
              "                         proj_study_section_name  proj_support_year  \\\n",
              "0           Subcommittee E - Prevention &Control                1.0   \n",
              "1             Subcommittee B - Comprehensiveness                2.0   \n",
              "2             Subcommittee B - Comprehensiveness                3.0   \n",
              "3             Subcommittee B - Comprehensiveness                4.0   \n",
              "4  Subcommittee I - Transistion to Independence                 5.0   \n",
              "\n",
              "  proj_total_cost  proj_total_cost_sub_project  proj_funding_mechanism  \\\n",
              "0        140940.0                          NaN                       0   \n",
              "1        140940.0                          NaN  Other Research Related   \n",
              "2        140940.0                          NaN  Other Research Related   \n",
              "3        140940.0                          NaN  Other Research Related   \n",
              "4        140940.0                          NaN  OTHER RESEARCH-RELATED   \n",
              "\n",
              "  proj_direct_cost_amt  proj_indirect_cost_amt proj_org_ipf_code  \\\n",
              "0                  NaN                     NaN               NaN   \n",
              "1                  NaN                     NaN               NaN   \n",
              "2                  NaN                     NaN               NaN   \n",
              "3                  NaN                     NaN               NaN   \n",
              "4             130500.0                 10440.0               NaN   \n",
              "\n",
              "  proj_opportunity number  \n",
              "0                       0  \n",
              "1                       0  \n",
              "2                       0  \n",
              "3                       0  \n",
              "4                       0  \n",
              "\n",
              "[5 rows x 55 columns]"
            ]
          },
          "execution_count": 14,
          "metadata": {},
          "output_type": "execute_result"
        }
      ],
      "source": [
        "results.head()"
      ]
    },
    {
      "cell_type": "code",
      "execution_count": 15,
      "metadata": {
        "id": "T1WdQ5kDkejI"
      },
      "outputs": [
        {
          "data": {
            "text/html": [
              "<div>\n",
              "<style scoped>\n",
              "    .dataframe tbody tr th:only-of-type {\n",
              "        vertical-align: middle;\n",
              "    }\n",
              "\n",
              "    .dataframe tbody tr th {\n",
              "        vertical-align: top;\n",
              "    }\n",
              "\n",
              "    .dataframe thead th {\n",
              "        text-align: right;\n",
              "    }\n",
              "</style>\n",
              "<table border=\"1\" class=\"dataframe\">\n",
              "  <thead>\n",
              "    <tr style=\"text-align: right;\">\n",
              "      <th></th>\n",
              "      <th>pmcid</th>\n",
              "      <th>doi</th>\n",
              "      <th>pub_affiliation</th>\n",
              "      <th>pub_author_list</th>\n",
              "      <th>pub_country</th>\n",
              "      <th>pub_issn</th>\n",
              "      <th>pub_journal_issue</th>\n",
              "      <th>pub_journal_title</th>\n",
              "      <th>pub_journal_title_abbr</th>\n",
              "      <th>pub_pmid</th>\n",
              "      <th>...</th>\n",
              "      <th>proj_study_section</th>\n",
              "      <th>proj_study_section_name</th>\n",
              "      <th>proj_support_year</th>\n",
              "      <th>proj_total_cost</th>\n",
              "      <th>proj_total_cost_sub_project</th>\n",
              "      <th>proj_funding_mechanism</th>\n",
              "      <th>proj_direct_cost_amt</th>\n",
              "      <th>proj_indirect_cost_amt</th>\n",
              "      <th>proj_org_ipf_code</th>\n",
              "      <th>proj_opportunity number</th>\n",
              "    </tr>\n",
              "  </thead>\n",
              "  <tbody>\n",
              "    <tr>\n",
              "      <th>0</th>\n",
              "      <td>3387267</td>\n",
              "      <td>10.1371/journal.pone.0039725</td>\n",
              "      <td>Department of Medicine, Stem Cell Program and ...</td>\n",
              "      <td>Ma, Wenxue; Gutierrez, Alejandro; Goff, Daniel...</td>\n",
              "      <td>United States</td>\n",
              "      <td>1932-6203</td>\n",
              "      <td>6</td>\n",
              "      <td>PloS one</td>\n",
              "      <td>PLoS One</td>\n",
              "      <td>22768113</td>\n",
              "      <td>...</td>\n",
              "      <td>NCI</td>\n",
              "      <td>Subcommittee E - Prevention &amp;Control</td>\n",
              "      <td>1.0</td>\n",
              "      <td>140940.0</td>\n",
              "      <td>NaN</td>\n",
              "      <td>0</td>\n",
              "      <td>NaN</td>\n",
              "      <td>NaN</td>\n",
              "      <td>NaN</td>\n",
              "      <td>0</td>\n",
              "    </tr>\n",
              "    <tr>\n",
              "      <th>1</th>\n",
              "      <td>3387267</td>\n",
              "      <td>10.1371/journal.pone.0039725</td>\n",
              "      <td>Department of Medicine, Stem Cell Program and ...</td>\n",
              "      <td>Ma, Wenxue; Gutierrez, Alejandro; Goff, Daniel...</td>\n",
              "      <td>United States</td>\n",
              "      <td>1932-6203</td>\n",
              "      <td>6</td>\n",
              "      <td>PloS one</td>\n",
              "      <td>PLoS One</td>\n",
              "      <td>22768113</td>\n",
              "      <td>...</td>\n",
              "      <td>NCI</td>\n",
              "      <td>Subcommittee B - Comprehensiveness</td>\n",
              "      <td>2.0</td>\n",
              "      <td>140940.0</td>\n",
              "      <td>NaN</td>\n",
              "      <td>Other Research Related</td>\n",
              "      <td>NaN</td>\n",
              "      <td>NaN</td>\n",
              "      <td>NaN</td>\n",
              "      <td>0</td>\n",
              "    </tr>\n",
              "    <tr>\n",
              "      <th>2</th>\n",
              "      <td>3387267</td>\n",
              "      <td>10.1371/journal.pone.0039725</td>\n",
              "      <td>Department of Medicine, Stem Cell Program and ...</td>\n",
              "      <td>Ma, Wenxue; Gutierrez, Alejandro; Goff, Daniel...</td>\n",
              "      <td>United States</td>\n",
              "      <td>1932-6203</td>\n",
              "      <td>6</td>\n",
              "      <td>PloS one</td>\n",
              "      <td>PLoS One</td>\n",
              "      <td>22768113</td>\n",
              "      <td>...</td>\n",
              "      <td>NCI</td>\n",
              "      <td>Subcommittee B - Comprehensiveness</td>\n",
              "      <td>3.0</td>\n",
              "      <td>140940.0</td>\n",
              "      <td>NaN</td>\n",
              "      <td>Other Research Related</td>\n",
              "      <td>NaN</td>\n",
              "      <td>NaN</td>\n",
              "      <td>NaN</td>\n",
              "      <td>0</td>\n",
              "    </tr>\n",
              "    <tr>\n",
              "      <th>3</th>\n",
              "      <td>3387267</td>\n",
              "      <td>10.1371/journal.pone.0039725</td>\n",
              "      <td>Department of Medicine, Stem Cell Program and ...</td>\n",
              "      <td>Ma, Wenxue; Gutierrez, Alejandro; Goff, Daniel...</td>\n",
              "      <td>United States</td>\n",
              "      <td>1932-6203</td>\n",
              "      <td>6</td>\n",
              "      <td>PloS one</td>\n",
              "      <td>PLoS One</td>\n",
              "      <td>22768113</td>\n",
              "      <td>...</td>\n",
              "      <td>NCI</td>\n",
              "      <td>Subcommittee B - Comprehensiveness</td>\n",
              "      <td>4.0</td>\n",
              "      <td>140940.0</td>\n",
              "      <td>NaN</td>\n",
              "      <td>Other Research Related</td>\n",
              "      <td>NaN</td>\n",
              "      <td>NaN</td>\n",
              "      <td>NaN</td>\n",
              "      <td>0</td>\n",
              "    </tr>\n",
              "    <tr>\n",
              "      <th>4</th>\n",
              "      <td>3387267</td>\n",
              "      <td>10.1371/journal.pone.0039725</td>\n",
              "      <td>Department of Medicine, Stem Cell Program and ...</td>\n",
              "      <td>Ma, Wenxue; Gutierrez, Alejandro; Goff, Daniel...</td>\n",
              "      <td>United States</td>\n",
              "      <td>1932-6203</td>\n",
              "      <td>6</td>\n",
              "      <td>PloS one</td>\n",
              "      <td>PLoS One</td>\n",
              "      <td>22768113</td>\n",
              "      <td>...</td>\n",
              "      <td>NCI</td>\n",
              "      <td>Subcommittee I - Transistion to Independence</td>\n",
              "      <td>5.0</td>\n",
              "      <td>140940.0</td>\n",
              "      <td>NaN</td>\n",
              "      <td>OTHER RESEARCH-RELATED</td>\n",
              "      <td>130500.0</td>\n",
              "      <td>10440.0</td>\n",
              "      <td>NaN</td>\n",
              "      <td>0</td>\n",
              "    </tr>\n",
              "    <tr>\n",
              "      <th>...</th>\n",
              "      <td>...</td>\n",
              "      <td>...</td>\n",
              "      <td>...</td>\n",
              "      <td>...</td>\n",
              "      <td>...</td>\n",
              "      <td>...</td>\n",
              "      <td>...</td>\n",
              "      <td>...</td>\n",
              "      <td>...</td>\n",
              "      <td>...</td>\n",
              "      <td>...</td>\n",
              "      <td>...</td>\n",
              "      <td>...</td>\n",
              "      <td>...</td>\n",
              "      <td>...</td>\n",
              "      <td>...</td>\n",
              "      <td>...</td>\n",
              "      <td>...</td>\n",
              "      <td>...</td>\n",
              "      <td>...</td>\n",
              "      <td>...</td>\n",
              "    </tr>\n",
              "    <tr>\n",
              "      <th>114</th>\n",
              "      <td>3387267</td>\n",
              "      <td>10.1371/journal.pone.0039725</td>\n",
              "      <td>Department of Medicine, Stem Cell Program and ...</td>\n",
              "      <td>Ma, Wenxue; Gutierrez, Alejandro; Goff, Daniel...</td>\n",
              "      <td>United States</td>\n",
              "      <td>1932-6203</td>\n",
              "      <td>6</td>\n",
              "      <td>PloS one</td>\n",
              "      <td>PLoS One</td>\n",
              "      <td>22768113</td>\n",
              "      <td>...</td>\n",
              "      <td>NCI</td>\n",
              "      <td>Subcommittee B - Comprehensiveness</td>\n",
              "      <td>15.0</td>\n",
              "      <td>NaN</td>\n",
              "      <td>371859.0</td>\n",
              "      <td>Research Projects</td>\n",
              "      <td>NaN</td>\n",
              "      <td>NaN</td>\n",
              "      <td>NaN</td>\n",
              "      <td>0</td>\n",
              "    </tr>\n",
              "    <tr>\n",
              "      <th>115</th>\n",
              "      <td>3387267</td>\n",
              "      <td>10.1371/journal.pone.0039725</td>\n",
              "      <td>Department of Medicine, Stem Cell Program and ...</td>\n",
              "      <td>Ma, Wenxue; Gutierrez, Alejandro; Goff, Daniel...</td>\n",
              "      <td>United States</td>\n",
              "      <td>1932-6203</td>\n",
              "      <td>6</td>\n",
              "      <td>PloS one</td>\n",
              "      <td>PLoS One</td>\n",
              "      <td>22768113</td>\n",
              "      <td>...</td>\n",
              "      <td>NCI</td>\n",
              "      <td>Subcommittee B - Comprehensiveness</td>\n",
              "      <td>15.0</td>\n",
              "      <td>NaN</td>\n",
              "      <td>247123.0</td>\n",
              "      <td>Research Projects</td>\n",
              "      <td>NaN</td>\n",
              "      <td>NaN</td>\n",
              "      <td>NaN</td>\n",
              "      <td>0</td>\n",
              "    </tr>\n",
              "    <tr>\n",
              "      <th>116</th>\n",
              "      <td>3387267</td>\n",
              "      <td>10.1371/journal.pone.0039725</td>\n",
              "      <td>Department of Medicine, Stem Cell Program and ...</td>\n",
              "      <td>Ma, Wenxue; Gutierrez, Alejandro; Goff, Daniel...</td>\n",
              "      <td>United States</td>\n",
              "      <td>1932-6203</td>\n",
              "      <td>6</td>\n",
              "      <td>PloS one</td>\n",
              "      <td>PLoS One</td>\n",
              "      <td>22768113</td>\n",
              "      <td>...</td>\n",
              "      <td>NCI</td>\n",
              "      <td>Subcommittee B - Comprehensiveness</td>\n",
              "      <td>15.0</td>\n",
              "      <td>NaN</td>\n",
              "      <td>513343.0</td>\n",
              "      <td>Research Projects</td>\n",
              "      <td>NaN</td>\n",
              "      <td>NaN</td>\n",
              "      <td>NaN</td>\n",
              "      <td>0</td>\n",
              "    </tr>\n",
              "    <tr>\n",
              "      <th>117</th>\n",
              "      <td>3387267</td>\n",
              "      <td>10.1371/journal.pone.0039725</td>\n",
              "      <td>Department of Medicine, Stem Cell Program and ...</td>\n",
              "      <td>Ma, Wenxue; Gutierrez, Alejandro; Goff, Daniel...</td>\n",
              "      <td>United States</td>\n",
              "      <td>1932-6203</td>\n",
              "      <td>6</td>\n",
              "      <td>PloS one</td>\n",
              "      <td>PLoS One</td>\n",
              "      <td>22768113</td>\n",
              "      <td>...</td>\n",
              "      <td>NCI</td>\n",
              "      <td>Subcommittee B - Comprehensiveness</td>\n",
              "      <td>15.0</td>\n",
              "      <td>NaN</td>\n",
              "      <td>581052.0</td>\n",
              "      <td>Research Projects</td>\n",
              "      <td>NaN</td>\n",
              "      <td>NaN</td>\n",
              "      <td>NaN</td>\n",
              "      <td>0</td>\n",
              "    </tr>\n",
              "    <tr>\n",
              "      <th>118</th>\n",
              "      <td>3387267</td>\n",
              "      <td>10.1371/journal.pone.0039725</td>\n",
              "      <td>Department of Medicine, Stem Cell Program and ...</td>\n",
              "      <td>Ma, Wenxue; Gutierrez, Alejandro; Goff, Daniel...</td>\n",
              "      <td>United States</td>\n",
              "      <td>1932-6203</td>\n",
              "      <td>6</td>\n",
              "      <td>PloS one</td>\n",
              "      <td>PLoS One</td>\n",
              "      <td>22768113</td>\n",
              "      <td>...</td>\n",
              "      <td>NCI</td>\n",
              "      <td>Subcommittee B - Comprehensiveness</td>\n",
              "      <td>15.0</td>\n",
              "      <td>NaN</td>\n",
              "      <td>306470.0</td>\n",
              "      <td>Research Projects</td>\n",
              "      <td>NaN</td>\n",
              "      <td>NaN</td>\n",
              "      <td>NaN</td>\n",
              "      <td>0</td>\n",
              "    </tr>\n",
              "  </tbody>\n",
              "</table>\n",
              "<p>119 rows × 55 columns</p>\n",
              "</div>"
            ],
            "text/plain": [
              "       pmcid                           doi  \\\n",
              "0    3387267  10.1371/journal.pone.0039725   \n",
              "1    3387267  10.1371/journal.pone.0039725   \n",
              "2    3387267  10.1371/journal.pone.0039725   \n",
              "3    3387267  10.1371/journal.pone.0039725   \n",
              "4    3387267  10.1371/journal.pone.0039725   \n",
              "..       ...                           ...   \n",
              "114  3387267  10.1371/journal.pone.0039725   \n",
              "115  3387267  10.1371/journal.pone.0039725   \n",
              "116  3387267  10.1371/journal.pone.0039725   \n",
              "117  3387267  10.1371/journal.pone.0039725   \n",
              "118  3387267  10.1371/journal.pone.0039725   \n",
              "\n",
              "                                       pub_affiliation  \\\n",
              "0    Department of Medicine, Stem Cell Program and ...   \n",
              "1    Department of Medicine, Stem Cell Program and ...   \n",
              "2    Department of Medicine, Stem Cell Program and ...   \n",
              "3    Department of Medicine, Stem Cell Program and ...   \n",
              "4    Department of Medicine, Stem Cell Program and ...   \n",
              "..                                                 ...   \n",
              "114  Department of Medicine, Stem Cell Program and ...   \n",
              "115  Department of Medicine, Stem Cell Program and ...   \n",
              "116  Department of Medicine, Stem Cell Program and ...   \n",
              "117  Department of Medicine, Stem Cell Program and ...   \n",
              "118  Department of Medicine, Stem Cell Program and ...   \n",
              "\n",
              "                                       pub_author_list    pub_country  \\\n",
              "0    Ma, Wenxue; Gutierrez, Alejandro; Goff, Daniel...  United States   \n",
              "1    Ma, Wenxue; Gutierrez, Alejandro; Goff, Daniel...  United States   \n",
              "2    Ma, Wenxue; Gutierrez, Alejandro; Goff, Daniel...  United States   \n",
              "3    Ma, Wenxue; Gutierrez, Alejandro; Goff, Daniel...  United States   \n",
              "4    Ma, Wenxue; Gutierrez, Alejandro; Goff, Daniel...  United States   \n",
              "..                                                 ...            ...   \n",
              "114  Ma, Wenxue; Gutierrez, Alejandro; Goff, Daniel...  United States   \n",
              "115  Ma, Wenxue; Gutierrez, Alejandro; Goff, Daniel...  United States   \n",
              "116  Ma, Wenxue; Gutierrez, Alejandro; Goff, Daniel...  United States   \n",
              "117  Ma, Wenxue; Gutierrez, Alejandro; Goff, Daniel...  United States   \n",
              "118  Ma, Wenxue; Gutierrez, Alejandro; Goff, Daniel...  United States   \n",
              "\n",
              "      pub_issn pub_journal_issue pub_journal_title pub_journal_title_abbr  \\\n",
              "0    1932-6203                 6          PloS one               PLoS One   \n",
              "1    1932-6203                 6          PloS one               PLoS One   \n",
              "2    1932-6203                 6          PloS one               PLoS One   \n",
              "3    1932-6203                 6          PloS one               PLoS One   \n",
              "4    1932-6203                 6          PloS one               PLoS One   \n",
              "..         ...               ...               ...                    ...   \n",
              "114  1932-6203                 6          PloS one               PLoS One   \n",
              "115  1932-6203                 6          PloS one               PLoS One   \n",
              "116  1932-6203                 6          PloS one               PLoS One   \n",
              "117  1932-6203                 6          PloS one               PLoS One   \n",
              "118  1932-6203                 6          PloS one               PLoS One   \n",
              "\n",
              "     pub_pmid  ... proj_study_section  \\\n",
              "0    22768113  ...                NCI   \n",
              "1    22768113  ...                NCI   \n",
              "2    22768113  ...                NCI   \n",
              "3    22768113  ...                NCI   \n",
              "4    22768113  ...                NCI   \n",
              "..        ...  ...                ...   \n",
              "114  22768113  ...                NCI   \n",
              "115  22768113  ...                NCI   \n",
              "116  22768113  ...                NCI   \n",
              "117  22768113  ...                NCI   \n",
              "118  22768113  ...                NCI   \n",
              "\n",
              "                           proj_study_section_name  proj_support_year  \\\n",
              "0             Subcommittee E - Prevention &Control                1.0   \n",
              "1               Subcommittee B - Comprehensiveness                2.0   \n",
              "2               Subcommittee B - Comprehensiveness                3.0   \n",
              "3               Subcommittee B - Comprehensiveness                4.0   \n",
              "4    Subcommittee I - Transistion to Independence                 5.0   \n",
              "..                                             ...                ...   \n",
              "114             Subcommittee B - Comprehensiveness               15.0   \n",
              "115             Subcommittee B - Comprehensiveness               15.0   \n",
              "116             Subcommittee B - Comprehensiveness               15.0   \n",
              "117             Subcommittee B - Comprehensiveness               15.0   \n",
              "118             Subcommittee B - Comprehensiveness               15.0   \n",
              "\n",
              "    proj_total_cost  proj_total_cost_sub_project  proj_funding_mechanism  \\\n",
              "0          140940.0                          NaN                       0   \n",
              "1          140940.0                          NaN  Other Research Related   \n",
              "2          140940.0                          NaN  Other Research Related   \n",
              "3          140940.0                          NaN  Other Research Related   \n",
              "4          140940.0                          NaN  OTHER RESEARCH-RELATED   \n",
              "..              ...                          ...                     ...   \n",
              "114             NaN                     371859.0       Research Projects   \n",
              "115             NaN                     247123.0       Research Projects   \n",
              "116             NaN                     513343.0       Research Projects   \n",
              "117             NaN                     581052.0       Research Projects   \n",
              "118             NaN                     306470.0       Research Projects   \n",
              "\n",
              "    proj_direct_cost_amt  proj_indirect_cost_amt proj_org_ipf_code  \\\n",
              "0                    NaN                     NaN               NaN   \n",
              "1                    NaN                     NaN               NaN   \n",
              "2                    NaN                     NaN               NaN   \n",
              "3                    NaN                     NaN               NaN   \n",
              "4               130500.0                 10440.0               NaN   \n",
              "..                   ...                     ...               ...   \n",
              "114                  NaN                     NaN               NaN   \n",
              "115                  NaN                     NaN               NaN   \n",
              "116                  NaN                     NaN               NaN   \n",
              "117                  NaN                     NaN               NaN   \n",
              "118                  NaN                     NaN               NaN   \n",
              "\n",
              "    proj_opportunity number  \n",
              "0                         0  \n",
              "1                         0  \n",
              "2                         0  \n",
              "3                         0  \n",
              "4                         0  \n",
              "..                      ...  \n",
              "114                       0  \n",
              "115                       0  \n",
              "116                       0  \n",
              "117                       0  \n",
              "118                       0  \n",
              "\n",
              "[119 rows x 55 columns]"
            ]
          },
          "execution_count": 15,
          "metadata": {},
          "output_type": "execute_result"
        }
      ],
      "source": [
        "example1 = results[results.pmcid == 3387267]\n",
        "example1"
      ]
    },
    {
      "cell_type": "code",
      "execution_count": 16,
      "metadata": {
        "id": "iaVhzOZgkgdA"
      },
      "outputs": [
        {
          "data": {
            "text/plain": [
              "Index(['pmcid', 'doi', 'pub_affiliation', 'pub_author_list', 'pub_country',\n",
              "       'pub_issn', 'pub_journal_issue', 'pub_journal_title',\n",
              "       'pub_journal_title_abbr', 'pub_pmid', 'pub_date', 'pub_title',\n",
              "       'pub_year', 'pub_project_number', 'proj_application_id',\n",
              "       'proj_activity', 'proj_administering_ic', 'proj_application_type',\n",
              "       'proj_arra_funded', 'proj_award_notice_date', 'proj_budget_start',\n",
              "       'proj_budget_end', 'proj_core_project_num', 'proj_ed_inst_type',\n",
              "       'proj_foa_number', 'proj_full_project_num', 'proj_subproject_id',\n",
              "       'proj_funding_ics', 'proj_fy', 'proj_ic_name', 'proj_nih_spending_cats',\n",
              "       'proj_org_city', 'proj_org_country', 'proj_org_dept', 'proj_org_fips',\n",
              "       'proj_org_name', 'proj_org_state', 'proj_phr', 'proj_pi_names',\n",
              "       'proj_program_officer_name', 'proj_project_start', 'proj_project_end',\n",
              "       'proj_project_terms', 'proj_project_title', 'proj_serial_number',\n",
              "       'proj_study_section', 'proj_study_section_name', 'proj_support_year',\n",
              "       'proj_total_cost', 'proj_total_cost_sub_project',\n",
              "       'proj_funding_mechanism', 'proj_direct_cost_amt',\n",
              "       'proj_indirect_cost_amt', 'proj_org_ipf_code',\n",
              "       'proj_opportunity number'],\n",
              "      dtype='object')"
            ]
          },
          "execution_count": 16,
          "metadata": {},
          "output_type": "execute_result"
        }
      ],
      "source": [
        "results.columns"
      ]
    },
    {
      "cell_type": "code",
      "execution_count": 17,
      "metadata": {
        "id": "tblPRIjIkiYB"
      },
      "outputs": [],
      "source": [
        "# Check\n",
        "# results['pmcid'] = results['pmcid'].apply(lambda x: 'PMC' + str(x))"
      ]
    },
    {
      "cell_type": "code",
      "execution_count": 18,
      "metadata": {
        "id": "PT03-Jg0kjiZ"
      },
      "outputs": [
        {
          "name": "stdout",
          "output_type": "stream",
          "text": [
            "Unique pmc-ids (original): 22146\n",
            "Unique pmc-id (results): 22146\n"
          ]
        }
      ],
      "source": [
        "# Check pmc-ids\n",
        "print(f\"Unique pmc-ids (original): {len(merged_df2.pmcid.unique())}\")\n",
        "print(f\"Unique pmc-id (results): {len(results.pmcid.unique())}\")"
      ]
    },
    {
      "cell_type": "code",
      "execution_count": 19,
      "metadata": {
        "id": "ZT4ORMcnkk7x"
      },
      "outputs": [
        {
          "name": "stdout",
          "output_type": "stream",
          "text": [
            "Removed items: 4905\n"
          ]
        }
      ],
      "source": [
        "# Drop duplicates\n",
        "filter_results = results.drop_duplicates(keep='last')\n",
        "print(f'Removed items: {results.shape[0] - filter_results.shape[0]}')"
      ]
    },
    {
      "cell_type": "code",
      "execution_count": 20,
      "metadata": {
        "id": "bAZ-S93DkmPJ"
      },
      "outputs": [],
      "source": [
        "pmc_ids = filter_results.pmcid.unique()"
      ]
    },
    {
      "cell_type": "code",
      "execution_count": 21,
      "metadata": {
        "id": "zzPMJvAfknqa"
      },
      "outputs": [],
      "source": [
        "# Writing the list of numbers to a CSV file\n",
        "with open('data/output/pmc_ids.csv', 'w', newline='') as csv_file:\n",
        "    csv_writer = csv.writer(csv_file)\n",
        "    csv_writer.writerow(pmc_ids)"
      ]
    },
    {
      "cell_type": "markdown",
      "metadata": {
        "id": "l2e1xv1YkZf5"
      },
      "source": [
        "### Save final results (1000 rows)"
      ]
    },
    {
      "cell_type": "code",
      "execution_count": 22,
      "metadata": {
        "id": "1tqPordvkpkR"
      },
      "outputs": [
        {
          "data": {
            "text/plain": [
              "(1000, 55)"
            ]
          },
          "execution_count": 22,
          "metadata": {},
          "output_type": "execute_result"
        }
      ],
      "source": [
        "filter_results_100 = filter_results.head(1000)\n",
        "filter_results_100.shape"
      ]
    },
    {
      "cell_type": "code",
      "execution_count": 23,
      "metadata": {
        "id": "HK5vB4bmkvNq"
      },
      "outputs": [],
      "source": [
        "# Final results\n",
        "# filter_results_100.to_csv('data/output/nih_results-1000.csv')"
      ]
    }
  ],
  "metadata": {
    "colab": {
      "provenance": []
    },
    "kernelspec": {
      "display_name": "Python 3",
      "name": "python3"
    },
    "language_info": {
      "codemirror_mode": {
        "name": "ipython",
        "version": 3
      },
      "file_extension": ".py",
      "mimetype": "text/x-python",
      "name": "python",
      "nbconvert_exporter": "python",
      "pygments_lexer": "ipython3",
      "version": "3.10.13"
    }
  },
  "nbformat": 4,
  "nbformat_minor": 0
}
