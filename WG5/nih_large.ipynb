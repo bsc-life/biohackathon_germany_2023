{
 "cells": [
  {
   "cell_type": "markdown",
   "id": "d647f9e6",
   "metadata": {},
   "source": [
    "# RePORTER data"
   ]
  },
  {
   "cell_type": "markdown",
   "id": "17794526",
   "metadata": {},
   "source": [
    "[RePORTER data](https://reporter.nih.gov/exporter/): publications + funding data of NIH projects (US) from 1980 until 2022. \n",
    "\n",
    "Analysis time window: `1985 - 2022`."
   ]
  },
  {
   "cell_type": "markdown",
   "id": "ef5df6f3",
   "metadata": {},
   "source": [
    "## Imports"
   ]
  },
  {
   "cell_type": "code",
   "execution_count": 1,
   "id": "ab5d269b",
   "metadata": {},
   "outputs": [],
   "source": [
    "import os\n",
    "import json\n",
    "import zipfile\n",
    "import pandas as pd"
   ]
  },
  {
   "cell_type": "markdown",
   "id": "b7e627bb",
   "metadata": {},
   "source": [
    "## Scraper"
   ]
  },
  {
   "cell_type": "markdown",
   "id": "46d41024",
   "metadata": {},
   "source": [
    "[pynih](https://github.com/jermwatt/pynih) is a useful library designed to extract data from the [NIH RePORTER API](https://api.reporter.nih.gov/). However, it was not utilized for the Hackathon, where zip files were manually downloaded."
   ]
  },
  {
   "cell_type": "markdown",
   "id": "ac7f5c0d",
   "metadata": {},
   "source": [
    "## Functions"
   ]
  },
  {
   "cell_type": "code",
   "execution_count": 2,
   "id": "00ef6f73",
   "metadata": {},
   "outputs": [],
   "source": [
    "def create_folder(folder_path):\n",
    "    # Specify the folder containing the zip files\n",
    "    # Create the extraction folder if it doesn't exist\n",
    "    os.makedirs(folder_path, exist_ok=True)\n",
    "    return folder_path"
   ]
  },
  {
   "cell_type": "code",
   "execution_count": 3,
   "id": "524eefc8",
   "metadata": {},
   "outputs": [],
   "source": [
    "def create_general_folders():\n",
    "    folders = []\n",
    "    for folder in ['raw', 'input', 'processing', 'output']:\n",
    "        folder_path = os.path.join('data/', folder)\n",
    "        folders.append(create_folder(folder_path)) \n",
    "    return folders   "
   ]
  },
  {
   "cell_type": "code",
   "execution_count": 4,
   "id": "965cf7e8",
   "metadata": {},
   "outputs": [],
   "source": [
    "def create_extraction_folders(document):\n",
    "    # Specify the folder containing the zip files\n",
    "    zip_folder = f'/{document}/'\n",
    "    # Specify the folder where you want to extract the files\n",
    "    extracted_folder = f'data/input/{document}/'\n",
    "    # Create the extraction folder if it doesn't exist\n",
    "    os.makedirs(zip_folder, exist_ok=True)\n",
    "    os.makedirs(extracted_folder, exist_ok=True)\n",
    "    print(f'Input folder: {zip_folder}')\n",
    "    print(f'Output folder: {zip_folder}')\n",
    "    return zip_folder, extracted_folder"
   ]
  },
  {
   "cell_type": "code",
   "execution_count": 5,
   "id": "bf1bc236",
   "metadata": {},
   "outputs": [],
   "source": [
    "def unzip_files(zip_folder, extracted_folder):\n",
    "    # List all zip files in the zip folder\n",
    "    zip_files = [f for f in os.listdir(zip_folder) if f.endswith('.zip')]\n",
    "\n",
    "    # Loop through zip files and extract contents\n",
    "    count = 0\n",
    "    for zip_file in zip_files:\n",
    "        zip_path = os.path.join(zip_folder, zip_file)\n",
    "        \n",
    "        with zipfile.ZipFile(zip_path, 'r') as zip_ref:\n",
    "            zip_ref.extractall(extracted_folder)\n",
    "        count += 1 \n",
    "    print(f'{count} zips extracted successfully!')"
   ]
  },
  {
   "cell_type": "code",
   "execution_count": 6,
   "id": "6c267cde",
   "metadata": {},
   "outputs": [],
   "source": [
    "def create_df_from_csv(folders, document, project_numbers=''):\n",
    "    extracted_folder =  os.path.join(folders[1], document)\n",
    "    # Create a DataFrame to store the data from the CSVs\n",
    "    df_list = []\n",
    "    # Loop through extracted CSV files and read them into the DataFrame\n",
    "    for csv_file in os.listdir(extracted_folder):\n",
    "        if csv_file.endswith('.csv'):\n",
    "            csv_path = os.path.join(extracted_folder, csv_file)\n",
    "            try:\n",
    "                # Open and read the file manually with error handling\n",
    "                with open(csv_path, 'r', encoding='utf-8', errors='replace') as file:\n",
    "                    df = pd.read_csv(file, on_bad_lines='skip', encoding='utf-8', engine='python')\n",
    "                    if 'projects' in csv_path and project_numbers != '':\n",
    "                        df = df[df[\"CORE_PROJECT_NUM\"].isin(project_numbers)]\n",
    "                        # df = pd.merge(codes_df, df, on='pmid', how='left')\n",
    "                df_list.append(df)\n",
    "            except Exception as e:\n",
    "                print(f\"Error reading {csv_path}: {e}\")\n",
    "\n",
    "    # Concatenate all DataFrames into a single DataFrame\n",
    "    final_df = pd.concat(df_list, ignore_index=True)\n",
    "    print(f'Number of {document}: {final_df.shape[0]}')\n",
    "    return final_df\n"
   ]
  },
  {
   "cell_type": "markdown",
   "id": "ceb7d5c3",
   "metadata": {},
   "source": [
    "## Paths"
   ]
  },
  {
   "cell_type": "code",
   "execution_count": 7,
   "id": "41d2980c",
   "metadata": {},
   "outputs": [
    {
     "data": {
      "text/plain": [
       "['data/raw', 'data/input', 'data/processing', 'data/output']"
      ]
     },
     "execution_count": 7,
     "metadata": {},
     "output_type": "execute_result"
    }
   ],
   "source": [
    "folders = create_general_folders() # 'raw', 'input', 'processing', 'output'\n",
    "folders"
   ]
  },
  {
   "cell_type": "markdown",
   "id": "318cca54",
   "metadata": {},
   "source": [
    "## Unzip files"
   ]
  },
  {
   "cell_type": "code",
   "execution_count": 8,
   "id": "9747b147",
   "metadata": {},
   "outputs": [],
   "source": [
    "zip_folder = os.path.join(folders[0], 'publications')\n",
    "extracted_folder = os.path.join(folders[1], 'publications')"
   ]
  },
  {
   "cell_type": "code",
   "execution_count": 9,
   "id": "782c363d",
   "metadata": {},
   "outputs": [],
   "source": [
    "# UNZIP FILES - optional\n",
    "# if any(os.scandir(zip_folder)):\n",
    "#    unzip_files(zip_folder, extracted_folder)\n",
    "# else:\n",
    "#    print('No zips!')"
   ]
  },
  {
   "cell_type": "markdown",
   "id": "df5f179f",
   "metadata": {},
   "source": [
    "## Data"
   ]
  },
  {
   "cell_type": "markdown",
   "id": "133fa251",
   "metadata": {},
   "source": [
    "### Count Data"
   ]
  },
  {
   "cell_type": "code",
   "execution_count": 10,
   "id": "0c3a375a",
   "metadata": {},
   "outputs": [],
   "source": [
    "json_file_path = 'data/results_for_analysis.json'"
   ]
  },
  {
   "cell_type": "code",
   "execution_count": 11,
   "id": "d690c299",
   "metadata": {},
   "outputs": [],
   "source": [
    "# Open the JSON file\n",
    "with open(json_file_path, 'r') as file:\n",
    "    # Load the JSON data\n",
    "    data = json.load(file)"
   ]
  },
  {
   "cell_type": "code",
   "execution_count": 12,
   "id": "d0648afe",
   "metadata": {},
   "outputs": [
    {
     "data": {
      "text/html": [
       "<div>\n",
       "<style scoped>\n",
       "    .dataframe tbody tr th:only-of-type {\n",
       "        vertical-align: middle;\n",
       "    }\n",
       "\n",
       "    .dataframe tbody tr th {\n",
       "        vertical-align: top;\n",
       "    }\n",
       "\n",
       "    .dataframe thead th {\n",
       "        text-align: right;\n",
       "    }\n",
       "</style>\n",
       "<table border=\"1\" class=\"dataframe\">\n",
       "  <thead>\n",
       "    <tr style=\"text-align: right;\">\n",
       "      <th></th>\n",
       "      <th>pmcid</th>\n",
       "      <th>agg_sentence_index</th>\n",
       "      <th>agg_n_fem</th>\n",
       "      <th>agg_n_male</th>\n",
       "      <th>agg_perc_fem</th>\n",
       "      <th>agg_perc_male</th>\n",
       "      <th>agg_sample</th>\n",
       "      <th>clean_n_fem</th>\n",
       "      <th>clean_n_male</th>\n",
       "      <th>clean_perc_fem</th>\n",
       "      <th>...</th>\n",
       "      <th>article_categories</th>\n",
       "      <th>article_title</th>\n",
       "      <th>authors</th>\n",
       "      <th>copyright_info</th>\n",
       "      <th>funding</th>\n",
       "      <th>publisher_id</th>\n",
       "      <th>doi</th>\n",
       "      <th>journal_title</th>\n",
       "      <th>keywords</th>\n",
       "      <th>publication_date</th>\n",
       "    </tr>\n",
       "  </thead>\n",
       "  <tbody>\n",
       "    <tr>\n",
       "      <th>0</th>\n",
       "      <td>PMC9683380</td>\n",
       "      <td>[3, 5, 6, 7, 8]</td>\n",
       "      <td>[null, null, \"\\\"352\\\"\", null, null]</td>\n",
       "      <td>[null, null, \"\\\"328\\\"\", null, null]</td>\n",
       "      <td>[null, null, null, null, null]</td>\n",
       "      <td>[null, null, null, null, null]</td>\n",
       "      <td>[\"\\\"##3\\\"\", \"\\\"##3\\\"\", \"\\\"70\\\"\", \"\\\"##6\\\"\", \"\\...</td>\n",
       "      <td>[352]</td>\n",
       "      <td>[328]</td>\n",
       "      <td>[]</td>\n",
       "      <td>...</td>\n",
       "      <td>[\"Endocrinology\"]</td>\n",
       "      <td>Differential diagnostic value of plain CT scan...</td>\n",
       "      <td>[\"Zhijiang Han\", \"Mengwei Wu\", \"Peiying Wei\", ...</td>\n",
       "      <td>Copyright © 2022 Han, Wu, Wei, Zhu, Zhang, Din...</td>\n",
       "      <td>[]</td>\n",
       "      <td>None</td>\n",
       "      <td>10.3389/fendo.2022.1007870</td>\n",
       "      <td>Frontiers in Endocrinology</td>\n",
       "      <td>[\"adrenal gland neoplasms\", \"adrenal adenoma\",...</td>\n",
       "      <td>2022-11-09 00:00:00</td>\n",
       "    </tr>\n",
       "    <tr>\n",
       "      <th>1</th>\n",
       "      <td>PMC5137654</td>\n",
       "      <td>[1, 3, 4]</td>\n",
       "      <td>[\"\\\"30\\\"\", null, null]</td>\n",
       "      <td>[\"\\\"30\\\"\", null, null]</td>\n",
       "      <td>[null, null, null]</td>\n",
       "      <td>[null, null, null]</td>\n",
       "      <td>[\"\\\"60\\\"\", \"\\\"16\\\"\", \"\\\"46\\\"\"]</td>\n",
       "      <td>[30]</td>\n",
       "      <td>[30]</td>\n",
       "      <td>[]</td>\n",
       "      <td>...</td>\n",
       "      <td>[\"Spine\"]</td>\n",
       "      <td>Posterior hemivertebra resection and monosegme...</td>\n",
       "      <td>[\"X Zhu\", \"X Wei\", \"J Chen\", \"C Li\", \"M Li\", \"...</td>\n",
       "      <td>Copyright © 2013 Royal College of Surgeons</td>\n",
       "      <td>[]</td>\n",
       "      <td>650173</td>\n",
       "      <td>10.1308/003588414X13824511650173</td>\n",
       "      <td>Annals of The Royal College of Surgeons of Eng...</td>\n",
       "      <td>[\"Hemivertebra resection\", \"Monosegmental fusi...</td>\n",
       "      <td>None</td>\n",
       "    </tr>\n",
       "  </tbody>\n",
       "</table>\n",
       "<p>2 rows × 27 columns</p>\n",
       "</div>"
      ],
      "text/plain": [
       "        pmcid agg_sentence_index                            agg_n_fem  \\\n",
       "0  PMC9683380    [3, 5, 6, 7, 8]  [null, null, \"\\\"352\\\"\", null, null]   \n",
       "1  PMC5137654          [1, 3, 4]               [\"\\\"30\\\"\", null, null]   \n",
       "\n",
       "                            agg_n_male                    agg_perc_fem  \\\n",
       "0  [null, null, \"\\\"328\\\"\", null, null]  [null, null, null, null, null]   \n",
       "1               [\"\\\"30\\\"\", null, null]              [null, null, null]   \n",
       "\n",
       "                    agg_perc_male  \\\n",
       "0  [null, null, null, null, null]   \n",
       "1              [null, null, null]   \n",
       "\n",
       "                                          agg_sample clean_n_fem clean_n_male  \\\n",
       "0  [\"\\\"##3\\\"\", \"\\\"##3\\\"\", \"\\\"70\\\"\", \"\\\"##6\\\"\", \"\\...       [352]        [328]   \n",
       "1                     [\"\\\"60\\\"\", \"\\\"16\\\"\", \"\\\"46\\\"\"]        [30]         [30]   \n",
       "\n",
       "  clean_perc_fem  ... article_categories  \\\n",
       "0             []  ...  [\"Endocrinology\"]   \n",
       "1             []  ...          [\"Spine\"]   \n",
       "\n",
       "                                       article_title  \\\n",
       "0  Differential diagnostic value of plain CT scan...   \n",
       "1  Posterior hemivertebra resection and monosegme...   \n",
       "\n",
       "                                             authors  \\\n",
       "0  [\"Zhijiang Han\", \"Mengwei Wu\", \"Peiying Wei\", ...   \n",
       "1  [\"X Zhu\", \"X Wei\", \"J Chen\", \"C Li\", \"M Li\", \"...   \n",
       "\n",
       "                                      copyright_info funding publisher_id  \\\n",
       "0  Copyright © 2022 Han, Wu, Wei, Zhu, Zhang, Din...      []         None   \n",
       "1         Copyright © 2013 Royal College of Surgeons      []       650173   \n",
       "\n",
       "                                doi  \\\n",
       "0        10.3389/fendo.2022.1007870   \n",
       "1  10.1308/003588414X13824511650173   \n",
       "\n",
       "                                       journal_title  \\\n",
       "0                         Frontiers in Endocrinology   \n",
       "1  Annals of The Royal College of Surgeons of Eng...   \n",
       "\n",
       "                                            keywords     publication_date  \n",
       "0  [\"adrenal gland neoplasms\", \"adrenal adenoma\",...  2022-11-09 00:00:00  \n",
       "1  [\"Hemivertebra resection\", \"Monosegmental fusi...                 None  \n",
       "\n",
       "[2 rows x 27 columns]"
      ]
     },
     "execution_count": 12,
     "metadata": {},
     "output_type": "execute_result"
    }
   ],
   "source": [
    "count_data = pd.DataFrame.from_dict(data)\n",
    "count_data.head(2)"
   ]
  },
  {
   "cell_type": "code",
   "execution_count": 13,
   "id": "efb29c0d",
   "metadata": {},
   "outputs": [
    {
     "data": {
      "text/plain": [
       "166011"
      ]
     },
     "execution_count": 13,
     "metadata": {},
     "output_type": "execute_result"
    }
   ],
   "source": [
    "count_data.shape[0]"
   ]
  },
  {
   "cell_type": "code",
   "execution_count": 14,
   "id": "6bf94d97",
   "metadata": {},
   "outputs": [
    {
     "data": {
      "text/plain": [
       "Index(['pmcid', 'agg_sentence_index', 'agg_n_fem', 'agg_n_male',\n",
       "       'agg_perc_fem', 'agg_perc_male', 'agg_sample', 'clean_n_fem',\n",
       "       'clean_n_male', 'clean_perc_fem', 'clean_perc_male', 'clean_sample',\n",
       "       'max_n_fem', 'max_n_male', 'max_perc_fem', 'max_perc_male',\n",
       "       'max_sample', 'article_categories', 'article_title', 'authors',\n",
       "       'copyright_info', 'funding', 'publisher_id', 'doi', 'journal_title',\n",
       "       'keywords', 'publication_date'],\n",
       "      dtype='object')"
      ]
     },
     "execution_count": 14,
     "metadata": {},
     "output_type": "execute_result"
    }
   ],
   "source": [
    "count_data.columns"
   ]
  },
  {
   "cell_type": "markdown",
   "id": "e99a5482",
   "metadata": {},
   "source": [
    "### Filters"
   ]
  },
  {
   "cell_type": "code",
   "execution_count": 15,
   "id": "59f05413",
   "metadata": {},
   "outputs": [
    {
     "data": {
      "text/html": [
       "<div>\n",
       "<style scoped>\n",
       "    .dataframe tbody tr th:only-of-type {\n",
       "        vertical-align: middle;\n",
       "    }\n",
       "\n",
       "    .dataframe tbody tr th {\n",
       "        vertical-align: top;\n",
       "    }\n",
       "\n",
       "    .dataframe thead th {\n",
       "        text-align: right;\n",
       "    }\n",
       "</style>\n",
       "<table border=\"1\" class=\"dataframe\">\n",
       "  <thead>\n",
       "    <tr style=\"text-align: right;\">\n",
       "      <th></th>\n",
       "      <th>pmcid</th>\n",
       "      <th>doi</th>\n",
       "    </tr>\n",
       "  </thead>\n",
       "  <tbody>\n",
       "    <tr>\n",
       "      <th>0</th>\n",
       "      <td>PMC9683380</td>\n",
       "      <td>10.3389/fendo.2022.1007870</td>\n",
       "    </tr>\n",
       "    <tr>\n",
       "      <th>1</th>\n",
       "      <td>PMC5137654</td>\n",
       "      <td>10.1308/003588414X13824511650173</td>\n",
       "    </tr>\n",
       "  </tbody>\n",
       "</table>\n",
       "</div>"
      ],
      "text/plain": [
       "        pmcid                               doi\n",
       "0  PMC9683380        10.3389/fendo.2022.1007870\n",
       "1  PMC5137654  10.1308/003588414X13824511650173"
      ]
     },
     "execution_count": 15,
     "metadata": {},
     "output_type": "execute_result"
    }
   ],
   "source": [
    "pmc_ids_df = pd.read_csv('data/pmcids_dois_from_counts_data.txt')\n",
    "pmc_ids_df.head(2)"
   ]
  },
  {
   "cell_type": "code",
   "execution_count": 16,
   "id": "bbbea781",
   "metadata": {},
   "outputs": [
    {
     "name": "stdout",
     "output_type": "stream",
     "text": [
      "<class 'pandas.core.frame.DataFrame'>\n",
      "RangeIndex: 166011 entries, 0 to 166010\n",
      "Data columns (total 2 columns):\n",
      " #   Column  Non-Null Count   Dtype \n",
      "---  ------  --------------   ----- \n",
      " 0   pmcid   166011 non-null  object\n",
      " 1   doi     162158 non-null  object\n",
      "dtypes: object(2)\n",
      "memory usage: 2.5+ MB\n"
     ]
    }
   ],
   "source": [
    "pmc_ids_df.info()"
   ]
  },
  {
   "cell_type": "code",
   "execution_count": 17,
   "id": "d76b1d21",
   "metadata": {},
   "outputs": [
    {
     "name": "stdout",
     "output_type": "stream",
     "text": [
      "Unique pmc ids: 166011\n"
     ]
    }
   ],
   "source": [
    "pmc_ids = [x.replace('PMC', '') for x in pmc_ids_df.pmcid.unique()]\n",
    "pmc_ids_df['pmcid'] = pmc_ids\n",
    "print(f'Unique pmc ids: {len(pmc_ids)}')"
   ]
  },
  {
   "cell_type": "markdown",
   "id": "e07ebfd9",
   "metadata": {},
   "source": [
    "### Link Tables"
   ]
  },
  {
   "cell_type": "code",
   "execution_count": 18,
   "id": "4e439844",
   "metadata": {},
   "outputs": [
    {
     "name": "stdout",
     "output_type": "stream",
     "text": [
      "Number of link_tables: 6437869\n"
     ]
    },
    {
     "data": {
      "text/html": [
       "<div>\n",
       "<style scoped>\n",
       "    .dataframe tbody tr th:only-of-type {\n",
       "        vertical-align: middle;\n",
       "    }\n",
       "\n",
       "    .dataframe tbody tr th {\n",
       "        vertical-align: top;\n",
       "    }\n",
       "\n",
       "    .dataframe thead th {\n",
       "        text-align: right;\n",
       "    }\n",
       "</style>\n",
       "<table border=\"1\" class=\"dataframe\">\n",
       "  <thead>\n",
       "    <tr style=\"text-align: right;\">\n",
       "      <th></th>\n",
       "      <th>PMID</th>\n",
       "      <th>PROJECT_NUMBER</th>\n",
       "    </tr>\n",
       "  </thead>\n",
       "  <tbody>\n",
       "    <tr>\n",
       "      <th>0</th>\n",
       "      <td>3968312</td>\n",
       "      <td>R01HL025826</td>\n",
       "    </tr>\n",
       "    <tr>\n",
       "      <th>1</th>\n",
       "      <td>3889259</td>\n",
       "      <td>R01HD016292</td>\n",
       "    </tr>\n",
       "    <tr>\n",
       "      <th>2</th>\n",
       "      <td>3918136</td>\n",
       "      <td>R01HD011011</td>\n",
       "    </tr>\n",
       "    <tr>\n",
       "      <th>3</th>\n",
       "      <td>3864856</td>\n",
       "      <td>T32HL007535</td>\n",
       "    </tr>\n",
       "    <tr>\n",
       "      <th>4</th>\n",
       "      <td>4064865</td>\n",
       "      <td>R23AM031070</td>\n",
       "    </tr>\n",
       "  </tbody>\n",
       "</table>\n",
       "</div>"
      ],
      "text/plain": [
       "      PMID PROJECT_NUMBER\n",
       "0  3968312    R01HL025826\n",
       "1  3889259    R01HD016292\n",
       "2  3918136    R01HD011011\n",
       "3  3864856    T32HL007535\n",
       "4  4064865    R23AM031070"
      ]
     },
     "execution_count": 18,
     "metadata": {},
     "output_type": "execute_result"
    }
   ],
   "source": [
    "link_tables = create_df_from_csv(folders, 'link_tables')\n",
    "link_tables.head()"
   ]
  },
  {
   "cell_type": "code",
   "execution_count": 19,
   "id": "9f8f8e8e",
   "metadata": {},
   "outputs": [],
   "source": [
    "# Convert column names to lowercase\n",
    "link_tables.columns = link_tables.columns.str.lower()"
   ]
  },
  {
   "cell_type": "code",
   "execution_count": 20,
   "id": "062753ef",
   "metadata": {},
   "outputs": [
    {
     "name": "stdout",
     "output_type": "stream",
     "text": [
      "<class 'pandas.core.frame.DataFrame'>\n",
      "RangeIndex: 6437869 entries, 0 to 6437868\n",
      "Data columns (total 2 columns):\n",
      " #   Column          Dtype \n",
      "---  ------          ----- \n",
      " 0   pmid            int64 \n",
      " 1   project_number  object\n",
      "dtypes: int64(1), object(1)\n",
      "memory usage: 98.2+ MB\n"
     ]
    }
   ],
   "source": [
    "link_tables.info()"
   ]
  },
  {
   "cell_type": "code",
   "execution_count": 21,
   "id": "f29e07d6",
   "metadata": {},
   "outputs": [],
   "source": [
    "link_tables['pmid'] = link_tables['pmid'].fillna(0).astype(str)"
   ]
  },
  {
   "cell_type": "markdown",
   "id": "dd7f55cf",
   "metadata": {},
   "source": [
    "### Publications"
   ]
  },
  {
   "cell_type": "code",
   "execution_count": 22,
   "id": "e8754623",
   "metadata": {},
   "outputs": [
    {
     "name": "stdout",
     "output_type": "stream",
     "text": [
      "Number of publications: 2755776\n"
     ]
    },
    {
     "data": {
      "text/plain": [
       "Index(['AFFILIATION', 'AUTHOR_LIST', 'COUNTRY', 'ISSN', 'JOURNAL_ISSUE',\n",
       "       'JOURNAL_TITLE', 'JOURNAL_TITLE_ABBR', 'JOURNAL_VOLUME', 'LANG',\n",
       "       'PAGE_NUMBER', 'PMC_ID', 'PMID', 'PUB_DATE', 'PUB_TITLE', 'PUB_YEAR'],\n",
       "      dtype='object')"
      ]
     },
     "execution_count": 22,
     "metadata": {},
     "output_type": "execute_result"
    }
   ],
   "source": [
    "publications = create_df_from_csv(folders, 'publications')\n",
    "publications.columns"
   ]
  },
  {
   "cell_type": "code",
   "execution_count": 23,
   "id": "e6e8d6c0",
   "metadata": {},
   "outputs": [],
   "source": [
    "# Convert column names to lowercase\n",
    "publications.columns = publications.columns.str.lower()"
   ]
  },
  {
   "cell_type": "code",
   "execution_count": 24,
   "id": "b7c4ea54",
   "metadata": {},
   "outputs": [
    {
     "name": "stdout",
     "output_type": "stream",
     "text": [
      "<class 'pandas.core.frame.DataFrame'>\n",
      "RangeIndex: 2755776 entries, 0 to 2755775\n",
      "Data columns (total 15 columns):\n",
      " #   Column              Dtype  \n",
      "---  ------              -----  \n",
      " 0   affiliation         object \n",
      " 1   author_list         object \n",
      " 2   country             object \n",
      " 3   issn                object \n",
      " 4   journal_issue       object \n",
      " 5   journal_title       object \n",
      " 6   journal_title_abbr  object \n",
      " 7   journal_volume      object \n",
      " 8   lang                object \n",
      " 9   page_number         object \n",
      " 10  pmc_id              float64\n",
      " 11  pmid                int64  \n",
      " 12  pub_date            object \n",
      " 13  pub_title           object \n",
      " 14  pub_year            int64  \n",
      "dtypes: float64(1), int64(2), object(12)\n",
      "memory usage: 315.4+ MB\n"
     ]
    }
   ],
   "source": [
    "publications.info()"
   ]
  },
  {
   "cell_type": "code",
   "execution_count": 25,
   "id": "2a9aaf57",
   "metadata": {},
   "outputs": [],
   "source": [
    "publications['pmc_id'] = publications['pmc_id'].fillna(0).astype(int).astype(str)"
   ]
  },
  {
   "cell_type": "code",
   "execution_count": 26,
   "id": "25868ac2",
   "metadata": {},
   "outputs": [],
   "source": [
    "publications['pmid'] = publications['pmid'].fillna(0).astype(int).astype(str)"
   ]
  },
  {
   "cell_type": "code",
   "execution_count": null,
   "id": "9d7ff5c3",
   "metadata": {},
   "outputs": [],
   "source": []
  },
  {
   "cell_type": "markdown",
   "id": "829a67f1",
   "metadata": {},
   "source": [
    "### Codes"
   ]
  },
  {
   "cell_type": "code",
   "execution_count": 27,
   "id": "3efa1216",
   "metadata": {},
   "outputs": [
    {
     "data": {
      "text/html": [
       "<div>\n",
       "<style scoped>\n",
       "    .dataframe tbody tr th:only-of-type {\n",
       "        vertical-align: middle;\n",
       "    }\n",
       "\n",
       "    .dataframe tbody tr th {\n",
       "        vertical-align: top;\n",
       "    }\n",
       "\n",
       "    .dataframe thead th {\n",
       "        text-align: right;\n",
       "    }\n",
       "</style>\n",
       "<table border=\"1\" class=\"dataframe\">\n",
       "  <thead>\n",
       "    <tr style=\"text-align: right;\">\n",
       "      <th></th>\n",
       "      <th>pmcid</th>\n",
       "      <th>doi</th>\n",
       "      <th>affiliation</th>\n",
       "      <th>author_list</th>\n",
       "      <th>country</th>\n",
       "      <th>issn</th>\n",
       "      <th>journal_issue</th>\n",
       "      <th>journal_title</th>\n",
       "      <th>journal_title_abbr</th>\n",
       "      <th>journal_volume</th>\n",
       "      <th>lang</th>\n",
       "      <th>page_number</th>\n",
       "      <th>pmc_id</th>\n",
       "      <th>pmid</th>\n",
       "      <th>pub_date</th>\n",
       "      <th>pub_title</th>\n",
       "      <th>pub_year</th>\n",
       "    </tr>\n",
       "  </thead>\n",
       "  <tbody>\n",
       "    <tr>\n",
       "      <th>0</th>\n",
       "      <td>9683380</td>\n",
       "      <td>10.3389/fendo.2022.1007870</td>\n",
       "      <td>NaN</td>\n",
       "      <td>NaN</td>\n",
       "      <td>NaN</td>\n",
       "      <td>NaN</td>\n",
       "      <td>NaN</td>\n",
       "      <td>NaN</td>\n",
       "      <td>NaN</td>\n",
       "      <td>NaN</td>\n",
       "      <td>NaN</td>\n",
       "      <td>NaN</td>\n",
       "      <td>NaN</td>\n",
       "      <td>NaN</td>\n",
       "      <td>NaN</td>\n",
       "      <td>NaN</td>\n",
       "      <td>NaN</td>\n",
       "    </tr>\n",
       "    <tr>\n",
       "      <th>1</th>\n",
       "      <td>5137654</td>\n",
       "      <td>10.1308/003588414X13824511650173</td>\n",
       "      <td>NaN</td>\n",
       "      <td>NaN</td>\n",
       "      <td>NaN</td>\n",
       "      <td>NaN</td>\n",
       "      <td>NaN</td>\n",
       "      <td>NaN</td>\n",
       "      <td>NaN</td>\n",
       "      <td>NaN</td>\n",
       "      <td>NaN</td>\n",
       "      <td>NaN</td>\n",
       "      <td>NaN</td>\n",
       "      <td>NaN</td>\n",
       "      <td>NaN</td>\n",
       "      <td>NaN</td>\n",
       "      <td>NaN</td>\n",
       "    </tr>\n",
       "    <tr>\n",
       "      <th>2</th>\n",
       "      <td>7906844</td>\n",
       "      <td>10.5395/rde.2021.46.e7</td>\n",
       "      <td>NaN</td>\n",
       "      <td>NaN</td>\n",
       "      <td>NaN</td>\n",
       "      <td>NaN</td>\n",
       "      <td>NaN</td>\n",
       "      <td>NaN</td>\n",
       "      <td>NaN</td>\n",
       "      <td>NaN</td>\n",
       "      <td>NaN</td>\n",
       "      <td>NaN</td>\n",
       "      <td>NaN</td>\n",
       "      <td>NaN</td>\n",
       "      <td>NaN</td>\n",
       "      <td>NaN</td>\n",
       "      <td>NaN</td>\n",
       "    </tr>\n",
       "    <tr>\n",
       "      <th>3</th>\n",
       "      <td>3387267</td>\n",
       "      <td>10.1371/journal.pone.0039725</td>\n",
       "      <td>Department of Medicine, Stem Cell Program and ...</td>\n",
       "      <td>Ma, Wenxue; Gutierrez, Alejandro; Goff, Daniel...</td>\n",
       "      <td>United States</td>\n",
       "      <td>1932-6203</td>\n",
       "      <td>6</td>\n",
       "      <td>PloS one</td>\n",
       "      <td>PLoS One</td>\n",
       "      <td>7</td>\n",
       "      <td>eng</td>\n",
       "      <td>e39725</td>\n",
       "      <td>3387267</td>\n",
       "      <td>22768113</td>\n",
       "      <td>2012</td>\n",
       "      <td>NOTCH1 signaling promotes human T-cell acute l...</td>\n",
       "      <td>2012.0</td>\n",
       "    </tr>\n",
       "    <tr>\n",
       "      <th>4</th>\n",
       "      <td>4221596</td>\n",
       "      <td>10.1038/mtna.2014.36</td>\n",
       "      <td>NaN</td>\n",
       "      <td>NaN</td>\n",
       "      <td>NaN</td>\n",
       "      <td>NaN</td>\n",
       "      <td>NaN</td>\n",
       "      <td>NaN</td>\n",
       "      <td>NaN</td>\n",
       "      <td>NaN</td>\n",
       "      <td>NaN</td>\n",
       "      <td>NaN</td>\n",
       "      <td>NaN</td>\n",
       "      <td>NaN</td>\n",
       "      <td>NaN</td>\n",
       "      <td>NaN</td>\n",
       "      <td>NaN</td>\n",
       "    </tr>\n",
       "  </tbody>\n",
       "</table>\n",
       "</div>"
      ],
      "text/plain": [
       "     pmcid                               doi  \\\n",
       "0  9683380        10.3389/fendo.2022.1007870   \n",
       "1  5137654  10.1308/003588414X13824511650173   \n",
       "2  7906844            10.5395/rde.2021.46.e7   \n",
       "3  3387267      10.1371/journal.pone.0039725   \n",
       "4  4221596              10.1038/mtna.2014.36   \n",
       "\n",
       "                                         affiliation  \\\n",
       "0                                                NaN   \n",
       "1                                                NaN   \n",
       "2                                                NaN   \n",
       "3  Department of Medicine, Stem Cell Program and ...   \n",
       "4                                                NaN   \n",
       "\n",
       "                                         author_list        country  \\\n",
       "0                                                NaN            NaN   \n",
       "1                                                NaN            NaN   \n",
       "2                                                NaN            NaN   \n",
       "3  Ma, Wenxue; Gutierrez, Alejandro; Goff, Daniel...  United States   \n",
       "4                                                NaN            NaN   \n",
       "\n",
       "        issn journal_issue journal_title journal_title_abbr journal_volume  \\\n",
       "0        NaN           NaN           NaN                NaN            NaN   \n",
       "1        NaN           NaN           NaN                NaN            NaN   \n",
       "2        NaN           NaN           NaN                NaN            NaN   \n",
       "3  1932-6203             6      PloS one           PLoS One              7   \n",
       "4        NaN           NaN           NaN                NaN            NaN   \n",
       "\n",
       "  lang page_number   pmc_id      pmid pub_date  \\\n",
       "0  NaN         NaN      NaN       NaN      NaN   \n",
       "1  NaN         NaN      NaN       NaN      NaN   \n",
       "2  NaN         NaN      NaN       NaN      NaN   \n",
       "3  eng      e39725  3387267  22768113     2012   \n",
       "4  NaN         NaN      NaN       NaN      NaN   \n",
       "\n",
       "                                           pub_title  pub_year  \n",
       "0                                                NaN       NaN  \n",
       "1                                                NaN       NaN  \n",
       "2                                                NaN       NaN  \n",
       "3  NOTCH1 signaling promotes human T-cell acute l...    2012.0  \n",
       "4                                                NaN       NaN  "
      ]
     },
     "execution_count": 27,
     "metadata": {},
     "output_type": "execute_result"
    }
   ],
   "source": [
    "merged_df1 = pd.merge(pmc_ids_df, publications, left_on='pmcid', right_on='pmc_id', how='left')\n",
    "merged_df1.head()"
   ]
  },
  {
   "cell_type": "code",
   "execution_count": 28,
   "id": "7b07b8aa",
   "metadata": {},
   "outputs": [
    {
     "name": "stdout",
     "output_type": "stream",
     "text": [
      "Merged df: 166044\n"
     ]
    }
   ],
   "source": [
    "print(f'Merged df: {merged_df1.shape[0]}')"
   ]
  },
  {
   "cell_type": "code",
   "execution_count": 29,
   "id": "af339cc3",
   "metadata": {},
   "outputs": [
    {
     "data": {
      "text/plain": [
       "Index(['pmcid', 'doi', 'affiliation', 'author_list', 'country', 'issn',\n",
       "       'journal_issue', 'journal_title', 'journal_title_abbr',\n",
       "       'journal_volume', 'lang', 'page_number', 'pmc_id', 'pmid', 'pub_date',\n",
       "       'pub_title', 'pub_year'],\n",
       "      dtype='object')"
      ]
     },
     "execution_count": 29,
     "metadata": {},
     "output_type": "execute_result"
    }
   ],
   "source": [
    "merged_df1.columns"
   ]
  },
  {
   "cell_type": "code",
   "execution_count": 30,
   "id": "468611f6",
   "metadata": {},
   "outputs": [
    {
     "data": {
      "text/plain": [
       "pmcid                      0\n",
       "doi                     3853\n",
       "affiliation           144332\n",
       "author_list           143857\n",
       "country               143939\n",
       "issn                  144114\n",
       "journal_issue         149221\n",
       "journal_title         143852\n",
       "journal_title_abbr    143852\n",
       "journal_volume        143924\n",
       "lang                  143852\n",
       "page_number           145676\n",
       "pmc_id                143852\n",
       "pmid                  143852\n",
       "pub_date              143852\n",
       "pub_title             143852\n",
       "pub_year              143852\n",
       "dtype: int64"
      ]
     },
     "execution_count": 30,
     "metadata": {},
     "output_type": "execute_result"
    }
   ],
   "source": [
    "merged_df1.isnull().sum()"
   ]
  },
  {
   "cell_type": "code",
   "execution_count": 31,
   "id": "fa95d53a",
   "metadata": {},
   "outputs": [],
   "source": [
    "# Convert column names to lowercase\n",
    "merged_df1.columns = merged_df1.columns.str.lower()"
   ]
  },
  {
   "cell_type": "code",
   "execution_count": 32,
   "id": "39458449",
   "metadata": {},
   "outputs": [
    {
     "name": "stdout",
     "output_type": "stream",
     "text": [
      "Partial df: 22192\n"
     ]
    }
   ],
   "source": [
    "partial_df = merged_df1[(merged_df1['pmcid'].notna()) & (merged_df1['pmc_id'].notna())]\n",
    "print(f'Partial df: {partial_df.shape[0]}')"
   ]
  },
  {
   "cell_type": "code",
   "execution_count": 33,
   "id": "c02ed110",
   "metadata": {},
   "outputs": [
    {
     "data": {
      "text/html": [
       "<div>\n",
       "<style scoped>\n",
       "    .dataframe tbody tr th:only-of-type {\n",
       "        vertical-align: middle;\n",
       "    }\n",
       "\n",
       "    .dataframe tbody tr th {\n",
       "        vertical-align: top;\n",
       "    }\n",
       "\n",
       "    .dataframe thead th {\n",
       "        text-align: right;\n",
       "    }\n",
       "</style>\n",
       "<table border=\"1\" class=\"dataframe\">\n",
       "  <thead>\n",
       "    <tr style=\"text-align: right;\">\n",
       "      <th></th>\n",
       "      <th>pmcid</th>\n",
       "      <th>doi</th>\n",
       "      <th>affiliation</th>\n",
       "      <th>author_list</th>\n",
       "      <th>country</th>\n",
       "      <th>issn</th>\n",
       "      <th>journal_issue</th>\n",
       "      <th>journal_title</th>\n",
       "      <th>journal_title_abbr</th>\n",
       "      <th>journal_volume</th>\n",
       "      <th>lang</th>\n",
       "      <th>page_number</th>\n",
       "      <th>pmc_id</th>\n",
       "      <th>pmid</th>\n",
       "      <th>pub_date</th>\n",
       "      <th>pub_title</th>\n",
       "      <th>pub_year</th>\n",
       "      <th>project_number</th>\n",
       "    </tr>\n",
       "  </thead>\n",
       "  <tbody>\n",
       "    <tr>\n",
       "      <th>0</th>\n",
       "      <td>3387267</td>\n",
       "      <td>10.1371/journal.pone.0039725</td>\n",
       "      <td>Department of Medicine, Stem Cell Program and ...</td>\n",
       "      <td>Ma, Wenxue; Gutierrez, Alejandro; Goff, Daniel...</td>\n",
       "      <td>United States</td>\n",
       "      <td>1932-6203</td>\n",
       "      <td>6</td>\n",
       "      <td>PloS one</td>\n",
       "      <td>PLoS One</td>\n",
       "      <td>7</td>\n",
       "      <td>eng</td>\n",
       "      <td>e39725</td>\n",
       "      <td>3387267</td>\n",
       "      <td>22768113</td>\n",
       "      <td>2012</td>\n",
       "      <td>NOTCH1 signaling promotes human T-cell acute l...</td>\n",
       "      <td>2012.0</td>\n",
       "      <td>K08CA133103</td>\n",
       "    </tr>\n",
       "    <tr>\n",
       "      <th>1</th>\n",
       "      <td>3387267</td>\n",
       "      <td>10.1371/journal.pone.0039725</td>\n",
       "      <td>Department of Medicine, Stem Cell Program and ...</td>\n",
       "      <td>Ma, Wenxue; Gutierrez, Alejandro; Goff, Daniel...</td>\n",
       "      <td>United States</td>\n",
       "      <td>1932-6203</td>\n",
       "      <td>6</td>\n",
       "      <td>PloS one</td>\n",
       "      <td>PLoS One</td>\n",
       "      <td>7</td>\n",
       "      <td>eng</td>\n",
       "      <td>e39725</td>\n",
       "      <td>3387267</td>\n",
       "      <td>22768113</td>\n",
       "      <td>2012</td>\n",
       "      <td>NOTCH1 signaling promotes human T-cell acute l...</td>\n",
       "      <td>2012.0</td>\n",
       "      <td>P01CA068484</td>\n",
       "    </tr>\n",
       "    <tr>\n",
       "      <th>2</th>\n",
       "      <td>7363900</td>\n",
       "      <td>10.1038/s41398-020-00916-0</td>\n",
       "      <td>Department of Psychiatry, University of Califo...</td>\n",
       "      <td>Wierenga, Christina E; Bischoff-Grethe, Amanda...</td>\n",
       "      <td>United States</td>\n",
       "      <td>2158-3188</td>\n",
       "      <td>1</td>\n",
       "      <td>Translational psychiatry</td>\n",
       "      <td>Transl Psychiatry</td>\n",
       "      <td>10</td>\n",
       "      <td>eng</td>\n",
       "      <td>236</td>\n",
       "      <td>7363900</td>\n",
       "      <td>32669557</td>\n",
       "      <td>2020 07 16</td>\n",
       "      <td>Increased anticipatory brain response to pleas...</td>\n",
       "      <td>2020.0</td>\n",
       "      <td>R01MH113588</td>\n",
       "    </tr>\n",
       "    <tr>\n",
       "      <th>3</th>\n",
       "      <td>7363900</td>\n",
       "      <td>10.1038/s41398-020-00916-0</td>\n",
       "      <td>Department of Psychiatry, University of Califo...</td>\n",
       "      <td>Wierenga, Christina E; Bischoff-Grethe, Amanda...</td>\n",
       "      <td>United States</td>\n",
       "      <td>2158-3188</td>\n",
       "      <td>1</td>\n",
       "      <td>Translational psychiatry</td>\n",
       "      <td>Transl Psychiatry</td>\n",
       "      <td>10</td>\n",
       "      <td>eng</td>\n",
       "      <td>236</td>\n",
       "      <td>7363900</td>\n",
       "      <td>32669557</td>\n",
       "      <td>2020 07 16</td>\n",
       "      <td>Increased anticipatory brain response to pleas...</td>\n",
       "      <td>2020.0</td>\n",
       "      <td>R01MH092793</td>\n",
       "    </tr>\n",
       "    <tr>\n",
       "      <th>4</th>\n",
       "      <td>7363900</td>\n",
       "      <td>10.1038/s41398-020-00916-0</td>\n",
       "      <td>Department of Psychiatry, University of Califo...</td>\n",
       "      <td>Wierenga, Christina E; Bischoff-Grethe, Amanda...</td>\n",
       "      <td>United States</td>\n",
       "      <td>2158-3188</td>\n",
       "      <td>1</td>\n",
       "      <td>Translational psychiatry</td>\n",
       "      <td>Transl Psychiatry</td>\n",
       "      <td>10</td>\n",
       "      <td>eng</td>\n",
       "      <td>236</td>\n",
       "      <td>7363900</td>\n",
       "      <td>32669557</td>\n",
       "      <td>2020 07 16</td>\n",
       "      <td>Increased anticipatory brain response to pleas...</td>\n",
       "      <td>2020.0</td>\n",
       "      <td>F32MH108311</td>\n",
       "    </tr>\n",
       "  </tbody>\n",
       "</table>\n",
       "</div>"
      ],
      "text/plain": [
       "     pmcid                           doi  \\\n",
       "0  3387267  10.1371/journal.pone.0039725   \n",
       "1  3387267  10.1371/journal.pone.0039725   \n",
       "2  7363900    10.1038/s41398-020-00916-0   \n",
       "3  7363900    10.1038/s41398-020-00916-0   \n",
       "4  7363900    10.1038/s41398-020-00916-0   \n",
       "\n",
       "                                         affiliation  \\\n",
       "0  Department of Medicine, Stem Cell Program and ...   \n",
       "1  Department of Medicine, Stem Cell Program and ...   \n",
       "2  Department of Psychiatry, University of Califo...   \n",
       "3  Department of Psychiatry, University of Califo...   \n",
       "4  Department of Psychiatry, University of Califo...   \n",
       "\n",
       "                                         author_list        country  \\\n",
       "0  Ma, Wenxue; Gutierrez, Alejandro; Goff, Daniel...  United States   \n",
       "1  Ma, Wenxue; Gutierrez, Alejandro; Goff, Daniel...  United States   \n",
       "2  Wierenga, Christina E; Bischoff-Grethe, Amanda...  United States   \n",
       "3  Wierenga, Christina E; Bischoff-Grethe, Amanda...  United States   \n",
       "4  Wierenga, Christina E; Bischoff-Grethe, Amanda...  United States   \n",
       "\n",
       "        issn journal_issue             journal_title journal_title_abbr  \\\n",
       "0  1932-6203             6                  PloS one           PLoS One   \n",
       "1  1932-6203             6                  PloS one           PLoS One   \n",
       "2  2158-3188             1  Translational psychiatry  Transl Psychiatry   \n",
       "3  2158-3188             1  Translational psychiatry  Transl Psychiatry   \n",
       "4  2158-3188             1  Translational psychiatry  Transl Psychiatry   \n",
       "\n",
       "  journal_volume lang page_number   pmc_id      pmid    pub_date  \\\n",
       "0              7  eng      e39725  3387267  22768113        2012   \n",
       "1              7  eng      e39725  3387267  22768113        2012   \n",
       "2             10  eng         236  7363900  32669557  2020 07 16   \n",
       "3             10  eng         236  7363900  32669557  2020 07 16   \n",
       "4             10  eng         236  7363900  32669557  2020 07 16   \n",
       "\n",
       "                                           pub_title  pub_year project_number  \n",
       "0  NOTCH1 signaling promotes human T-cell acute l...    2012.0    K08CA133103  \n",
       "1  NOTCH1 signaling promotes human T-cell acute l...    2012.0    P01CA068484  \n",
       "2  Increased anticipatory brain response to pleas...    2020.0    R01MH113588  \n",
       "3  Increased anticipatory brain response to pleas...    2020.0    R01MH092793  \n",
       "4  Increased anticipatory brain response to pleas...    2020.0    F32MH108311  "
      ]
     },
     "execution_count": 33,
     "metadata": {},
     "output_type": "execute_result"
    }
   ],
   "source": [
    "merged_df2 = pd.merge(partial_df, link_tables, on='pmid', how='left')\n",
    "merged_df2.head()"
   ]
  },
  {
   "cell_type": "code",
   "execution_count": 34,
   "id": "c59424dc",
   "metadata": {},
   "outputs": [
    {
     "data": {
      "text/plain": [
       "22159"
      ]
     },
     "execution_count": 34,
     "metadata": {},
     "output_type": "execute_result"
    }
   ],
   "source": [
    "len(merged_df2.pmcid.unique())"
   ]
  },
  {
   "cell_type": "code",
   "execution_count": 35,
   "id": "a0a8512d",
   "metadata": {},
   "outputs": [
    {
     "data": {
      "text/plain": [
       "Index(['pmcid', 'doi', 'affiliation', 'author_list', 'country', 'issn',\n",
       "       'journal_issue', 'journal_title', 'journal_title_abbr',\n",
       "       'journal_volume', 'lang', 'page_number', 'pmc_id', 'pmid', 'pub_date',\n",
       "       'pub_title', 'pub_year', 'project_number'],\n",
       "      dtype='object')"
      ]
     },
     "execution_count": 35,
     "metadata": {},
     "output_type": "execute_result"
    }
   ],
   "source": [
    "merged_df2.columns"
   ]
  },
  {
   "cell_type": "code",
   "execution_count": 36,
   "id": "c8438799",
   "metadata": {},
   "outputs": [
    {
     "data": {
      "text/html": [
       "<div>\n",
       "<style scoped>\n",
       "    .dataframe tbody tr th:only-of-type {\n",
       "        vertical-align: middle;\n",
       "    }\n",
       "\n",
       "    .dataframe tbody tr th {\n",
       "        vertical-align: top;\n",
       "    }\n",
       "\n",
       "    .dataframe thead th {\n",
       "        text-align: right;\n",
       "    }\n",
       "</style>\n",
       "<table border=\"1\" class=\"dataframe\">\n",
       "  <thead>\n",
       "    <tr style=\"text-align: right;\">\n",
       "      <th></th>\n",
       "      <th>pmcid</th>\n",
       "      <th>doi</th>\n",
       "      <th>pmid</th>\n",
       "      <th>project_number</th>\n",
       "    </tr>\n",
       "  </thead>\n",
       "  <tbody>\n",
       "    <tr>\n",
       "      <th>0</th>\n",
       "      <td>3387267</td>\n",
       "      <td>10.1371/journal.pone.0039725</td>\n",
       "      <td>22768113</td>\n",
       "      <td>K08CA133103</td>\n",
       "    </tr>\n",
       "    <tr>\n",
       "      <th>1</th>\n",
       "      <td>3387267</td>\n",
       "      <td>10.1371/journal.pone.0039725</td>\n",
       "      <td>22768113</td>\n",
       "      <td>P01CA068484</td>\n",
       "    </tr>\n",
       "    <tr>\n",
       "      <th>2</th>\n",
       "      <td>7363900</td>\n",
       "      <td>10.1038/s41398-020-00916-0</td>\n",
       "      <td>32669557</td>\n",
       "      <td>R01MH113588</td>\n",
       "    </tr>\n",
       "    <tr>\n",
       "      <th>3</th>\n",
       "      <td>7363900</td>\n",
       "      <td>10.1038/s41398-020-00916-0</td>\n",
       "      <td>32669557</td>\n",
       "      <td>R01MH092793</td>\n",
       "    </tr>\n",
       "    <tr>\n",
       "      <th>4</th>\n",
       "      <td>7363900</td>\n",
       "      <td>10.1038/s41398-020-00916-0</td>\n",
       "      <td>32669557</td>\n",
       "      <td>F32MH108311</td>\n",
       "    </tr>\n",
       "  </tbody>\n",
       "</table>\n",
       "</div>"
      ],
      "text/plain": [
       "     pmcid                           doi      pmid project_number\n",
       "0  3387267  10.1371/journal.pone.0039725  22768113    K08CA133103\n",
       "1  3387267  10.1371/journal.pone.0039725  22768113    P01CA068484\n",
       "2  7363900    10.1038/s41398-020-00916-0  32669557    R01MH113588\n",
       "3  7363900    10.1038/s41398-020-00916-0  32669557    R01MH092793\n",
       "4  7363900    10.1038/s41398-020-00916-0  32669557    F32MH108311"
      ]
     },
     "execution_count": 36,
     "metadata": {},
     "output_type": "execute_result"
    }
   ],
   "source": [
    "codes_df = merged_df2[['pmcid', 'doi', 'pmid', 'project_number']]\n",
    "codes_df.head()"
   ]
  },
  {
   "cell_type": "code",
   "execution_count": 61,
   "id": "9278c818",
   "metadata": {},
   "outputs": [
    {
     "name": "stdout",
     "output_type": "stream",
     "text": [
      "Unique pmc-ids: 22159\n"
     ]
    }
   ],
   "source": [
    "print(f\"Unique pmc-ids: {len(codes_df.pmcid.unique())}\")"
   ]
  },
  {
   "cell_type": "markdown",
   "id": "babb8d57",
   "metadata": {},
   "source": [
    "### Projects"
   ]
  },
  {
   "cell_type": "code",
   "execution_count": 37,
   "id": "a7d46628",
   "metadata": {},
   "outputs": [
    {
     "name": "stdout",
     "output_type": "stream",
     "text": [
      "<class 'list'>\n"
     ]
    }
   ],
   "source": [
    "projects_number = list(codes_df.project_number.unique())\n",
    "print(type(projects_number))"
   ]
  },
  {
   "cell_type": "code",
   "execution_count": 38,
   "id": "de692122",
   "metadata": {},
   "outputs": [
    {
     "name": "stdout",
     "output_type": "stream",
     "text": [
      "33207\n"
     ]
    }
   ],
   "source": [
    "print(len(projects_number))"
   ]
  },
  {
   "cell_type": "code",
   "execution_count": 39,
   "id": "37a0caad",
   "metadata": {},
   "outputs": [
    {
     "name": "stdout",
     "output_type": "stream",
     "text": [
      "Number of projects: 616399\n"
     ]
    }
   ],
   "source": [
    "projects = create_df_from_csv(folders, 'projects', projects_number)  # filter: pmc_ids"
   ]
  },
  {
   "cell_type": "code",
   "execution_count": 40,
   "id": "8a028793",
   "metadata": {},
   "outputs": [
    {
     "data": {
      "text/html": [
       "<div>\n",
       "<style scoped>\n",
       "    .dataframe tbody tr th:only-of-type {\n",
       "        vertical-align: middle;\n",
       "    }\n",
       "\n",
       "    .dataframe tbody tr th {\n",
       "        vertical-align: top;\n",
       "    }\n",
       "\n",
       "    .dataframe thead th {\n",
       "        text-align: right;\n",
       "    }\n",
       "</style>\n",
       "<table border=\"1\" class=\"dataframe\">\n",
       "  <thead>\n",
       "    <tr style=\"text-align: right;\">\n",
       "      <th></th>\n",
       "      <th>APPLICATION_ID</th>\n",
       "      <th>ACTIVITY</th>\n",
       "      <th>ADMINISTERING_IC</th>\n",
       "      <th>APPLICATION_TYPE</th>\n",
       "      <th>ARRA_FUNDED</th>\n",
       "      <th>AWARD_NOTICE_DATE</th>\n",
       "      <th>BUDGET_START</th>\n",
       "      <th>BUDGET_END</th>\n",
       "      <th>CFDA_CODE</th>\n",
       "      <th>CORE_PROJECT_NUM</th>\n",
       "      <th>...</th>\n",
       "      <th>SUFFIX</th>\n",
       "      <th>SUPPORT_YEAR</th>\n",
       "      <th>TOTAL_COST</th>\n",
       "      <th>TOTAL_COST_SUB_PROJECT</th>\n",
       "      <th>FUNDING_MECHANISM</th>\n",
       "      <th>FUNDING_Ics</th>\n",
       "      <th>DIRECT_COST_AMT</th>\n",
       "      <th>INDIRECT_COST_AMT</th>\n",
       "      <th>ORG_IPF_CODE</th>\n",
       "      <th>OPPORTUNITY NUMBER</th>\n",
       "    </tr>\n",
       "  </thead>\n",
       "  <tbody>\n",
       "    <tr>\n",
       "      <th>616394</th>\n",
       "      <td>10869852</td>\n",
       "      <td>P20</td>\n",
       "      <td>GM</td>\n",
       "      <td>5.0</td>\n",
       "      <td>N</td>\n",
       "      <td>2022-07-11</td>\n",
       "      <td>2023-05-02</td>\n",
       "      <td>2023-06-30</td>\n",
       "      <td>NaN</td>\n",
       "      <td>P20GM130454</td>\n",
       "      <td>...</td>\n",
       "      <td>NaN</td>\n",
       "      <td>4.0</td>\n",
       "      <td>NaN</td>\n",
       "      <td>58761.0</td>\n",
       "      <td>RESEARCH CENTERS</td>\n",
       "      <td>NaN</td>\n",
       "      <td>36050.0</td>\n",
       "      <td>22711.0</td>\n",
       "      <td>2021601.0</td>\n",
       "      <td>PAR-16-415</td>\n",
       "    </tr>\n",
       "    <tr>\n",
       "      <th>616395</th>\n",
       "      <td>10873385</td>\n",
       "      <td>R35</td>\n",
       "      <td>GM</td>\n",
       "      <td>7.0</td>\n",
       "      <td>N</td>\n",
       "      <td>2023-08-04</td>\n",
       "      <td>2023-08-01</td>\n",
       "      <td>2023-08-31</td>\n",
       "      <td>859.0</td>\n",
       "      <td>R35GM137904</td>\n",
       "      <td>...</td>\n",
       "      <td>NaN</td>\n",
       "      <td>4.0</td>\n",
       "      <td>51729.0</td>\n",
       "      <td>NaN</td>\n",
       "      <td>NON-SBIR/STTR RPGS</td>\n",
       "      <td>NaN</td>\n",
       "      <td>32534.0</td>\n",
       "      <td>19195.0</td>\n",
       "      <td>2059802.0</td>\n",
       "      <td>PA-21-268</td>\n",
       "    </tr>\n",
       "    <tr>\n",
       "      <th>616396</th>\n",
       "      <td>10875228</td>\n",
       "      <td>R01</td>\n",
       "      <td>GM</td>\n",
       "      <td>7.0</td>\n",
       "      <td>N</td>\n",
       "      <td>2023-08-24</td>\n",
       "      <td>2023-01-01</td>\n",
       "      <td>2023-02-28</td>\n",
       "      <td>859.0</td>\n",
       "      <td>R01GM137656</td>\n",
       "      <td>...</td>\n",
       "      <td>NaN</td>\n",
       "      <td>4.0</td>\n",
       "      <td>112546.0</td>\n",
       "      <td>NaN</td>\n",
       "      <td>NON-SBIR/STTR RPGS</td>\n",
       "      <td>NaN</td>\n",
       "      <td>73553.0</td>\n",
       "      <td>38993.0</td>\n",
       "      <td>6297007.0</td>\n",
       "      <td>PA-21-268</td>\n",
       "    </tr>\n",
       "    <tr>\n",
       "      <th>616397</th>\n",
       "      <td>10887865</td>\n",
       "      <td>K23</td>\n",
       "      <td>NS</td>\n",
       "      <td>7.0</td>\n",
       "      <td>N</td>\n",
       "      <td>2023-08-11</td>\n",
       "      <td>2022-09-03</td>\n",
       "      <td>2023-08-31</td>\n",
       "      <td>853.0</td>\n",
       "      <td>K23NS114178</td>\n",
       "      <td>...</td>\n",
       "      <td>NaN</td>\n",
       "      <td>5.0</td>\n",
       "      <td>192275.0</td>\n",
       "      <td>NaN</td>\n",
       "      <td>OTHER RESEARCH-RELATED</td>\n",
       "      <td>NaN</td>\n",
       "      <td>178032.0</td>\n",
       "      <td>14243.0</td>\n",
       "      <td>1080401.0</td>\n",
       "      <td>PA-19-119</td>\n",
       "    </tr>\n",
       "    <tr>\n",
       "      <th>616398</th>\n",
       "      <td>10910432</td>\n",
       "      <td>R01</td>\n",
       "      <td>HL</td>\n",
       "      <td>7.0</td>\n",
       "      <td>N</td>\n",
       "      <td>2023-08-25</td>\n",
       "      <td>2023-09-01</td>\n",
       "      <td>2024-01-31</td>\n",
       "      <td>837.0</td>\n",
       "      <td>R01HL115195</td>\n",
       "      <td>...</td>\n",
       "      <td>NaN</td>\n",
       "      <td>11.0</td>\n",
       "      <td>698308.0</td>\n",
       "      <td>NaN</td>\n",
       "      <td>NON-SBIR/STTR RPGS</td>\n",
       "      <td>NaN</td>\n",
       "      <td>527713.0</td>\n",
       "      <td>170595.0</td>\n",
       "      <td>490201.0</td>\n",
       "      <td>PA-21-268</td>\n",
       "    </tr>\n",
       "  </tbody>\n",
       "</table>\n",
       "<p>5 rows × 48 columns</p>\n",
       "</div>"
      ],
      "text/plain": [
       "        APPLICATION_ID ACTIVITY ADMINISTERING_IC  APPLICATION_TYPE  \\\n",
       "616394        10869852      P20               GM               5.0   \n",
       "616395        10873385      R35               GM               7.0   \n",
       "616396        10875228      R01               GM               7.0   \n",
       "616397        10887865      K23               NS               7.0   \n",
       "616398        10910432      R01               HL               7.0   \n",
       "\n",
       "       ARRA_FUNDED AWARD_NOTICE_DATE BUDGET_START  BUDGET_END CFDA_CODE  \\\n",
       "616394           N        2022-07-11   2023-05-02  2023-06-30       NaN   \n",
       "616395           N        2023-08-04   2023-08-01  2023-08-31     859.0   \n",
       "616396           N        2023-08-24   2023-01-01  2023-02-28     859.0   \n",
       "616397           N        2023-08-11   2022-09-03  2023-08-31     853.0   \n",
       "616398           N        2023-08-25   2023-09-01  2024-01-31     837.0   \n",
       "\n",
       "       CORE_PROJECT_NUM  ... SUFFIX SUPPORT_YEAR TOTAL_COST  \\\n",
       "616394      P20GM130454  ...    NaN          4.0        NaN   \n",
       "616395      R35GM137904  ...    NaN          4.0    51729.0   \n",
       "616396      R01GM137656  ...    NaN          4.0   112546.0   \n",
       "616397      K23NS114178  ...    NaN          5.0   192275.0   \n",
       "616398      R01HL115195  ...    NaN         11.0   698308.0   \n",
       "\n",
       "        TOTAL_COST_SUB_PROJECT       FUNDING_MECHANISM  FUNDING_Ics  \\\n",
       "616394                 58761.0        RESEARCH CENTERS          NaN   \n",
       "616395                     NaN      NON-SBIR/STTR RPGS          NaN   \n",
       "616396                     NaN      NON-SBIR/STTR RPGS          NaN   \n",
       "616397                     NaN  OTHER RESEARCH-RELATED          NaN   \n",
       "616398                     NaN      NON-SBIR/STTR RPGS          NaN   \n",
       "\n",
       "       DIRECT_COST_AMT INDIRECT_COST_AMT ORG_IPF_CODE OPPORTUNITY NUMBER  \n",
       "616394         36050.0           22711.0    2021601.0         PAR-16-415  \n",
       "616395         32534.0           19195.0    2059802.0          PA-21-268  \n",
       "616396         73553.0           38993.0    6297007.0          PA-21-268  \n",
       "616397        178032.0           14243.0    1080401.0          PA-19-119  \n",
       "616398        527713.0          170595.0     490201.0          PA-21-268  \n",
       "\n",
       "[5 rows x 48 columns]"
      ]
     },
     "execution_count": 40,
     "metadata": {},
     "output_type": "execute_result"
    }
   ],
   "source": [
    "projects.tail()"
   ]
  },
  {
   "cell_type": "code",
   "execution_count": 41,
   "id": "f34ea2f8",
   "metadata": {},
   "outputs": [],
   "source": [
    "projects.columns = projects.columns.str.lower()"
   ]
  },
  {
   "cell_type": "code",
   "execution_count": 42,
   "id": "b2e00e63",
   "metadata": {},
   "outputs": [
    {
     "data": {
      "text/plain": [
       "Index(['application_id', 'activity', 'administering_ic', 'application_type',\n",
       "       'arra_funded', 'award_notice_date', 'budget_start', 'budget_end',\n",
       "       'cfda_code', 'core_project_num', 'ed_inst_type', 'foa_number',\n",
       "       'full_project_num', 'subproject_id', 'funding_ics', 'fy', 'ic_name',\n",
       "       'nih_spending_cats', 'org_city', 'org_country', 'org_dept',\n",
       "       'org_district', 'org_duns', 'org_fips', 'org_name', 'org_state',\n",
       "       'org_zipcode', 'phr', 'pi_ids', 'pi_names', 'program_officer_name',\n",
       "       'project_start', 'project_end', 'project_terms', 'project_title',\n",
       "       'serial_number', 'study_section', 'study_section_name', 'suffix',\n",
       "       'support_year', 'total_cost', 'total_cost_sub_project',\n",
       "       'funding_mechanism', 'funding_ics', 'direct_cost_amt',\n",
       "       'indirect_cost_amt', 'org_ipf_code', 'opportunity number'],\n",
       "      dtype='object')"
      ]
     },
     "execution_count": 42,
     "metadata": {},
     "output_type": "execute_result"
    }
   ],
   "source": [
    "projects.columns"
   ]
  },
  {
   "cell_type": "markdown",
   "id": "c3c0a42f",
   "metadata": {},
   "source": [
    "### Save partial results"
   ]
  },
  {
   "cell_type": "code",
   "execution_count": 43,
   "id": "47cfbc1e",
   "metadata": {},
   "outputs": [],
   "source": [
    "# Partial results\n",
    "# publications.to_csv('data/processing/publications.csv')\n",
    "# link_tables.to_csv('data/processing/link_tables.csv')\n",
    "# projects.to_csv('data/processing/projects.csv')"
   ]
  },
  {
   "cell_type": "markdown",
   "id": "02b0d02b",
   "metadata": {},
   "source": [
    "## Results"
   ]
  },
  {
   "cell_type": "code",
   "execution_count": 44,
   "id": "365167a0",
   "metadata": {},
   "outputs": [
    {
     "data": {
      "text/plain": [
       "Index(['pmid', 'project_number'], dtype='object')"
      ]
     },
     "execution_count": 44,
     "metadata": {},
     "output_type": "execute_result"
    }
   ],
   "source": [
    "link_tables.columns"
   ]
  },
  {
   "cell_type": "code",
   "execution_count": 45,
   "id": "60cb6c8b",
   "metadata": {},
   "outputs": [
    {
     "data": {
      "text/plain": [
       "Index(['affiliation', 'author_list', 'country', 'issn', 'journal_issue',\n",
       "       'journal_title', 'journal_title_abbr', 'journal_volume', 'lang',\n",
       "       'page_number', 'pmc_id', 'pmid', 'pub_date', 'pub_title', 'pub_year'],\n",
       "      dtype='object')"
      ]
     },
     "execution_count": 45,
     "metadata": {},
     "output_type": "execute_result"
    }
   ],
   "source": [
    "publications.columns"
   ]
  },
  {
   "cell_type": "code",
   "execution_count": 46,
   "id": "7d566c36",
   "metadata": {},
   "outputs": [
    {
     "data": {
      "text/plain": [
       "Index(['pmcid', 'doi', 'affiliation', 'author_list', 'country', 'issn',\n",
       "       'journal_issue', 'journal_title', 'journal_title_abbr',\n",
       "       'journal_volume', 'lang', 'page_number', 'pmc_id', 'pmid', 'pub_date',\n",
       "       'pub_title', 'pub_year', 'project_number'],\n",
       "      dtype='object')"
      ]
     },
     "execution_count": 46,
     "metadata": {},
     "output_type": "execute_result"
    }
   ],
   "source": [
    "merged_df2.columns # link_tables + publications"
   ]
  },
  {
   "cell_type": "code",
   "execution_count": 47,
   "id": "dd2b7d5e",
   "metadata": {},
   "outputs": [
    {
     "name": "stdout",
     "output_type": "stream",
     "text": [
      "The two columns contain the same data.\n"
     ]
    }
   ],
   "source": [
    "# Remove pmc_id column (duplicate)\n",
    "are_columns_equal = merged_df2[\"pmcid\"].equals(merged_df2[\"pmc_id\"])\n",
    "\n",
    "if are_columns_equal:\n",
    "    print(\"The two columns contain the same data.\")\n",
    "else:\n",
    "    print(\"The two columns do not contain the same data.\")"
   ]
  },
  {
   "cell_type": "code",
   "execution_count": 48,
   "id": "06cfc6be",
   "metadata": {},
   "outputs": [],
   "source": [
    "merged_df2 = merged_df2.drop(\"pmc_id\", axis=1)"
   ]
  },
  {
   "cell_type": "code",
   "execution_count": 49,
   "id": "21cd9dca",
   "metadata": {},
   "outputs": [
    {
     "data": {
      "text/plain": [
       "Index(['pmcid', 'doi', 'affiliation', 'author_list', 'country', 'issn',\n",
       "       'journal_issue', 'journal_title', 'journal_title_abbr',\n",
       "       'journal_volume', 'lang', 'page_number', 'pmid', 'pub_date',\n",
       "       'pub_title', 'pub_year', 'project_number'],\n",
       "      dtype='object')"
      ]
     },
     "execution_count": 49,
     "metadata": {},
     "output_type": "execute_result"
    }
   ],
   "source": [
    "merged_df2.columns # link_tables + publications"
   ]
  },
  {
   "cell_type": "code",
   "execution_count": 50,
   "id": "f89b30f1",
   "metadata": {},
   "outputs": [],
   "source": [
    "publ_list = ['pub_' + col if 'pub_' not in col else col for col in merged_df2.columns[2:]]\n",
    "merged_df2.columns = ['pmcid', 'doi'] + publ_list"
   ]
  },
  {
   "cell_type": "code",
   "execution_count": 51,
   "id": "4813284f",
   "metadata": {},
   "outputs": [
    {
     "data": {
      "text/plain": [
       "Index(['pmcid', 'doi', 'pub_affiliation', 'pub_author_list', 'pub_country',\n",
       "       'pub_issn', 'pub_journal_issue', 'pub_journal_title',\n",
       "       'pub_journal_title_abbr', 'pub_journal_volume', 'pub_lang',\n",
       "       'pub_page_number', 'pub_pmid', 'pub_date', 'pub_title', 'pub_year',\n",
       "       'pub_project_number'],\n",
       "      dtype='object')"
      ]
     },
     "execution_count": 51,
     "metadata": {},
     "output_type": "execute_result"
    }
   ],
   "source": [
    "merged_df2.columns # link_tables + publications"
   ]
  },
  {
   "cell_type": "code",
   "execution_count": 52,
   "id": "af9e0689",
   "metadata": {},
   "outputs": [
    {
     "name": "stdout",
     "output_type": "stream",
     "text": [
      "Unique pmc-ids: 22159\n"
     ]
    }
   ],
   "source": [
    "print(f\"Unique pmc-ids: {len(merged_df2.pmcid.unique())}\")"
   ]
  },
  {
   "cell_type": "code",
   "execution_count": 53,
   "id": "a0d68068",
   "metadata": {},
   "outputs": [
    {
     "data": {
      "text/plain": [
       "Index(['application_id', 'activity', 'administering_ic', 'application_type',\n",
       "       'arra_funded', 'award_notice_date', 'budget_start', 'budget_end',\n",
       "       'cfda_code', 'core_project_num', 'ed_inst_type', 'foa_number',\n",
       "       'full_project_num', 'subproject_id', 'funding_ics', 'fy', 'ic_name',\n",
       "       'nih_spending_cats', 'org_city', 'org_country', 'org_dept',\n",
       "       'org_district', 'org_duns', 'org_fips', 'org_name', 'org_state',\n",
       "       'org_zipcode', 'phr', 'pi_ids', 'pi_names', 'program_officer_name',\n",
       "       'project_start', 'project_end', 'project_terms', 'project_title',\n",
       "       'serial_number', 'study_section', 'study_section_name', 'suffix',\n",
       "       'support_year', 'total_cost', 'total_cost_sub_project',\n",
       "       'funding_mechanism', 'funding_ics', 'direct_cost_amt',\n",
       "       'indirect_cost_amt', 'org_ipf_code', 'opportunity number'],\n",
       "      dtype='object')"
      ]
     },
     "execution_count": 53,
     "metadata": {},
     "output_type": "execute_result"
    }
   ],
   "source": [
    "projects.columns"
   ]
  },
  {
   "cell_type": "code",
   "execution_count": 54,
   "id": "a612781c",
   "metadata": {},
   "outputs": [],
   "source": [
    "proj_list = ['proj_' + col if 'proj_' not in col else col for col in projects.columns]\n",
    "projects.columns =  proj_list"
   ]
  },
  {
   "cell_type": "code",
   "execution_count": 55,
   "id": "083822ff",
   "metadata": {},
   "outputs": [
    {
     "data": {
      "text/plain": [
       "Index(['proj_application_id', 'proj_activity', 'proj_administering_ic',\n",
       "       'proj_application_type', 'proj_arra_funded', 'proj_award_notice_date',\n",
       "       'proj_budget_start', 'proj_budget_end', 'proj_cfda_code',\n",
       "       'proj_core_project_num', 'proj_ed_inst_type', 'proj_foa_number',\n",
       "       'proj_full_project_num', 'proj_subproject_id', 'proj_funding_ics',\n",
       "       'proj_fy', 'proj_ic_name', 'proj_nih_spending_cats', 'proj_org_city',\n",
       "       'proj_org_country', 'proj_org_dept', 'proj_org_district',\n",
       "       'proj_org_duns', 'proj_org_fips', 'proj_org_name', 'proj_org_state',\n",
       "       'proj_org_zipcode', 'proj_phr', 'proj_pi_ids', 'proj_pi_names',\n",
       "       'proj_program_officer_name', 'proj_project_start', 'proj_project_end',\n",
       "       'proj_project_terms', 'proj_project_title', 'proj_serial_number',\n",
       "       'proj_study_section', 'proj_study_section_name', 'proj_suffix',\n",
       "       'proj_support_year', 'proj_total_cost', 'proj_total_cost_sub_project',\n",
       "       'proj_funding_mechanism', 'proj_funding_ics', 'proj_direct_cost_amt',\n",
       "       'proj_indirect_cost_amt', 'proj_org_ipf_code',\n",
       "       'proj_opportunity number'],\n",
       "      dtype='object')"
      ]
     },
     "execution_count": 55,
     "metadata": {},
     "output_type": "execute_result"
    }
   ],
   "source": [
    "projects.columns"
   ]
  },
  {
   "cell_type": "code",
   "execution_count": 56,
   "id": "37eb81ec",
   "metadata": {},
   "outputs": [
    {
     "name": "stdout",
     "output_type": "stream",
     "text": [
      "K08CA133103\n",
      "F31GM009614\n"
     ]
    }
   ],
   "source": [
    "# Check \n",
    "print(merged_df2.pub_project_number.loc[0])\n",
    "print(projects.proj_core_project_num.loc[0])"
   ]
  },
  {
   "cell_type": "code",
   "execution_count": 57,
   "id": "28754776",
   "metadata": {},
   "outputs": [],
   "source": [
    "# Final results\n",
    "results = pd.merge(merged_df2, projects, left_on='pub_project_number', right_on='proj_core_project_num', how='left')"
   ]
  },
  {
   "cell_type": "code",
   "execution_count": 58,
   "id": "4e74677b",
   "metadata": {},
   "outputs": [],
   "source": [
    "# Check\n",
    "results['pmcid'] = results['pmcid'].apply(lambda x: 'PMC' + str(x))"
   ]
  },
  {
   "cell_type": "code",
   "execution_count": 59,
   "id": "242e6e97",
   "metadata": {},
   "outputs": [
    {
     "data": {
      "text/html": [
       "<div>\n",
       "<style scoped>\n",
       "    .dataframe tbody tr th:only-of-type {\n",
       "        vertical-align: middle;\n",
       "    }\n",
       "\n",
       "    .dataframe tbody tr th {\n",
       "        vertical-align: top;\n",
       "    }\n",
       "\n",
       "    .dataframe thead th {\n",
       "        text-align: right;\n",
       "    }\n",
       "</style>\n",
       "<table border=\"1\" class=\"dataframe\">\n",
       "  <thead>\n",
       "    <tr style=\"text-align: right;\">\n",
       "      <th></th>\n",
       "      <th>pmcid</th>\n",
       "      <th>doi</th>\n",
       "      <th>pub_affiliation</th>\n",
       "      <th>pub_author_list</th>\n",
       "      <th>pub_country</th>\n",
       "      <th>pub_issn</th>\n",
       "      <th>pub_journal_issue</th>\n",
       "      <th>pub_journal_title</th>\n",
       "      <th>pub_journal_title_abbr</th>\n",
       "      <th>pub_journal_volume</th>\n",
       "      <th>...</th>\n",
       "      <th>proj_suffix</th>\n",
       "      <th>proj_support_year</th>\n",
       "      <th>proj_total_cost</th>\n",
       "      <th>proj_total_cost_sub_project</th>\n",
       "      <th>proj_funding_mechanism</th>\n",
       "      <th>proj_funding_ics</th>\n",
       "      <th>proj_direct_cost_amt</th>\n",
       "      <th>proj_indirect_cost_amt</th>\n",
       "      <th>proj_org_ipf_code</th>\n",
       "      <th>proj_opportunity number</th>\n",
       "    </tr>\n",
       "  </thead>\n",
       "  <tbody>\n",
       "    <tr>\n",
       "      <th>0</th>\n",
       "      <td>PMC3387267</td>\n",
       "      <td>10.1371/journal.pone.0039725</td>\n",
       "      <td>Department of Medicine, Stem Cell Program and ...</td>\n",
       "      <td>Ma, Wenxue; Gutierrez, Alejandro; Goff, Daniel...</td>\n",
       "      <td>United States</td>\n",
       "      <td>1932-6203</td>\n",
       "      <td>6</td>\n",
       "      <td>PloS one</td>\n",
       "      <td>PLoS One</td>\n",
       "      <td>7</td>\n",
       "      <td>...</td>\n",
       "      <td>NaN</td>\n",
       "      <td>1.0</td>\n",
       "      <td>140940.0</td>\n",
       "      <td>NaN</td>\n",
       "      <td>NaN</td>\n",
       "      <td>NaN</td>\n",
       "      <td>NaN</td>\n",
       "      <td>NaN</td>\n",
       "      <td>NaN</td>\n",
       "      <td>NaN</td>\n",
       "    </tr>\n",
       "    <tr>\n",
       "      <th>1</th>\n",
       "      <td>PMC3387267</td>\n",
       "      <td>10.1371/journal.pone.0039725</td>\n",
       "      <td>Department of Medicine, Stem Cell Program and ...</td>\n",
       "      <td>Ma, Wenxue; Gutierrez, Alejandro; Goff, Daniel...</td>\n",
       "      <td>United States</td>\n",
       "      <td>1932-6203</td>\n",
       "      <td>6</td>\n",
       "      <td>PloS one</td>\n",
       "      <td>PLoS One</td>\n",
       "      <td>7</td>\n",
       "      <td>...</td>\n",
       "      <td>NaN</td>\n",
       "      <td>2.0</td>\n",
       "      <td>140940.0</td>\n",
       "      <td>NaN</td>\n",
       "      <td>Other Research Related</td>\n",
       "      <td>NaN</td>\n",
       "      <td>NaN</td>\n",
       "      <td>NaN</td>\n",
       "      <td>NaN</td>\n",
       "      <td>NaN</td>\n",
       "    </tr>\n",
       "  </tbody>\n",
       "</table>\n",
       "<p>2 rows × 65 columns</p>\n",
       "</div>"
      ],
      "text/plain": [
       "        pmcid                           doi  \\\n",
       "0  PMC3387267  10.1371/journal.pone.0039725   \n",
       "1  PMC3387267  10.1371/journal.pone.0039725   \n",
       "\n",
       "                                     pub_affiliation  \\\n",
       "0  Department of Medicine, Stem Cell Program and ...   \n",
       "1  Department of Medicine, Stem Cell Program and ...   \n",
       "\n",
       "                                     pub_author_list    pub_country  \\\n",
       "0  Ma, Wenxue; Gutierrez, Alejandro; Goff, Daniel...  United States   \n",
       "1  Ma, Wenxue; Gutierrez, Alejandro; Goff, Daniel...  United States   \n",
       "\n",
       "    pub_issn pub_journal_issue pub_journal_title pub_journal_title_abbr  \\\n",
       "0  1932-6203                 6          PloS one               PLoS One   \n",
       "1  1932-6203                 6          PloS one               PLoS One   \n",
       "\n",
       "  pub_journal_volume  ... proj_suffix proj_support_year proj_total_cost  \\\n",
       "0                  7  ...         NaN               1.0        140940.0   \n",
       "1                  7  ...         NaN               2.0        140940.0   \n",
       "\n",
       "  proj_total_cost_sub_project  proj_funding_mechanism  proj_funding_ics  \\\n",
       "0                         NaN                     NaN               NaN   \n",
       "1                         NaN  Other Research Related               NaN   \n",
       "\n",
       "  proj_direct_cost_amt  proj_indirect_cost_amt proj_org_ipf_code  \\\n",
       "0                  NaN                     NaN               NaN   \n",
       "1                  NaN                     NaN               NaN   \n",
       "\n",
       "  proj_opportunity number  \n",
       "0                     NaN  \n",
       "1                     NaN  \n",
       "\n",
       "[2 rows x 65 columns]"
      ]
     },
     "execution_count": 59,
     "metadata": {},
     "output_type": "execute_result"
    }
   ],
   "source": [
    "results.head(2)"
   ]
  },
  {
   "cell_type": "code",
   "execution_count": 76,
   "id": "a1aa39ee",
   "metadata": {},
   "outputs": [
    {
     "name": "stdout",
     "output_type": "stream",
     "text": [
      "Unique pmc-ids (original): 22159\n",
      "Unique pmc-id (results): 22159\n"
     ]
    }
   ],
   "source": [
    "# Check pmc-ids \n",
    "print(f\"Unique pmc-ids (original): {len(merged_df2.pmcid.unique())}\")\n",
    "print(f\"Unique pmc-id (results): {len(results.pmcid.unique())}\")"
   ]
  },
  {
   "cell_type": "code",
   "execution_count": 64,
   "id": "60343a56",
   "metadata": {},
   "outputs": [
    {
     "data": {
      "text/plain": [
       "Index(['pmcid', 'doi', 'pub_affiliation', 'pub_author_list', 'pub_country',\n",
       "       'pub_issn', 'pub_journal_issue', 'pub_journal_title',\n",
       "       'pub_journal_title_abbr', 'pub_journal_volume', 'pub_lang',\n",
       "       'pub_page_number', 'pub_pmid', 'pub_date', 'pub_title', 'pub_year',\n",
       "       'pub_project_number', 'proj_application_id', 'proj_activity',\n",
       "       'proj_administering_ic', 'proj_application_type', 'proj_arra_funded',\n",
       "       'proj_award_notice_date', 'proj_budget_start', 'proj_budget_end',\n",
       "       'proj_cfda_code', 'proj_core_project_num', 'proj_ed_inst_type',\n",
       "       'proj_foa_number', 'proj_full_project_num', 'proj_subproject_id',\n",
       "       'proj_funding_ics', 'proj_fy', 'proj_ic_name', 'proj_nih_spending_cats',\n",
       "       'proj_org_city', 'proj_org_country', 'proj_org_dept',\n",
       "       'proj_org_district', 'proj_org_duns', 'proj_org_fips', 'proj_org_name',\n",
       "       'proj_org_state', 'proj_org_zipcode', 'proj_phr', 'proj_pi_ids',\n",
       "       'proj_pi_names', 'proj_program_officer_name', 'proj_project_start',\n",
       "       'proj_project_end', 'proj_project_terms', 'proj_project_title',\n",
       "       'proj_serial_number', 'proj_study_section', 'proj_study_section_name',\n",
       "       'proj_suffix', 'proj_support_year', 'proj_total_cost',\n",
       "       'proj_total_cost_sub_project', 'proj_funding_mechanism',\n",
       "       'proj_funding_ics', 'proj_direct_cost_amt', 'proj_indirect_cost_amt',\n",
       "       'proj_org_ipf_code', 'proj_opportunity number'],\n",
       "      dtype='object')"
      ]
     },
     "execution_count": 64,
     "metadata": {},
     "output_type": "execute_result"
    }
   ],
   "source": [
    "results.columns"
   ]
  },
  {
   "cell_type": "markdown",
   "id": "02e834b9",
   "metadata": {},
   "source": [
    "### Save final results"
   ]
  },
  {
   "cell_type": "code",
   "execution_count": 84,
   "id": "29f6a2ce",
   "metadata": {},
   "outputs": [],
   "source": [
    "# Final results\n",
    "# results.to_csv('data/output/nih_projs_publs.csv')"
   ]
  },
  {
   "cell_type": "markdown",
   "id": "bb21daa4",
   "metadata": {},
   "source": [
    "### Random check"
   ]
  },
  {
   "cell_type": "code",
   "execution_count": 85,
   "id": "81978c27",
   "metadata": {},
   "outputs": [],
   "source": [
    "check = pd.read_csv('data/output/nih_projs_publs.csv')\n",
    "check.head()"
   ]
  },
  {
   "cell_type": "code",
   "execution_count": 78,
   "id": "0d6c0362",
   "metadata": {},
   "outputs": [
    {
     "data": {
      "text/plain": [
       "Index(['affiliation', 'author_list', 'country', 'issn', 'journal_issue',\n",
       "       'journal_title', 'journal_title_abbr', 'journal_volume', 'lang',\n",
       "       'page_number', 'pmc_id', 'pmid', 'pub_date', 'pub_title', 'pub_year'],\n",
       "      dtype='object')"
      ]
     },
     "execution_count": 78,
     "metadata": {},
     "output_type": "execute_result"
    }
   ],
   "source": [
    "publications.columns"
   ]
  },
  {
   "cell_type": "code",
   "execution_count": 79,
   "id": "0d7313ab",
   "metadata": {},
   "outputs": [
    {
     "data": {
      "text/plain": [
       "Index(['proj_application_id', 'proj_activity', 'proj_administering_ic',\n",
       "       'proj_application_type', 'proj_arra_funded', 'proj_award_notice_date',\n",
       "       'proj_budget_start', 'proj_budget_end', 'proj_cfda_code',\n",
       "       'proj_core_project_num', 'proj_ed_inst_type', 'proj_foa_number',\n",
       "       'proj_full_project_num', 'proj_subproject_id', 'proj_funding_ics',\n",
       "       'proj_fy', 'proj_ic_name', 'proj_nih_spending_cats', 'proj_org_city',\n",
       "       'proj_org_country', 'proj_org_dept', 'proj_org_district',\n",
       "       'proj_org_duns', 'proj_org_fips', 'proj_org_name', 'proj_org_state',\n",
       "       'proj_org_zipcode', 'proj_phr', 'proj_pi_ids', 'proj_pi_names',\n",
       "       'proj_program_officer_name', 'proj_project_start', 'proj_project_end',\n",
       "       'proj_project_terms', 'proj_project_title', 'proj_serial_number',\n",
       "       'proj_study_section', 'proj_study_section_name', 'proj_suffix',\n",
       "       'proj_support_year', 'proj_total_cost', 'proj_total_cost_sub_project',\n",
       "       'proj_funding_mechanism', 'proj_funding_ics', 'proj_direct_cost_amt',\n",
       "       'proj_indirect_cost_amt', 'proj_org_ipf_code',\n",
       "       'proj_opportunity number'],\n",
       "      dtype='object')"
      ]
     },
     "execution_count": 79,
     "metadata": {},
     "output_type": "execute_result"
    }
   ],
   "source": [
    "projects.columns"
   ]
  },
  {
   "cell_type": "code",
   "execution_count": 83,
   "id": "658d979b",
   "metadata": {},
   "outputs": [
    {
     "name": "stdout",
     "output_type": "stream",
     "text": [
      "0          22768113\n",
      "1          22768113\n",
      "2          22768113\n",
      "3          22768113\n",
      "4          22768113\n",
      "             ...   \n",
      "3945707    26018549\n",
      "3945708    26018549\n",
      "3945709    26018549\n",
      "3945710    26018549\n",
      "3945711    26018549\n",
      "Name: pub_pmid, Length: 3944868, dtype: object\n",
      "0          K08CA133103\n",
      "1          K08CA133103\n",
      "2          K08CA133103\n",
      "3          K08CA133103\n",
      "4          K08CA133103\n",
      "              ...     \n",
      "3945707    R01HL069057\n",
      "3945708    R01HL069057\n",
      "3945709    R01HL069057\n",
      "3945710    R01HL069057\n",
      "3945711    R01HL069057\n",
      "Name: proj_core_project_num, Length: 3944868, dtype: object\n"
     ]
    }
   ],
   "source": [
    "# Publication Y, project Y\n",
    "example1 = results[(results.pub_pmid.notna()) & (results.proj_core_project_num.notna())]\n",
    "print(example1['pub_pmid'])\n",
    "print(example1['proj_core_project_num'])"
   ]
  },
  {
   "cell_type": "code",
   "execution_count": 74,
   "id": "6b32a1c6",
   "metadata": {},
   "outputs": [
    {
     "data": {
      "text/html": [
       "<div>\n",
       "<style scoped>\n",
       "    .dataframe tbody tr th:only-of-type {\n",
       "        vertical-align: middle;\n",
       "    }\n",
       "\n",
       "    .dataframe tbody tr th {\n",
       "        vertical-align: top;\n",
       "    }\n",
       "\n",
       "    .dataframe thead th {\n",
       "        text-align: right;\n",
       "    }\n",
       "</style>\n",
       "<table border=\"1\" class=\"dataframe\">\n",
       "  <thead>\n",
       "    <tr style=\"text-align: right;\">\n",
       "      <th></th>\n",
       "      <th>affiliation</th>\n",
       "      <th>author_list</th>\n",
       "      <th>country</th>\n",
       "      <th>issn</th>\n",
       "      <th>journal_issue</th>\n",
       "      <th>journal_title</th>\n",
       "      <th>journal_title_abbr</th>\n",
       "      <th>journal_volume</th>\n",
       "      <th>lang</th>\n",
       "      <th>page_number</th>\n",
       "      <th>pmc_id</th>\n",
       "      <th>pmid</th>\n",
       "      <th>pub_date</th>\n",
       "      <th>pub_title</th>\n",
       "      <th>pub_year</th>\n",
       "    </tr>\n",
       "  </thead>\n",
       "  <tbody>\n",
       "    <tr>\n",
       "      <th>1552804</th>\n",
       "      <td>Department of Medicine, Stem Cell Program and ...</td>\n",
       "      <td>Ma, Wenxue; Gutierrez, Alejandro; Goff, Daniel...</td>\n",
       "      <td>United States</td>\n",
       "      <td>1932-6203</td>\n",
       "      <td>6</td>\n",
       "      <td>PloS one</td>\n",
       "      <td>PLoS One</td>\n",
       "      <td>7</td>\n",
       "      <td>eng</td>\n",
       "      <td>e39725</td>\n",
       "      <td>3387267</td>\n",
       "      <td>22768113</td>\n",
       "      <td>2012</td>\n",
       "      <td>NOTCH1 signaling promotes human T-cell acute l...</td>\n",
       "      <td>2012</td>\n",
       "    </tr>\n",
       "  </tbody>\n",
       "</table>\n",
       "</div>"
      ],
      "text/plain": [
       "                                               affiliation  \\\n",
       "1552804  Department of Medicine, Stem Cell Program and ...   \n",
       "\n",
       "                                               author_list        country  \\\n",
       "1552804  Ma, Wenxue; Gutierrez, Alejandro; Goff, Daniel...  United States   \n",
       "\n",
       "              issn journal_issue journal_title journal_title_abbr  \\\n",
       "1552804  1932-6203             6      PloS one           PLoS One   \n",
       "\n",
       "        journal_volume lang page_number   pmc_id      pmid pub_date  \\\n",
       "1552804              7  eng      e39725  3387267  22768113     2012   \n",
       "\n",
       "                                                 pub_title  pub_year  \n",
       "1552804  NOTCH1 signaling promotes human T-cell acute l...      2012  "
      ]
     },
     "execution_count": 74,
     "metadata": {},
     "output_type": "execute_result"
    }
   ],
   "source": [
    "publications[publications.pmid == '22768113']"
   ]
  },
  {
   "cell_type": "code",
   "execution_count": 80,
   "id": "834b19aa",
   "metadata": {},
   "outputs": [
    {
     "data": {
      "text/html": [
       "<div>\n",
       "<style scoped>\n",
       "    .dataframe tbody tr th:only-of-type {\n",
       "        vertical-align: middle;\n",
       "    }\n",
       "\n",
       "    .dataframe tbody tr th {\n",
       "        vertical-align: top;\n",
       "    }\n",
       "\n",
       "    .dataframe thead th {\n",
       "        text-align: right;\n",
       "    }\n",
       "</style>\n",
       "<table border=\"1\" class=\"dataframe\">\n",
       "  <thead>\n",
       "    <tr style=\"text-align: right;\">\n",
       "      <th></th>\n",
       "      <th>proj_application_id</th>\n",
       "      <th>proj_activity</th>\n",
       "      <th>proj_administering_ic</th>\n",
       "      <th>proj_application_type</th>\n",
       "      <th>proj_arra_funded</th>\n",
       "      <th>proj_award_notice_date</th>\n",
       "      <th>proj_budget_start</th>\n",
       "      <th>proj_budget_end</th>\n",
       "      <th>proj_cfda_code</th>\n",
       "      <th>proj_core_project_num</th>\n",
       "      <th>...</th>\n",
       "      <th>proj_suffix</th>\n",
       "      <th>proj_support_year</th>\n",
       "      <th>proj_total_cost</th>\n",
       "      <th>proj_total_cost_sub_project</th>\n",
       "      <th>proj_funding_mechanism</th>\n",
       "      <th>proj_funding_ics</th>\n",
       "      <th>proj_direct_cost_amt</th>\n",
       "      <th>proj_indirect_cost_amt</th>\n",
       "      <th>proj_org_ipf_code</th>\n",
       "      <th>proj_opportunity number</th>\n",
       "    </tr>\n",
       "  </thead>\n",
       "  <tbody>\n",
       "    <tr>\n",
       "      <th>285985</th>\n",
       "      <td>7449856</td>\n",
       "      <td>K08</td>\n",
       "      <td>CA</td>\n",
       "      <td>1.0</td>\n",
       "      <td>NaN</td>\n",
       "      <td>2008-05-27T00:00:00</td>\n",
       "      <td>07/01/2008</td>\n",
       "      <td>06/30/2009</td>\n",
       "      <td>398.0</td>\n",
       "      <td>K08CA133103</td>\n",
       "      <td>...</td>\n",
       "      <td>NaN</td>\n",
       "      <td>1.0</td>\n",
       "      <td>140940.0</td>\n",
       "      <td>NaN</td>\n",
       "      <td>NaN</td>\n",
       "      <td>NaN</td>\n",
       "      <td>NaN</td>\n",
       "      <td>NaN</td>\n",
       "      <td>NaN</td>\n",
       "      <td>NaN</td>\n",
       "    </tr>\n",
       "    <tr>\n",
       "      <th>319944</th>\n",
       "      <td>7628345</td>\n",
       "      <td>K08</td>\n",
       "      <td>CA</td>\n",
       "      <td>5.0</td>\n",
       "      <td>N</td>\n",
       "      <td>06/05/2009</td>\n",
       "      <td>07/01/2009</td>\n",
       "      <td>06/30/2010</td>\n",
       "      <td>398.0</td>\n",
       "      <td>K08CA133103</td>\n",
       "      <td>...</td>\n",
       "      <td>NaN</td>\n",
       "      <td>2.0</td>\n",
       "      <td>140940.0</td>\n",
       "      <td>NaN</td>\n",
       "      <td>Other Research Related</td>\n",
       "      <td>NaN</td>\n",
       "      <td>NaN</td>\n",
       "      <td>NaN</td>\n",
       "      <td>NaN</td>\n",
       "      <td>NaN</td>\n",
       "    </tr>\n",
       "    <tr>\n",
       "      <th>345768</th>\n",
       "      <td>7864277</td>\n",
       "      <td>K08</td>\n",
       "      <td>CA</td>\n",
       "      <td>5.0</td>\n",
       "      <td>N</td>\n",
       "      <td>6/29/2010</td>\n",
       "      <td>7/1/2010</td>\n",
       "      <td>6/30/2011</td>\n",
       "      <td>398.0</td>\n",
       "      <td>K08CA133103</td>\n",
       "      <td>...</td>\n",
       "      <td>NaN</td>\n",
       "      <td>3.0</td>\n",
       "      <td>140940.0</td>\n",
       "      <td>NaN</td>\n",
       "      <td>Other Research Related</td>\n",
       "      <td>NaN</td>\n",
       "      <td>NaN</td>\n",
       "      <td>NaN</td>\n",
       "      <td>NaN</td>\n",
       "      <td>NaN</td>\n",
       "    </tr>\n",
       "    <tr>\n",
       "      <th>370122</th>\n",
       "      <td>8104193</td>\n",
       "      <td>K08</td>\n",
       "      <td>CA</td>\n",
       "      <td>5.0</td>\n",
       "      <td>N</td>\n",
       "      <td>06/29/2011</td>\n",
       "      <td>07/01/2011</td>\n",
       "      <td>02/29/2012</td>\n",
       "      <td>398.0</td>\n",
       "      <td>K08CA133103</td>\n",
       "      <td>...</td>\n",
       "      <td>NaN</td>\n",
       "      <td>4.0</td>\n",
       "      <td>140940.0</td>\n",
       "      <td>NaN</td>\n",
       "      <td>Other Research Related</td>\n",
       "      <td>NaN</td>\n",
       "      <td>NaN</td>\n",
       "      <td>NaN</td>\n",
       "      <td>NaN</td>\n",
       "      <td>NaN</td>\n",
       "    </tr>\n",
       "    <tr>\n",
       "      <th>388744</th>\n",
       "      <td>8292154</td>\n",
       "      <td>K08</td>\n",
       "      <td>CA</td>\n",
       "      <td>7.0</td>\n",
       "      <td>N</td>\n",
       "      <td>9/7/2012</td>\n",
       "      <td>7/1/2012</td>\n",
       "      <td>6/30/2013</td>\n",
       "      <td>398.0</td>\n",
       "      <td>K08CA133103</td>\n",
       "      <td>...</td>\n",
       "      <td>NaN</td>\n",
       "      <td>5.0</td>\n",
       "      <td>140940.0</td>\n",
       "      <td>NaN</td>\n",
       "      <td>OTHER RESEARCH-RELATED</td>\n",
       "      <td>NCI:140940\\</td>\n",
       "      <td>130500.0</td>\n",
       "      <td>10440.0</td>\n",
       "      <td>NaN</td>\n",
       "      <td>NaN</td>\n",
       "    </tr>\n",
       "  </tbody>\n",
       "</table>\n",
       "<p>5 rows × 48 columns</p>\n",
       "</div>"
      ],
      "text/plain": [
       "        proj_application_id proj_activity proj_administering_ic  \\\n",
       "285985              7449856           K08                    CA   \n",
       "319944              7628345           K08                    CA   \n",
       "345768              7864277           K08                    CA   \n",
       "370122              8104193           K08                    CA   \n",
       "388744              8292154           K08                    CA   \n",
       "\n",
       "        proj_application_type proj_arra_funded proj_award_notice_date  \\\n",
       "285985                    1.0              NaN    2008-05-27T00:00:00   \n",
       "319944                    5.0                N             06/05/2009   \n",
       "345768                    5.0                N              6/29/2010   \n",
       "370122                    5.0                N             06/29/2011   \n",
       "388744                    7.0                N               9/7/2012   \n",
       "\n",
       "       proj_budget_start proj_budget_end proj_cfda_code proj_core_project_num  \\\n",
       "285985        07/01/2008      06/30/2009          398.0           K08CA133103   \n",
       "319944        07/01/2009      06/30/2010          398.0           K08CA133103   \n",
       "345768          7/1/2010       6/30/2011          398.0           K08CA133103   \n",
       "370122        07/01/2011      02/29/2012          398.0           K08CA133103   \n",
       "388744          7/1/2012       6/30/2013          398.0           K08CA133103   \n",
       "\n",
       "        ... proj_suffix proj_support_year proj_total_cost  \\\n",
       "285985  ...         NaN               1.0        140940.0   \n",
       "319944  ...         NaN               2.0        140940.0   \n",
       "345768  ...         NaN               3.0        140940.0   \n",
       "370122  ...         NaN               4.0        140940.0   \n",
       "388744  ...         NaN               5.0        140940.0   \n",
       "\n",
       "        proj_total_cost_sub_project  proj_funding_mechanism  proj_funding_ics  \\\n",
       "285985                          NaN                     NaN               NaN   \n",
       "319944                          NaN  Other Research Related               NaN   \n",
       "345768                          NaN  Other Research Related               NaN   \n",
       "370122                          NaN  Other Research Related               NaN   \n",
       "388744                          NaN  OTHER RESEARCH-RELATED       NCI:140940\\   \n",
       "\n",
       "       proj_direct_cost_amt proj_indirect_cost_amt proj_org_ipf_code  \\\n",
       "285985                  NaN                    NaN               NaN   \n",
       "319944                  NaN                    NaN               NaN   \n",
       "345768                  NaN                    NaN               NaN   \n",
       "370122                  NaN                    NaN               NaN   \n",
       "388744             130500.0                10440.0               NaN   \n",
       "\n",
       "       proj_opportunity number  \n",
       "285985                     NaN  \n",
       "319944                     NaN  \n",
       "345768                     NaN  \n",
       "370122                     NaN  \n",
       "388744                     NaN  \n",
       "\n",
       "[5 rows x 48 columns]"
      ]
     },
     "execution_count": 80,
     "metadata": {},
     "output_type": "execute_result"
    }
   ],
   "source": [
    "projects[projects.proj_core_project_num == 'K08CA133103']"
   ]
  },
  {
   "cell_type": "markdown",
   "id": "a4891cab",
   "metadata": {},
   "source": [
    "## Edit Table"
   ]
  },
  {
   "cell_type": "markdown",
   "id": "268f515f",
   "metadata": {},
   "source": []
  }
 ],
 "metadata": {
  "kernelspec": {
   "display_name": "Python 3",
   "language": "python",
   "name": "python3"
  },
  "language_info": {
   "codemirror_mode": {
    "name": "ipython",
    "version": 3
   },
   "file_extension": ".py",
   "mimetype": "text/x-python",
   "name": "python",
   "nbconvert_exporter": "python",
   "pygments_lexer": "ipython3",
   "version": "3.10.13"
  }
 },
 "nbformat": 4,
 "nbformat_minor": 5
}
