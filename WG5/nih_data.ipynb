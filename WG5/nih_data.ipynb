{
  "cells": [
    {
      "cell_type": "code",
      "execution_count": 1,
      "metadata": {
        "id": "fhYzk12Mfpgl"
      },
      "outputs": [],
      "source": [
        "# RePORTER data"
      ]
    },
    {
      "cell_type": "markdown",
      "metadata": {
        "id": "PxBWp17Gfxkb"
      },
      "source": [
        "[RePORTER data](https://reporter.nih.gov/exporter/): publications + funding data of NIH projects (US) from 1980 until 2022.\n",
        "\n",
        "Analysis time window: `1985 - 2022`."
      ]
    },
    {
      "cell_type": "markdown",
      "metadata": {
        "id": "AD-Ts5sifxsz"
      },
      "source": [
        "## Imports"
      ]
    },
    {
      "cell_type": "code",
      "execution_count": 2,
      "metadata": {
        "id": "n-dl7r1Sf7Y7"
      },
      "outputs": [],
      "source": [
        "import os\n",
        "import json\n",
        "import math\n",
        "import zipfile\n",
        "import pandas as pd"
      ]
    },
    {
      "cell_type": "markdown",
      "metadata": {
        "id": "Uz0yO9rAfqLV"
      },
      "source": [
        "## Scraper"
      ]
    },
    {
      "cell_type": "markdown",
      "metadata": {
        "id": "8efrJ3dGf-4L"
      },
      "source": [
        "[pynih](https://github.com/jermwatt/pynih) is a useful library designed to extract data from the [NIH RePORTER API](https://api.reporter.nih.gov/). However, it was not utilized for the Hackathon, where zip files were manually downloaded."
      ]
    },
    {
      "cell_type": "markdown",
      "metadata": {
        "id": "FQrOR8VbgCSu"
      },
      "source": [
        "## Functions"
      ]
    },
    {
      "cell_type": "code",
      "execution_count": 3,
      "metadata": {
        "id": "pV4C2ICvgDC7"
      },
      "outputs": [],
      "source": [
        "def create_folder(folder_path):\n",
        "    # Specify the folder containing the zip files\n",
        "    # Create the extraction folder if it doesn't exist\n",
        "    os.makedirs(folder_path, exist_ok=True)\n",
        "    return folder_path"
      ]
    },
    {
      "cell_type": "code",
      "execution_count": 4,
      "metadata": {
        "id": "BP3OnDLXgEQC"
      },
      "outputs": [],
      "source": [
        "def create_general_folders():\n",
        "    folders = []\n",
        "    for folder in ['raw', 'input', 'processing', 'output']:\n",
        "        folder_path = os.path.join('data/', folder)\n",
        "        folders.append(create_folder(folder_path))\n",
        "    return folders"
      ]
    },
    {
      "cell_type": "code",
      "execution_count": 5,
      "metadata": {
        "id": "l-HxIgHQgFla"
      },
      "outputs": [],
      "source": [
        "def create_extraction_folders(document):\n",
        "    # Specify the folder containing the zip files\n",
        "    zip_folder = f'/{document}/'\n",
        "    # Specify the folder where you want to extract the files\n",
        "    extracted_folder = f'data/input/{document}/'\n",
        "    # Create the extraction folder if it doesn't exist\n",
        "    os.makedirs(zip_folder, exist_ok=True)\n",
        "    os.makedirs(extracted_folder, exist_ok=True)\n",
        "    print(f'Input folder: {zip_folder}')\n",
        "    print(f'Output folder: {zip_folder}')\n",
        "    return zip_folder, extracted_folder"
      ]
    },
    {
      "cell_type": "code",
      "execution_count": 6,
      "metadata": {
        "id": "iqZS5u4zgIhL"
      },
      "outputs": [],
      "source": [
        "def unzip_files(zip_folder, extracted_folder):\n",
        "    # List all zip files in the zip folder\n",
        "    zip_files = [f for f in os.listdir(zip_folder) if f.endswith('.zip')]\n",
        "\n",
        "    # Loop through zip files and extract contents\n",
        "    count = 0\n",
        "    for zip_file in zip_files:\n",
        "        zip_path = os.path.join(zip_folder, zip_file)\n",
        "\n",
        "        with zipfile.ZipFile(zip_path, 'r') as zip_ref:\n",
        "            zip_ref.extractall(extracted_folder)\n",
        "        count += 1\n",
        "    print(f'{count} zips extracted successfully!')"
      ]
    },
    {
      "cell_type": "code",
      "execution_count": 7,
      "metadata": {
        "id": "DQpZRjWEgL2C"
      },
      "outputs": [],
      "source": [
        "def check_list_integrity(my_list):\n",
        "    # Check for None values\n",
        "    contains_none = any(x is None for x in my_list)\n",
        "    print(f'None: {contains_none}')\n",
        "    # Check for NaN values\n",
        "    contains_nan = any(pd.isna(x) for x in my_list)\n",
        "    print(f'Nan: {contains_nan}')\n",
        "    # Check for null values (assuming you have imported the math module)\n",
        "    contains_null = any(math.isnan(x) for x in my_list if isinstance(x, (int, float)))\n",
        "    print(f'Null: {contains_null}')"
      ]
    },
    {
      "cell_type": "code",
      "execution_count": 8,
      "metadata": {
        "id": "730mo5hlgNRC"
      },
      "outputs": [],
      "source": [
        "def count_duplicates(df):\n",
        "    # Check for duplicates based on all columns\n",
        "    duplicates = df[df.duplicated()]\n",
        "    # Print the duplicate rows\n",
        "    print(f\"Duplicate Rows: {duplicates.shape[0]}\")"
      ]
    },
    {
      "cell_type": "code",
      "execution_count": 9,
      "metadata": {
        "id": "9zyBTcAwgOvi"
      },
      "outputs": [],
      "source": [
        "def count_repeat_values(df, col_name):\n",
        "    # Use value_counts to count occurrences of each unique value in the column\n",
        "    value_counts = df[col_name].value_counts()\n",
        "\n",
        "    # Find values that repeat multiple times (more than once, adjust as needed)\n",
        "    repeated_values = value_counts[value_counts > 1].index.tolist()\n",
        "\n",
        "    # Print the values that repeat multiple times\n",
        "    print(f\"Values that repeat multiple times: {len(repeated_values)}\")\n",
        "    return repeated_values"
      ]
    },
    {
      "cell_type": "code",
      "execution_count": 10,
      "metadata": {
        "id": "z2Uz3BdzgQlC"
      },
      "outputs": [],
      "source": [
        "def create_df_from_csv(folders, document, projects_number=''):\n",
        "    extracted_folder =  os.path.join(folders[1], document)\n",
        "    # Create a DataFrame to store the data from the CSVs\n",
        "    df_list = []\n",
        "    # Loop through extracted CSV files and read them into the DataFrame\n",
        "    for csv_file in os.listdir(extracted_folder):\n",
        "        if csv_file.endswith('.csv'):\n",
        "            csv_path = os.path.join(extracted_folder, csv_file)\n",
        "            try:\n",
        "                # Open and read the file manually with error handling\n",
        "                with open(csv_path, 'r', encoding='utf-8', errors='replace') as file:\n",
        "                    df = pd.read_csv(file, on_bad_lines='skip', encoding='utf-8', engine='python')\n",
        "                    df.columns = df.columns.str.lower()\n",
        "                    if 'projects' in csv_path and projects_number != '':\n",
        "                        # print(df.columns)\n",
        "                        df = df[df[\"core_project_num\"].isin(projects_number)]\n",
        "                        # df = pd.merge(codes_df, df, on='pmid', how='left')\n",
        "                df_list.append(df)\n",
        "            except Exception as e:\n",
        "                print(f\"Error reading {csv_path}: {e}\")\n",
        "\n",
        "    # Concatenate all DataFrames into a single DataFrame\n",
        "    final_df = pd.concat(df_list, ignore_index=True)\n",
        "    print(f'Number of {document}: {final_df.shape[0]}')\n",
        "    return final_df\n"
      ]
    },
    {
      "cell_type": "markdown",
      "metadata": {
        "id": "r6fj7FDpgSGk"
      },
      "source": [
        "## Paths"
      ]
    },
    {
      "cell_type": "code",
      "execution_count": 11,
      "metadata": {
        "id": "d9aVJB8rgSti"
      },
      "outputs": [
        {
          "data": {
            "text/plain": [
              "['data/raw', 'data/input', 'data/processing', 'data/output']"
            ]
          },
          "execution_count": 11,
          "metadata": {},
          "output_type": "execute_result"
        }
      ],
      "source": [
        "folders = create_general_folders() # 'raw', 'input', 'processing', 'output'\n",
        "folders"
      ]
    },
    {
      "cell_type": "markdown",
      "metadata": {
        "id": "cNUu4YLAgU9z"
      },
      "source": [
        "## Unzip files"
      ]
    },
    {
      "cell_type": "code",
      "execution_count": 12,
      "metadata": {
        "id": "TEXECT8XgUCL"
      },
      "outputs": [],
      "source": [
        "zip_folder = os.path.join(folders[0], 'publications')\n",
        "extracted_folder = os.path.join(folders[1], 'publications')"
      ]
    },
    {
      "cell_type": "code",
      "execution_count": 13,
      "metadata": {
        "id": "fXkeeX8YgX2b"
      },
      "outputs": [],
      "source": [
        "# UNZIP FILES - optional\n",
        "# if any(os.scandir(zip_folder)):\n",
        "#    unzip_files(zip_folder, extracted_folder)\n",
        "# else:\n",
        "#    print('No zips!')"
      ]
    },
    {
      "cell_type": "markdown",
      "metadata": {
        "id": "snW1n5PlgbnD"
      },
      "source": [
        "## Data"
      ]
    },
    {
      "cell_type": "markdown",
      "metadata": {
        "id": "FEbbyqPSgdQL"
      },
      "source": [
        "### Count Data"
      ]
    },
    {
      "cell_type": "code",
      "execution_count": 14,
      "metadata": {
        "id": "1Uq66OwdgY_r"
      },
      "outputs": [],
      "source": [
        "json_file_path = 'data/results_for_analysis.json'"
      ]
    },
    {
      "cell_type": "code",
      "execution_count": 15,
      "metadata": {
        "id": "dmatbfyXgfBj"
      },
      "outputs": [],
      "source": [
        "# Open the JSON file\n",
        "with open(json_file_path, 'r') as file:\n",
        "    # Load the JSON data\n",
        "    data = json.load(file)"
      ]
    },
    {
      "cell_type": "code",
      "execution_count": 16,
      "metadata": {
        "id": "pvUunsk7ggk7"
      },
      "outputs": [
        {
          "data": {
            "text/html": [
              "<div>\n",
              "<style scoped>\n",
              "    .dataframe tbody tr th:only-of-type {\n",
              "        vertical-align: middle;\n",
              "    }\n",
              "\n",
              "    .dataframe tbody tr th {\n",
              "        vertical-align: top;\n",
              "    }\n",
              "\n",
              "    .dataframe thead th {\n",
              "        text-align: right;\n",
              "    }\n",
              "</style>\n",
              "<table border=\"1\" class=\"dataframe\">\n",
              "  <thead>\n",
              "    <tr style=\"text-align: right;\">\n",
              "      <th></th>\n",
              "      <th>pmcid</th>\n",
              "      <th>agg_sentence_index</th>\n",
              "      <th>agg_n_fem</th>\n",
              "      <th>agg_n_male</th>\n",
              "      <th>agg_perc_fem</th>\n",
              "      <th>agg_perc_male</th>\n",
              "      <th>agg_sample</th>\n",
              "      <th>clean_n_fem</th>\n",
              "      <th>clean_n_male</th>\n",
              "      <th>clean_perc_fem</th>\n",
              "      <th>...</th>\n",
              "      <th>article_categories</th>\n",
              "      <th>article_title</th>\n",
              "      <th>authors</th>\n",
              "      <th>copyright_info</th>\n",
              "      <th>funding</th>\n",
              "      <th>publisher_id</th>\n",
              "      <th>doi</th>\n",
              "      <th>journal_title</th>\n",
              "      <th>keywords</th>\n",
              "      <th>publication_date</th>\n",
              "    </tr>\n",
              "  </thead>\n",
              "  <tbody>\n",
              "    <tr>\n",
              "      <th>0</th>\n",
              "      <td>PMC9683380</td>\n",
              "      <td>[3, 5, 6, 7, 8]</td>\n",
              "      <td>[null, null, \"\\\"352\\\"\", null, null]</td>\n",
              "      <td>[null, null, \"\\\"328\\\"\", null, null]</td>\n",
              "      <td>[null, null, null, null, null]</td>\n",
              "      <td>[null, null, null, null, null]</td>\n",
              "      <td>[\"\\\"##3\\\"\", \"\\\"##3\\\"\", \"\\\"70\\\"\", \"\\\"##6\\\"\", \"\\...</td>\n",
              "      <td>[352]</td>\n",
              "      <td>[328]</td>\n",
              "      <td>[]</td>\n",
              "      <td>...</td>\n",
              "      <td>[\"Endocrinology\"]</td>\n",
              "      <td>Differential diagnostic value of plain CT scan...</td>\n",
              "      <td>[\"Zhijiang Han\", \"Mengwei Wu\", \"Peiying Wei\", ...</td>\n",
              "      <td>Copyright © 2022 Han, Wu, Wei, Zhu, Zhang, Din...</td>\n",
              "      <td>[]</td>\n",
              "      <td>None</td>\n",
              "      <td>10.3389/fendo.2022.1007870</td>\n",
              "      <td>Frontiers in Endocrinology</td>\n",
              "      <td>[\"adrenal gland neoplasms\", \"adrenal adenoma\",...</td>\n",
              "      <td>2022-11-09 00:00:00</td>\n",
              "    </tr>\n",
              "    <tr>\n",
              "      <th>1</th>\n",
              "      <td>PMC5137654</td>\n",
              "      <td>[1, 3, 4]</td>\n",
              "      <td>[\"\\\"30\\\"\", null, null]</td>\n",
              "      <td>[\"\\\"30\\\"\", null, null]</td>\n",
              "      <td>[null, null, null]</td>\n",
              "      <td>[null, null, null]</td>\n",
              "      <td>[\"\\\"60\\\"\", \"\\\"16\\\"\", \"\\\"46\\\"\"]</td>\n",
              "      <td>[30]</td>\n",
              "      <td>[30]</td>\n",
              "      <td>[]</td>\n",
              "      <td>...</td>\n",
              "      <td>[\"Spine\"]</td>\n",
              "      <td>Posterior hemivertebra resection and monosegme...</td>\n",
              "      <td>[\"X Zhu\", \"X Wei\", \"J Chen\", \"C Li\", \"M Li\", \"...</td>\n",
              "      <td>Copyright © 2013 Royal College of Surgeons</td>\n",
              "      <td>[]</td>\n",
              "      <td>650173</td>\n",
              "      <td>10.1308/003588414X13824511650173</td>\n",
              "      <td>Annals of The Royal College of Surgeons of Eng...</td>\n",
              "      <td>[\"Hemivertebra resection\", \"Monosegmental fusi...</td>\n",
              "      <td>None</td>\n",
              "    </tr>\n",
              "  </tbody>\n",
              "</table>\n",
              "<p>2 rows × 27 columns</p>\n",
              "</div>"
            ],
            "text/plain": [
              "        pmcid agg_sentence_index                            agg_n_fem  \\\n",
              "0  PMC9683380    [3, 5, 6, 7, 8]  [null, null, \"\\\"352\\\"\", null, null]   \n",
              "1  PMC5137654          [1, 3, 4]               [\"\\\"30\\\"\", null, null]   \n",
              "\n",
              "                            agg_n_male                    agg_perc_fem  \\\n",
              "0  [null, null, \"\\\"328\\\"\", null, null]  [null, null, null, null, null]   \n",
              "1               [\"\\\"30\\\"\", null, null]              [null, null, null]   \n",
              "\n",
              "                    agg_perc_male  \\\n",
              "0  [null, null, null, null, null]   \n",
              "1              [null, null, null]   \n",
              "\n",
              "                                          agg_sample clean_n_fem clean_n_male  \\\n",
              "0  [\"\\\"##3\\\"\", \"\\\"##3\\\"\", \"\\\"70\\\"\", \"\\\"##6\\\"\", \"\\...       [352]        [328]   \n",
              "1                     [\"\\\"60\\\"\", \"\\\"16\\\"\", \"\\\"46\\\"\"]        [30]         [30]   \n",
              "\n",
              "  clean_perc_fem  ... article_categories  \\\n",
              "0             []  ...  [\"Endocrinology\"]   \n",
              "1             []  ...          [\"Spine\"]   \n",
              "\n",
              "                                       article_title  \\\n",
              "0  Differential diagnostic value of plain CT scan...   \n",
              "1  Posterior hemivertebra resection and monosegme...   \n",
              "\n",
              "                                             authors  \\\n",
              "0  [\"Zhijiang Han\", \"Mengwei Wu\", \"Peiying Wei\", ...   \n",
              "1  [\"X Zhu\", \"X Wei\", \"J Chen\", \"C Li\", \"M Li\", \"...   \n",
              "\n",
              "                                      copyright_info funding publisher_id  \\\n",
              "0  Copyright © 2022 Han, Wu, Wei, Zhu, Zhang, Din...      []         None   \n",
              "1         Copyright © 2013 Royal College of Surgeons      []       650173   \n",
              "\n",
              "                                doi  \\\n",
              "0        10.3389/fendo.2022.1007870   \n",
              "1  10.1308/003588414X13824511650173   \n",
              "\n",
              "                                       journal_title  \\\n",
              "0                         Frontiers in Endocrinology   \n",
              "1  Annals of The Royal College of Surgeons of Eng...   \n",
              "\n",
              "                                            keywords     publication_date  \n",
              "0  [\"adrenal gland neoplasms\", \"adrenal adenoma\",...  2022-11-09 00:00:00  \n",
              "1  [\"Hemivertebra resection\", \"Monosegmental fusi...                 None  \n",
              "\n",
              "[2 rows x 27 columns]"
            ]
          },
          "execution_count": 16,
          "metadata": {},
          "output_type": "execute_result"
        }
      ],
      "source": [
        "count_data = pd.DataFrame.from_dict(data)\n",
        "count_data.head(2)"
      ]
    },
    {
      "cell_type": "code",
      "execution_count": 17,
      "metadata": {
        "id": "JHxcsrbagi8q"
      },
      "outputs": [
        {
          "data": {
            "text/plain": [
              "166011"
            ]
          },
          "execution_count": 17,
          "metadata": {},
          "output_type": "execute_result"
        }
      ],
      "source": [
        "count_data.shape[0]"
      ]
    },
    {
      "cell_type": "code",
      "execution_count": 18,
      "metadata": {
        "id": "pU-2OhikgkFq"
      },
      "outputs": [
        {
          "data": {
            "text/plain": [
              "Index(['pmcid', 'agg_sentence_index', 'agg_n_fem', 'agg_n_male',\n",
              "       'agg_perc_fem', 'agg_perc_male', 'agg_sample', 'clean_n_fem',\n",
              "       'clean_n_male', 'clean_perc_fem', 'clean_perc_male', 'clean_sample',\n",
              "       'max_n_fem', 'max_n_male', 'max_perc_fem', 'max_perc_male',\n",
              "       'max_sample', 'article_categories', 'article_title', 'authors',\n",
              "       'copyright_info', 'funding', 'publisher_id', 'doi', 'journal_title',\n",
              "       'keywords', 'publication_date'],\n",
              "      dtype='object')"
            ]
          },
          "execution_count": 18,
          "metadata": {},
          "output_type": "execute_result"
        }
      ],
      "source": [
        "count_data.columns"
      ]
    },
    {
      "cell_type": "markdown",
      "metadata": {
        "id": "FdtuLIBNgl6E"
      },
      "source": [
        "### Filters"
      ]
    },
    {
      "cell_type": "code",
      "execution_count": 19,
      "metadata": {
        "id": "Dn_b0cg2glbc"
      },
      "outputs": [
        {
          "data": {
            "text/html": [
              "<div>\n",
              "<style scoped>\n",
              "    .dataframe tbody tr th:only-of-type {\n",
              "        vertical-align: middle;\n",
              "    }\n",
              "\n",
              "    .dataframe tbody tr th {\n",
              "        vertical-align: top;\n",
              "    }\n",
              "\n",
              "    .dataframe thead th {\n",
              "        text-align: right;\n",
              "    }\n",
              "</style>\n",
              "<table border=\"1\" class=\"dataframe\">\n",
              "  <thead>\n",
              "    <tr style=\"text-align: right;\">\n",
              "      <th></th>\n",
              "      <th>pmcid</th>\n",
              "      <th>doi</th>\n",
              "    </tr>\n",
              "  </thead>\n",
              "  <tbody>\n",
              "    <tr>\n",
              "      <th>0</th>\n",
              "      <td>PMC9683380</td>\n",
              "      <td>10.3389/fendo.2022.1007870</td>\n",
              "    </tr>\n",
              "    <tr>\n",
              "      <th>1</th>\n",
              "      <td>PMC5137654</td>\n",
              "      <td>10.1308/003588414X13824511650173</td>\n",
              "    </tr>\n",
              "  </tbody>\n",
              "</table>\n",
              "</div>"
            ],
            "text/plain": [
              "        pmcid                               doi\n",
              "0  PMC9683380        10.3389/fendo.2022.1007870\n",
              "1  PMC5137654  10.1308/003588414X13824511650173"
            ]
          },
          "execution_count": 19,
          "metadata": {},
          "output_type": "execute_result"
        }
      ],
      "source": [
        "pmc_ids_df = pd.read_csv('data/pmcids_dois_from_counts_data.txt')\n",
        "pmc_ids_df.head(2)"
      ]
    },
    {
      "cell_type": "code",
      "execution_count": 20,
      "metadata": {
        "id": "jh7daFV1goYi"
      },
      "outputs": [
        {
          "name": "stdout",
          "output_type": "stream",
          "text": [
            "<class 'pandas.core.frame.DataFrame'>\n",
            "RangeIndex: 166011 entries, 0 to 166010\n",
            "Data columns (total 2 columns):\n",
            " #   Column  Non-Null Count   Dtype \n",
            "---  ------  --------------   ----- \n",
            " 0   pmcid   166011 non-null  object\n",
            " 1   doi     162158 non-null  object\n",
            "dtypes: object(2)\n",
            "memory usage: 2.5+ MB\n"
          ]
        }
      ],
      "source": [
        "pmc_ids_df.info()"
      ]
    },
    {
      "cell_type": "code",
      "execution_count": 21,
      "metadata": {
        "id": "RlvVir-igqay"
      },
      "outputs": [
        {
          "name": "stdout",
          "output_type": "stream",
          "text": [
            "Unique pmc ids: 166011\n"
          ]
        }
      ],
      "source": [
        "pmc_ids = [x.replace('PMC', '') for x in pmc_ids_df.pmcid.unique()]\n",
        "pmc_ids_df['pmcid'] = pmc_ids\n",
        "print(f'Unique pmc ids: {len(pmc_ids)}')"
      ]
    },
    {
      "cell_type": "markdown",
      "metadata": {
        "id": "0h2-Bt7CgsFq"
      },
      "source": [
        "### Link Tables"
      ]
    },
    {
      "cell_type": "code",
      "execution_count": 22,
      "metadata": {
        "id": "0gJiiBfogsl0"
      },
      "outputs": [
        {
          "data": {
            "text/html": [
              "<div>\n",
              "<style scoped>\n",
              "    .dataframe tbody tr th:only-of-type {\n",
              "        vertical-align: middle;\n",
              "    }\n",
              "\n",
              "    .dataframe tbody tr th {\n",
              "        vertical-align: top;\n",
              "    }\n",
              "\n",
              "    .dataframe thead th {\n",
              "        text-align: right;\n",
              "    }\n",
              "</style>\n",
              "<table border=\"1\" class=\"dataframe\">\n",
              "  <thead>\n",
              "    <tr style=\"text-align: right;\">\n",
              "      <th></th>\n",
              "      <th>pmid</th>\n",
              "      <th>project_number</th>\n",
              "    </tr>\n",
              "  </thead>\n",
              "  <tbody>\n",
              "    <tr>\n",
              "      <th>0</th>\n",
              "      <td>3968312</td>\n",
              "      <td>R01HL025826</td>\n",
              "    </tr>\n",
              "    <tr>\n",
              "      <th>1</th>\n",
              "      <td>3889259</td>\n",
              "      <td>R01HD016292</td>\n",
              "    </tr>\n",
              "    <tr>\n",
              "      <th>2</th>\n",
              "      <td>3918136</td>\n",
              "      <td>R01HD011011</td>\n",
              "    </tr>\n",
              "    <tr>\n",
              "      <th>3</th>\n",
              "      <td>3864856</td>\n",
              "      <td>T32HL007535</td>\n",
              "    </tr>\n",
              "    <tr>\n",
              "      <th>4</th>\n",
              "      <td>4064865</td>\n",
              "      <td>R23AM031070</td>\n",
              "    </tr>\n",
              "  </tbody>\n",
              "</table>\n",
              "</div>"
            ],
            "text/plain": [
              "      pmid project_number\n",
              "0  3968312    R01HL025826\n",
              "1  3889259    R01HD016292\n",
              "2  3918136    R01HD011011\n",
              "3  3864856    T32HL007535\n",
              "4  4064865    R23AM031070"
            ]
          },
          "execution_count": 22,
          "metadata": {},
          "output_type": "execute_result"
        }
      ],
      "source": [
        "# link_tables = create_df_from_csv(folders, 'link_tables')\n",
        "link_tables = pd.read_csv('data/processing/link_tables.csv', index_col=0, low_memory=False)\n",
        "link_tables.head()"
      ]
    },
    {
      "cell_type": "code",
      "execution_count": 23,
      "metadata": {
        "id": "C7X3Q_QbguxO"
      },
      "outputs": [],
      "source": [
        "# Convert column names to lowercase\n",
        "link_tables.columns = link_tables.columns.str.lower()"
      ]
    },
    {
      "cell_type": "code",
      "execution_count": 24,
      "metadata": {
        "id": "pm3iwLZ8gvll"
      },
      "outputs": [
        {
          "name": "stdout",
          "output_type": "stream",
          "text": [
            "<class 'pandas.core.frame.DataFrame'>\n",
            "Index: 6437869 entries, 0 to 6437868\n",
            "Data columns (total 2 columns):\n",
            " #   Column          Dtype \n",
            "---  ------          ----- \n",
            " 0   pmid            int64 \n",
            " 1   project_number  object\n",
            "dtypes: int64(1), object(1)\n",
            "memory usage: 147.4+ MB\n"
          ]
        }
      ],
      "source": [
        "link_tables.info()"
      ]
    },
    {
      "cell_type": "code",
      "execution_count": 25,
      "metadata": {
        "id": "OqfB5oNpgyGK"
      },
      "outputs": [],
      "source": [
        "link_tables['pmid'] = link_tables['pmid'].fillna(0).astype(str)"
      ]
    },
    {
      "cell_type": "markdown",
      "metadata": {
        "id": "RfTw_CkjgzBi"
      },
      "source": [
        "### Publications"
      ]
    },
    {
      "cell_type": "code",
      "execution_count": 26,
      "metadata": {
        "id": "tuMWiowMg0SS"
      },
      "outputs": [
        {
          "data": {
            "text/plain": [
              "(2754194, 15)"
            ]
          },
          "execution_count": 26,
          "metadata": {},
          "output_type": "execute_result"
        }
      ],
      "source": [
        "# all_publications = create_df_from_csv(folders, 'publications')\n",
        "all_publications = pd.read_csv('data/processing/publications.csv', index_col=0, low_memory=False)\n",
        "all_publications.shape"
      ]
    },
    {
      "cell_type": "code",
      "execution_count": 27,
      "metadata": {
        "id": "KqMxwkEgg2ka"
      },
      "outputs": [
        {
          "data": {
            "text/html": [
              "<div>\n",
              "<style scoped>\n",
              "    .dataframe tbody tr th:only-of-type {\n",
              "        vertical-align: middle;\n",
              "    }\n",
              "\n",
              "    .dataframe tbody tr th {\n",
              "        vertical-align: top;\n",
              "    }\n",
              "\n",
              "    .dataframe thead th {\n",
              "        text-align: right;\n",
              "    }\n",
              "</style>\n",
              "<table border=\"1\" class=\"dataframe\">\n",
              "  <thead>\n",
              "    <tr style=\"text-align: right;\">\n",
              "      <th></th>\n",
              "      <th>affiliation</th>\n",
              "      <th>author_list</th>\n",
              "      <th>country</th>\n",
              "      <th>issn</th>\n",
              "      <th>journal_issue</th>\n",
              "      <th>journal_title</th>\n",
              "      <th>journal_title_abbr</th>\n",
              "      <th>journal_volume</th>\n",
              "      <th>lang</th>\n",
              "      <th>page_number</th>\n",
              "      <th>pmc_id</th>\n",
              "      <th>pmid</th>\n",
              "      <th>pub_date</th>\n",
              "      <th>pub_title</th>\n",
              "      <th>pub_year</th>\n",
              "    </tr>\n",
              "  </thead>\n",
              "  <tbody>\n",
              "    <tr>\n",
              "      <th>0</th>\n",
              "      <td>NaN</td>\n",
              "      <td>Burns, J L; Mendelman, P M; Levy, J; Stull, T ...</td>\n",
              "      <td>United States</td>\n",
              "      <td>0066-4804</td>\n",
              "      <td>1</td>\n",
              "      <td>Antimicrobial agents and chemotherapy</td>\n",
              "      <td>Antimicrob Agents Chemother</td>\n",
              "      <td>27</td>\n",
              "      <td>eng</td>\n",
              "      <td>46-54</td>\n",
              "      <td>176203</td>\n",
              "      <td>3872625</td>\n",
              "      <td>1985 Jan</td>\n",
              "      <td>A permeability barrier as a mechanism of chlor...</td>\n",
              "      <td>1985</td>\n",
              "    </tr>\n",
              "    <tr>\n",
              "      <th>1</th>\n",
              "      <td>NaN</td>\n",
              "      <td>Chiou, J F; Cheng, Y C</td>\n",
              "      <td>United States</td>\n",
              "      <td>0066-4804</td>\n",
              "      <td>3</td>\n",
              "      <td>Antimicrobial agents and chemotherapy</td>\n",
              "      <td>Antimicrob Agents Chemother</td>\n",
              "      <td>27</td>\n",
              "      <td>eng</td>\n",
              "      <td>416-8</td>\n",
              "      <td>176288</td>\n",
              "      <td>2986547</td>\n",
              "      <td>1985 Mar</td>\n",
              "      <td>Interaction of Epstein-Barr virus DNA polymera...</td>\n",
              "      <td>1985</td>\n",
              "    </tr>\n",
              "  </tbody>\n",
              "</table>\n",
              "</div>"
            ],
            "text/plain": [
              "  affiliation                                        author_list  \\\n",
              "0         NaN  Burns, J L; Mendelman, P M; Levy, J; Stull, T ...   \n",
              "1         NaN                             Chiou, J F; Cheng, Y C   \n",
              "\n",
              "         country       issn journal_issue  \\\n",
              "0  United States  0066-4804             1   \n",
              "1  United States  0066-4804             3   \n",
              "\n",
              "                           journal_title           journal_title_abbr  \\\n",
              "0  Antimicrobial agents and chemotherapy  Antimicrob Agents Chemother   \n",
              "1  Antimicrobial agents and chemotherapy  Antimicrob Agents Chemother   \n",
              "\n",
              "  journal_volume lang page_number  pmc_id     pmid  pub_date  \\\n",
              "0             27  eng       46-54  176203  3872625  1985 Jan   \n",
              "1             27  eng       416-8  176288  2986547  1985 Mar   \n",
              "\n",
              "                                           pub_title  pub_year  \n",
              "0  A permeability barrier as a mechanism of chlor...      1985  \n",
              "1  Interaction of Epstein-Barr virus DNA polymera...      1985  "
            ]
          },
          "execution_count": 27,
          "metadata": {},
          "output_type": "execute_result"
        }
      ],
      "source": [
        "all_publications.head(2)"
      ]
    },
    {
      "cell_type": "code",
      "execution_count": 28,
      "metadata": {
        "id": "LY1tcr7og3-7"
      },
      "outputs": [
        {
          "data": {
            "text/plain": [
              "Index(['affiliation', 'author_list', 'country', 'issn', 'journal_issue',\n",
              "       'journal_title', 'journal_title_abbr', 'journal_volume', 'lang',\n",
              "       'page_number', 'pmc_id', 'pmid', 'pub_date', 'pub_title', 'pub_year'],\n",
              "      dtype='object')"
            ]
          },
          "execution_count": 28,
          "metadata": {},
          "output_type": "execute_result"
        }
      ],
      "source": [
        "all_publications.columns"
      ]
    },
    {
      "cell_type": "code",
      "execution_count": 29,
      "metadata": {
        "id": "7kdVE5qug5pq"
      },
      "outputs": [],
      "source": [
        "# all_publications.pub_date.unique()"
      ]
    },
    {
      "cell_type": "code",
      "execution_count": 30,
      "metadata": {
        "id": "gOi_I7GMg6_q"
      },
      "outputs": [
        {
          "data": {
            "text/plain": [
              "(2754194, 15)"
            ]
          },
          "execution_count": 30,
          "metadata": {},
          "output_type": "execute_result"
        }
      ],
      "source": [
        "# remove publication with only different year of publication\n",
        "publications = all_publications[all_publications.duplicated(subset='pub_date') | all_publications.duplicated(subset='pub_date', keep=False)]\n",
        "publications.shape"
      ]
    },
    {
      "cell_type": "code",
      "execution_count": 31,
      "metadata": {
        "id": "oRAw9Zvlg9Ns"
      },
      "outputs": [
        {
          "name": "stdout",
          "output_type": "stream",
          "text": [
            "Removed items: 0\n"
          ]
        }
      ],
      "source": [
        "print(f'Removed items: {all_publications.shape[0] - publications.shape[0]}')"
      ]
    },
    {
      "cell_type": "code",
      "execution_count": 32,
      "metadata": {
        "id": "qnrWzJ9ug90b"
      },
      "outputs": [],
      "source": [
        "# Convert column names to lowercase\n",
        "publications.columns = publications.columns.str.lower()"
      ]
    },
    {
      "cell_type": "code",
      "execution_count": 33,
      "metadata": {
        "id": "Q96gHq68hAQK"
      },
      "outputs": [
        {
          "name": "stdout",
          "output_type": "stream",
          "text": [
            "<class 'pandas.core.frame.DataFrame'>\n",
            "Index: 2754194 entries, 0 to 2755775\n",
            "Data columns (total 15 columns):\n",
            " #   Column              Dtype \n",
            "---  ------              ----- \n",
            " 0   affiliation         object\n",
            " 1   author_list         object\n",
            " 2   country             object\n",
            " 3   issn                object\n",
            " 4   journal_issue       object\n",
            " 5   journal_title       object\n",
            " 6   journal_title_abbr  object\n",
            " 7   journal_volume      object\n",
            " 8   lang                object\n",
            " 9   page_number         object\n",
            " 10  pmc_id              int64 \n",
            " 11  pmid                int64 \n",
            " 12  pub_date            object\n",
            " 13  pub_title           object\n",
            " 14  pub_year            int64 \n",
            "dtypes: int64(3), object(12)\n",
            "memory usage: 336.2+ MB\n"
          ]
        }
      ],
      "source": [
        "publications.info()"
      ]
    },
    {
      "cell_type": "code",
      "execution_count": 34,
      "metadata": {
        "id": "_Nsmi02yhCHa"
      },
      "outputs": [],
      "source": [
        "publications['pmc_id'] = publications['pmc_id'].fillna(0).astype(int).astype(str)"
      ]
    },
    {
      "cell_type": "code",
      "execution_count": 35,
      "metadata": {
        "id": "RTLvPIZyhEX6"
      },
      "outputs": [],
      "source": [
        "publications['pmid'] = publications['pmid'].fillna(0).astype(int).astype(str)"
      ]
    },
    {
      "cell_type": "markdown",
      "metadata": {
        "id": "9DvGMCofhF9y"
      },
      "source": [
        "### Codes"
      ]
    },
    {
      "cell_type": "code",
      "execution_count": 36,
      "metadata": {
        "id": "_Cl-fBz5hGbT"
      },
      "outputs": [
        {
          "name": "stdout",
          "output_type": "stream",
          "text": [
            "Merged df: 166044\n"
          ]
        }
      ],
      "source": [
        "merged_df1 = pd.merge(pmc_ids_df, publications, left_on='pmcid', right_on='pmc_id', how='left')\n",
        "print(f'Merged df: {merged_df1.shape[0]}')"
      ]
    },
    {
      "cell_type": "code",
      "execution_count": 37,
      "metadata": {
        "id": "E1X7tvFihHny"
      },
      "outputs": [
        {
          "data": {
            "text/html": [
              "<div>\n",
              "<style scoped>\n",
              "    .dataframe tbody tr th:only-of-type {\n",
              "        vertical-align: middle;\n",
              "    }\n",
              "\n",
              "    .dataframe tbody tr th {\n",
              "        vertical-align: top;\n",
              "    }\n",
              "\n",
              "    .dataframe thead th {\n",
              "        text-align: right;\n",
              "    }\n",
              "</style>\n",
              "<table border=\"1\" class=\"dataframe\">\n",
              "  <thead>\n",
              "    <tr style=\"text-align: right;\">\n",
              "      <th></th>\n",
              "      <th>pmcid</th>\n",
              "      <th>doi</th>\n",
              "      <th>affiliation</th>\n",
              "      <th>author_list</th>\n",
              "      <th>country</th>\n",
              "      <th>issn</th>\n",
              "      <th>journal_issue</th>\n",
              "      <th>journal_title</th>\n",
              "      <th>journal_title_abbr</th>\n",
              "      <th>journal_volume</th>\n",
              "      <th>lang</th>\n",
              "      <th>page_number</th>\n",
              "      <th>pmc_id</th>\n",
              "      <th>pmid</th>\n",
              "      <th>pub_date</th>\n",
              "      <th>pub_title</th>\n",
              "      <th>pub_year</th>\n",
              "    </tr>\n",
              "  </thead>\n",
              "  <tbody>\n",
              "    <tr>\n",
              "      <th>0</th>\n",
              "      <td>9683380</td>\n",
              "      <td>10.3389/fendo.2022.1007870</td>\n",
              "      <td>NaN</td>\n",
              "      <td>NaN</td>\n",
              "      <td>NaN</td>\n",
              "      <td>NaN</td>\n",
              "      <td>NaN</td>\n",
              "      <td>NaN</td>\n",
              "      <td>NaN</td>\n",
              "      <td>NaN</td>\n",
              "      <td>NaN</td>\n",
              "      <td>NaN</td>\n",
              "      <td>NaN</td>\n",
              "      <td>NaN</td>\n",
              "      <td>NaN</td>\n",
              "      <td>NaN</td>\n",
              "      <td>NaN</td>\n",
              "    </tr>\n",
              "    <tr>\n",
              "      <th>1</th>\n",
              "      <td>5137654</td>\n",
              "      <td>10.1308/003588414X13824511650173</td>\n",
              "      <td>NaN</td>\n",
              "      <td>NaN</td>\n",
              "      <td>NaN</td>\n",
              "      <td>NaN</td>\n",
              "      <td>NaN</td>\n",
              "      <td>NaN</td>\n",
              "      <td>NaN</td>\n",
              "      <td>NaN</td>\n",
              "      <td>NaN</td>\n",
              "      <td>NaN</td>\n",
              "      <td>NaN</td>\n",
              "      <td>NaN</td>\n",
              "      <td>NaN</td>\n",
              "      <td>NaN</td>\n",
              "      <td>NaN</td>\n",
              "    </tr>\n",
              "    <tr>\n",
              "      <th>2</th>\n",
              "      <td>7906844</td>\n",
              "      <td>10.5395/rde.2021.46.e7</td>\n",
              "      <td>NaN</td>\n",
              "      <td>NaN</td>\n",
              "      <td>NaN</td>\n",
              "      <td>NaN</td>\n",
              "      <td>NaN</td>\n",
              "      <td>NaN</td>\n",
              "      <td>NaN</td>\n",
              "      <td>NaN</td>\n",
              "      <td>NaN</td>\n",
              "      <td>NaN</td>\n",
              "      <td>NaN</td>\n",
              "      <td>NaN</td>\n",
              "      <td>NaN</td>\n",
              "      <td>NaN</td>\n",
              "      <td>NaN</td>\n",
              "    </tr>\n",
              "    <tr>\n",
              "      <th>3</th>\n",
              "      <td>3387267</td>\n",
              "      <td>10.1371/journal.pone.0039725</td>\n",
              "      <td>Department of Medicine, Stem Cell Program and ...</td>\n",
              "      <td>Ma, Wenxue; Gutierrez, Alejandro; Goff, Daniel...</td>\n",
              "      <td>United States</td>\n",
              "      <td>1932-6203</td>\n",
              "      <td>6</td>\n",
              "      <td>PloS one</td>\n",
              "      <td>PLoS One</td>\n",
              "      <td>7</td>\n",
              "      <td>eng</td>\n",
              "      <td>e39725</td>\n",
              "      <td>3387267</td>\n",
              "      <td>22768113</td>\n",
              "      <td>2012</td>\n",
              "      <td>NOTCH1 signaling promotes human T-cell acute l...</td>\n",
              "      <td>2012.0</td>\n",
              "    </tr>\n",
              "    <tr>\n",
              "      <th>4</th>\n",
              "      <td>4221596</td>\n",
              "      <td>10.1038/mtna.2014.36</td>\n",
              "      <td>NaN</td>\n",
              "      <td>NaN</td>\n",
              "      <td>NaN</td>\n",
              "      <td>NaN</td>\n",
              "      <td>NaN</td>\n",
              "      <td>NaN</td>\n",
              "      <td>NaN</td>\n",
              "      <td>NaN</td>\n",
              "      <td>NaN</td>\n",
              "      <td>NaN</td>\n",
              "      <td>NaN</td>\n",
              "      <td>NaN</td>\n",
              "      <td>NaN</td>\n",
              "      <td>NaN</td>\n",
              "      <td>NaN</td>\n",
              "    </tr>\n",
              "  </tbody>\n",
              "</table>\n",
              "</div>"
            ],
            "text/plain": [
              "     pmcid                               doi  \\\n",
              "0  9683380        10.3389/fendo.2022.1007870   \n",
              "1  5137654  10.1308/003588414X13824511650173   \n",
              "2  7906844            10.5395/rde.2021.46.e7   \n",
              "3  3387267      10.1371/journal.pone.0039725   \n",
              "4  4221596              10.1038/mtna.2014.36   \n",
              "\n",
              "                                         affiliation  \\\n",
              "0                                                NaN   \n",
              "1                                                NaN   \n",
              "2                                                NaN   \n",
              "3  Department of Medicine, Stem Cell Program and ...   \n",
              "4                                                NaN   \n",
              "\n",
              "                                         author_list        country  \\\n",
              "0                                                NaN            NaN   \n",
              "1                                                NaN            NaN   \n",
              "2                                                NaN            NaN   \n",
              "3  Ma, Wenxue; Gutierrez, Alejandro; Goff, Daniel...  United States   \n",
              "4                                                NaN            NaN   \n",
              "\n",
              "        issn journal_issue journal_title journal_title_abbr journal_volume  \\\n",
              "0        NaN           NaN           NaN                NaN            NaN   \n",
              "1        NaN           NaN           NaN                NaN            NaN   \n",
              "2        NaN           NaN           NaN                NaN            NaN   \n",
              "3  1932-6203             6      PloS one           PLoS One              7   \n",
              "4        NaN           NaN           NaN                NaN            NaN   \n",
              "\n",
              "  lang page_number   pmc_id      pmid pub_date  \\\n",
              "0  NaN         NaN      NaN       NaN      NaN   \n",
              "1  NaN         NaN      NaN       NaN      NaN   \n",
              "2  NaN         NaN      NaN       NaN      NaN   \n",
              "3  eng      e39725  3387267  22768113     2012   \n",
              "4  NaN         NaN      NaN       NaN      NaN   \n",
              "\n",
              "                                           pub_title  pub_year  \n",
              "0                                                NaN       NaN  \n",
              "1                                                NaN       NaN  \n",
              "2                                                NaN       NaN  \n",
              "3  NOTCH1 signaling promotes human T-cell acute l...    2012.0  \n",
              "4                                                NaN       NaN  "
            ]
          },
          "execution_count": 37,
          "metadata": {},
          "output_type": "execute_result"
        }
      ],
      "source": [
        "merged_df1.head()"
      ]
    },
    {
      "cell_type": "code",
      "execution_count": 38,
      "metadata": {
        "id": "Lu74_553hIkL"
      },
      "outputs": [
        {
          "data": {
            "text/plain": [
              "Index(['pmcid', 'doi', 'affiliation', 'author_list', 'country', 'issn',\n",
              "       'journal_issue', 'journal_title', 'journal_title_abbr',\n",
              "       'journal_volume', 'lang', 'page_number', 'pmc_id', 'pmid', 'pub_date',\n",
              "       'pub_title', 'pub_year'],\n",
              "      dtype='object')"
            ]
          },
          "execution_count": 38,
          "metadata": {},
          "output_type": "execute_result"
        }
      ],
      "source": [
        "merged_df1.columns"
      ]
    },
    {
      "cell_type": "code",
      "execution_count": 39,
      "metadata": {
        "id": "ADUjJQ6nhJ2r"
      },
      "outputs": [
        {
          "data": {
            "text/plain": [
              "pmcid                      0\n",
              "doi                     3853\n",
              "affiliation           144344\n",
              "author_list           143870\n",
              "country               143952\n",
              "issn                  144126\n",
              "journal_issue         149226\n",
              "journal_title         143865\n",
              "journal_title_abbr    143865\n",
              "journal_volume        143937\n",
              "lang                  143865\n",
              "page_number           145689\n",
              "pmc_id                143865\n",
              "pmid                  143865\n",
              "pub_date              143865\n",
              "pub_title             143865\n",
              "pub_year              143865\n",
              "dtype: int64"
            ]
          },
          "execution_count": 39,
          "metadata": {},
          "output_type": "execute_result"
        }
      ],
      "source": [
        "merged_df1.isnull().sum()"
      ]
    },
    {
      "cell_type": "code",
      "execution_count": 40,
      "metadata": {
        "id": "uYj0PyzXhLBc"
      },
      "outputs": [],
      "source": [
        "# Convert column names to lowercase\n",
        "merged_df1.columns = merged_df1.columns.str.lower()"
      ]
    },
    {
      "cell_type": "code",
      "execution_count": 41,
      "metadata": {
        "id": "vifAo2P9hNiS"
      },
      "outputs": [
        {
          "name": "stdout",
          "output_type": "stream",
          "text": [
            "Partial df: 22179 items\n"
          ]
        }
      ],
      "source": [
        "partial_df = merged_df1[(merged_df1['pmcid'].notna()) & (merged_df1['pmc_id'].notna())]\n",
        "print(f'Partial df: {partial_df.shape[0]} items')"
      ]
    },
    {
      "cell_type": "code",
      "execution_count": 42,
      "metadata": {
        "id": "RLCcF8LwhPTT"
      },
      "outputs": [
        {
          "data": {
            "text/html": [
              "<div>\n",
              "<style scoped>\n",
              "    .dataframe tbody tr th:only-of-type {\n",
              "        vertical-align: middle;\n",
              "    }\n",
              "\n",
              "    .dataframe tbody tr th {\n",
              "        vertical-align: top;\n",
              "    }\n",
              "\n",
              "    .dataframe thead th {\n",
              "        text-align: right;\n",
              "    }\n",
              "</style>\n",
              "<table border=\"1\" class=\"dataframe\">\n",
              "  <thead>\n",
              "    <tr style=\"text-align: right;\">\n",
              "      <th></th>\n",
              "      <th>pmcid</th>\n",
              "      <th>doi</th>\n",
              "      <th>affiliation</th>\n",
              "      <th>author_list</th>\n",
              "      <th>country</th>\n",
              "      <th>issn</th>\n",
              "      <th>journal_issue</th>\n",
              "      <th>journal_title</th>\n",
              "      <th>journal_title_abbr</th>\n",
              "      <th>journal_volume</th>\n",
              "      <th>lang</th>\n",
              "      <th>page_number</th>\n",
              "      <th>pmc_id</th>\n",
              "      <th>pmid</th>\n",
              "      <th>pub_date</th>\n",
              "      <th>pub_title</th>\n",
              "      <th>pub_year</th>\n",
              "      <th>project_number</th>\n",
              "    </tr>\n",
              "  </thead>\n",
              "  <tbody>\n",
              "    <tr>\n",
              "      <th>0</th>\n",
              "      <td>3387267</td>\n",
              "      <td>10.1371/journal.pone.0039725</td>\n",
              "      <td>Department of Medicine, Stem Cell Program and ...</td>\n",
              "      <td>Ma, Wenxue; Gutierrez, Alejandro; Goff, Daniel...</td>\n",
              "      <td>United States</td>\n",
              "      <td>1932-6203</td>\n",
              "      <td>6</td>\n",
              "      <td>PloS one</td>\n",
              "      <td>PLoS One</td>\n",
              "      <td>7</td>\n",
              "      <td>eng</td>\n",
              "      <td>e39725</td>\n",
              "      <td>3387267</td>\n",
              "      <td>22768113</td>\n",
              "      <td>2012</td>\n",
              "      <td>NOTCH1 signaling promotes human T-cell acute l...</td>\n",
              "      <td>2012.0</td>\n",
              "      <td>K08CA133103</td>\n",
              "    </tr>\n",
              "    <tr>\n",
              "      <th>1</th>\n",
              "      <td>3387267</td>\n",
              "      <td>10.1371/journal.pone.0039725</td>\n",
              "      <td>Department of Medicine, Stem Cell Program and ...</td>\n",
              "      <td>Ma, Wenxue; Gutierrez, Alejandro; Goff, Daniel...</td>\n",
              "      <td>United States</td>\n",
              "      <td>1932-6203</td>\n",
              "      <td>6</td>\n",
              "      <td>PloS one</td>\n",
              "      <td>PLoS One</td>\n",
              "      <td>7</td>\n",
              "      <td>eng</td>\n",
              "      <td>e39725</td>\n",
              "      <td>3387267</td>\n",
              "      <td>22768113</td>\n",
              "      <td>2012</td>\n",
              "      <td>NOTCH1 signaling promotes human T-cell acute l...</td>\n",
              "      <td>2012.0</td>\n",
              "      <td>P01CA068484</td>\n",
              "    </tr>\n",
              "    <tr>\n",
              "      <th>2</th>\n",
              "      <td>7363900</td>\n",
              "      <td>10.1038/s41398-020-00916-0</td>\n",
              "      <td>Department of Psychiatry, University of Califo...</td>\n",
              "      <td>Wierenga, Christina E; Bischoff-Grethe, Amanda...</td>\n",
              "      <td>United States</td>\n",
              "      <td>2158-3188</td>\n",
              "      <td>1</td>\n",
              "      <td>Translational psychiatry</td>\n",
              "      <td>Transl Psychiatry</td>\n",
              "      <td>10</td>\n",
              "      <td>eng</td>\n",
              "      <td>236</td>\n",
              "      <td>7363900</td>\n",
              "      <td>32669557</td>\n",
              "      <td>2020 07 16</td>\n",
              "      <td>Increased anticipatory brain response to pleas...</td>\n",
              "      <td>2020.0</td>\n",
              "      <td>R01MH113588</td>\n",
              "    </tr>\n",
              "    <tr>\n",
              "      <th>3</th>\n",
              "      <td>7363900</td>\n",
              "      <td>10.1038/s41398-020-00916-0</td>\n",
              "      <td>Department of Psychiatry, University of Califo...</td>\n",
              "      <td>Wierenga, Christina E; Bischoff-Grethe, Amanda...</td>\n",
              "      <td>United States</td>\n",
              "      <td>2158-3188</td>\n",
              "      <td>1</td>\n",
              "      <td>Translational psychiatry</td>\n",
              "      <td>Transl Psychiatry</td>\n",
              "      <td>10</td>\n",
              "      <td>eng</td>\n",
              "      <td>236</td>\n",
              "      <td>7363900</td>\n",
              "      <td>32669557</td>\n",
              "      <td>2020 07 16</td>\n",
              "      <td>Increased anticipatory brain response to pleas...</td>\n",
              "      <td>2020.0</td>\n",
              "      <td>R01MH092793</td>\n",
              "    </tr>\n",
              "    <tr>\n",
              "      <th>4</th>\n",
              "      <td>7363900</td>\n",
              "      <td>10.1038/s41398-020-00916-0</td>\n",
              "      <td>Department of Psychiatry, University of Califo...</td>\n",
              "      <td>Wierenga, Christina E; Bischoff-Grethe, Amanda...</td>\n",
              "      <td>United States</td>\n",
              "      <td>2158-3188</td>\n",
              "      <td>1</td>\n",
              "      <td>Translational psychiatry</td>\n",
              "      <td>Transl Psychiatry</td>\n",
              "      <td>10</td>\n",
              "      <td>eng</td>\n",
              "      <td>236</td>\n",
              "      <td>7363900</td>\n",
              "      <td>32669557</td>\n",
              "      <td>2020 07 16</td>\n",
              "      <td>Increased anticipatory brain response to pleas...</td>\n",
              "      <td>2020.0</td>\n",
              "      <td>F32MH108311</td>\n",
              "    </tr>\n",
              "  </tbody>\n",
              "</table>\n",
              "</div>"
            ],
            "text/plain": [
              "     pmcid                           doi  \\\n",
              "0  3387267  10.1371/journal.pone.0039725   \n",
              "1  3387267  10.1371/journal.pone.0039725   \n",
              "2  7363900    10.1038/s41398-020-00916-0   \n",
              "3  7363900    10.1038/s41398-020-00916-0   \n",
              "4  7363900    10.1038/s41398-020-00916-0   \n",
              "\n",
              "                                         affiliation  \\\n",
              "0  Department of Medicine, Stem Cell Program and ...   \n",
              "1  Department of Medicine, Stem Cell Program and ...   \n",
              "2  Department of Psychiatry, University of Califo...   \n",
              "3  Department of Psychiatry, University of Califo...   \n",
              "4  Department of Psychiatry, University of Califo...   \n",
              "\n",
              "                                         author_list        country  \\\n",
              "0  Ma, Wenxue; Gutierrez, Alejandro; Goff, Daniel...  United States   \n",
              "1  Ma, Wenxue; Gutierrez, Alejandro; Goff, Daniel...  United States   \n",
              "2  Wierenga, Christina E; Bischoff-Grethe, Amanda...  United States   \n",
              "3  Wierenga, Christina E; Bischoff-Grethe, Amanda...  United States   \n",
              "4  Wierenga, Christina E; Bischoff-Grethe, Amanda...  United States   \n",
              "\n",
              "        issn journal_issue             journal_title journal_title_abbr  \\\n",
              "0  1932-6203             6                  PloS one           PLoS One   \n",
              "1  1932-6203             6                  PloS one           PLoS One   \n",
              "2  2158-3188             1  Translational psychiatry  Transl Psychiatry   \n",
              "3  2158-3188             1  Translational psychiatry  Transl Psychiatry   \n",
              "4  2158-3188             1  Translational psychiatry  Transl Psychiatry   \n",
              "\n",
              "  journal_volume lang page_number   pmc_id      pmid    pub_date  \\\n",
              "0              7  eng      e39725  3387267  22768113        2012   \n",
              "1              7  eng      e39725  3387267  22768113        2012   \n",
              "2             10  eng         236  7363900  32669557  2020 07 16   \n",
              "3             10  eng         236  7363900  32669557  2020 07 16   \n",
              "4             10  eng         236  7363900  32669557  2020 07 16   \n",
              "\n",
              "                                           pub_title  pub_year project_number  \n",
              "0  NOTCH1 signaling promotes human T-cell acute l...    2012.0    K08CA133103  \n",
              "1  NOTCH1 signaling promotes human T-cell acute l...    2012.0    P01CA068484  \n",
              "2  Increased anticipatory brain response to pleas...    2020.0    R01MH113588  \n",
              "3  Increased anticipatory brain response to pleas...    2020.0    R01MH092793  \n",
              "4  Increased anticipatory brain response to pleas...    2020.0    F32MH108311  "
            ]
          },
          "execution_count": 42,
          "metadata": {},
          "output_type": "execute_result"
        }
      ],
      "source": [
        "merged_df2 = pd.merge(partial_df, link_tables, on='pmid', how='left')\n",
        "merged_df2.head()"
      ]
    },
    {
      "cell_type": "code",
      "execution_count": 43,
      "metadata": {
        "id": "1iCgb4DghQ1t"
      },
      "outputs": [],
      "source": [
        "# Drop unuseful columns\n",
        "columns_to_drop = ['journal_volume', 'lang', 'page_number', 'pmc_id']\n",
        "merged_df2.drop(columns=columns_to_drop, inplace=True)"
      ]
    },
    {
      "cell_type": "code",
      "execution_count": 44,
      "metadata": {
        "id": "iQzZF3nbhSJ6"
      },
      "outputs": [
        {
          "data": {
            "text/plain": [
              "Index(['pmcid', 'doi', 'affiliation', 'author_list', 'country', 'issn',\n",
              "       'journal_issue', 'journal_title', 'journal_title_abbr', 'pmid',\n",
              "       'pub_date', 'pub_title', 'pub_year', 'project_number'],\n",
              "      dtype='object')"
            ]
          },
          "execution_count": 44,
          "metadata": {},
          "output_type": "execute_result"
        }
      ],
      "source": [
        "merged_df2.columns"
      ]
    },
    {
      "cell_type": "code",
      "execution_count": 45,
      "metadata": {
        "id": "T16D7kmYhTOD"
      },
      "outputs": [
        {
          "name": "stdout",
          "output_type": "stream",
          "text": [
            "<class 'pandas.core.frame.DataFrame'>\n",
            "RangeIndex: 69795 entries, 0 to 69794\n",
            "Data columns (total 14 columns):\n",
            " #   Column              Non-Null Count  Dtype  \n",
            "---  ------              --------------  -----  \n",
            " 0   pmcid               69795 non-null  object \n",
            " 1   doi                 68452 non-null  object \n",
            " 2   affiliation         68368 non-null  object \n",
            " 3   author_list         69763 non-null  object \n",
            " 4   country             69617 non-null  object \n",
            " 5   issn                69102 non-null  object \n",
            " 6   journal_issue       55134 non-null  object \n",
            " 7   journal_title       69795 non-null  object \n",
            " 8   journal_title_abbr  69795 non-null  object \n",
            " 9   pmid                69795 non-null  object \n",
            " 10  pub_date            69795 non-null  object \n",
            " 11  pub_title           69795 non-null  object \n",
            " 12  pub_year            69795 non-null  float64\n",
            " 13  project_number      69795 non-null  object \n",
            "dtypes: float64(1), object(13)\n",
            "memory usage: 7.5+ MB\n"
          ]
        }
      ],
      "source": [
        "merged_df2.info()"
      ]
    },
    {
      "cell_type": "code",
      "execution_count": 46,
      "metadata": {
        "id": "Wkt_yiSAhUXM"
      },
      "outputs": [
        {
          "data": {
            "text/html": [
              "<div>\n",
              "<style scoped>\n",
              "    .dataframe tbody tr th:only-of-type {\n",
              "        vertical-align: middle;\n",
              "    }\n",
              "\n",
              "    .dataframe tbody tr th {\n",
              "        vertical-align: top;\n",
              "    }\n",
              "\n",
              "    .dataframe thead th {\n",
              "        text-align: right;\n",
              "    }\n",
              "</style>\n",
              "<table border=\"1\" class=\"dataframe\">\n",
              "  <thead>\n",
              "    <tr style=\"text-align: right;\">\n",
              "      <th></th>\n",
              "      <th>pmcid</th>\n",
              "      <th>doi</th>\n",
              "      <th>affiliation</th>\n",
              "      <th>author_list</th>\n",
              "      <th>country</th>\n",
              "      <th>issn</th>\n",
              "      <th>journal_issue</th>\n",
              "      <th>journal_title</th>\n",
              "      <th>journal_title_abbr</th>\n",
              "      <th>pmid</th>\n",
              "      <th>pub_date</th>\n",
              "      <th>pub_title</th>\n",
              "      <th>pub_year</th>\n",
              "      <th>project_number</th>\n",
              "    </tr>\n",
              "  </thead>\n",
              "  <tbody>\n",
              "    <tr>\n",
              "      <th>0</th>\n",
              "      <td>3387267</td>\n",
              "      <td>10.1371/journal.pone.0039725</td>\n",
              "      <td>Department of Medicine, Stem Cell Program and ...</td>\n",
              "      <td>Ma, Wenxue; Gutierrez, Alejandro; Goff, Daniel...</td>\n",
              "      <td>United States</td>\n",
              "      <td>1932-6203</td>\n",
              "      <td>6</td>\n",
              "      <td>PloS one</td>\n",
              "      <td>PLoS One</td>\n",
              "      <td>22768113</td>\n",
              "      <td>2012</td>\n",
              "      <td>NOTCH1 signaling promotes human T-cell acute l...</td>\n",
              "      <td>2012.0</td>\n",
              "      <td>K08CA133103</td>\n",
              "    </tr>\n",
              "    <tr>\n",
              "      <th>1</th>\n",
              "      <td>3387267</td>\n",
              "      <td>10.1371/journal.pone.0039725</td>\n",
              "      <td>Department of Medicine, Stem Cell Program and ...</td>\n",
              "      <td>Ma, Wenxue; Gutierrez, Alejandro; Goff, Daniel...</td>\n",
              "      <td>United States</td>\n",
              "      <td>1932-6203</td>\n",
              "      <td>6</td>\n",
              "      <td>PloS one</td>\n",
              "      <td>PLoS One</td>\n",
              "      <td>22768113</td>\n",
              "      <td>2012</td>\n",
              "      <td>NOTCH1 signaling promotes human T-cell acute l...</td>\n",
              "      <td>2012.0</td>\n",
              "      <td>P01CA068484</td>\n",
              "    </tr>\n",
              "  </tbody>\n",
              "</table>\n",
              "</div>"
            ],
            "text/plain": [
              "     pmcid                           doi  \\\n",
              "0  3387267  10.1371/journal.pone.0039725   \n",
              "1  3387267  10.1371/journal.pone.0039725   \n",
              "\n",
              "                                         affiliation  \\\n",
              "0  Department of Medicine, Stem Cell Program and ...   \n",
              "1  Department of Medicine, Stem Cell Program and ...   \n",
              "\n",
              "                                         author_list        country  \\\n",
              "0  Ma, Wenxue; Gutierrez, Alejandro; Goff, Daniel...  United States   \n",
              "1  Ma, Wenxue; Gutierrez, Alejandro; Goff, Daniel...  United States   \n",
              "\n",
              "        issn journal_issue journal_title journal_title_abbr      pmid  \\\n",
              "0  1932-6203             6      PloS one           PLoS One  22768113   \n",
              "1  1932-6203             6      PloS one           PLoS One  22768113   \n",
              "\n",
              "  pub_date                                          pub_title  pub_year  \\\n",
              "0     2012  NOTCH1 signaling promotes human T-cell acute l...    2012.0   \n",
              "1     2012  NOTCH1 signaling promotes human T-cell acute l...    2012.0   \n",
              "\n",
              "  project_number  \n",
              "0    K08CA133103  \n",
              "1    P01CA068484  "
            ]
          },
          "execution_count": 46,
          "metadata": {},
          "output_type": "execute_result"
        }
      ],
      "source": [
        "merged_df2.head(2)"
      ]
    },
    {
      "cell_type": "code",
      "execution_count": 47,
      "metadata": {
        "id": "A1lmUVw1hVn0"
      },
      "outputs": [],
      "source": [
        "# Dataframe fro the merge - convert to string\n",
        "merged_df2.fillna('', inplace = True)\n",
        "merged_df2 = merged_df2.astype(str)"
      ]
    },
    {
      "cell_type": "code",
      "execution_count": 48,
      "metadata": {
        "id": "8VSJZ_JvhXdr"
      },
      "outputs": [
        {
          "name": "stdout",
          "output_type": "stream",
          "text": [
            "Removed items: 226\n"
          ]
        }
      ],
      "source": [
        "# Drop duplicates\n",
        "filter_df2 = merged_df2.drop_duplicates(keep='last')\n",
        "print(f'Removed items: {merged_df2.shape[0] - filter_df2.shape[0]}')"
      ]
    },
    {
      "cell_type": "code",
      "execution_count": 49,
      "metadata": {
        "id": "hPMbUGFJhZDb"
      },
      "outputs": [
        {
          "data": {
            "text/html": [
              "<div>\n",
              "<style scoped>\n",
              "    .dataframe tbody tr th:only-of-type {\n",
              "        vertical-align: middle;\n",
              "    }\n",
              "\n",
              "    .dataframe tbody tr th {\n",
              "        vertical-align: top;\n",
              "    }\n",
              "\n",
              "    .dataframe thead th {\n",
              "        text-align: right;\n",
              "    }\n",
              "</style>\n",
              "<table border=\"1\" class=\"dataframe\">\n",
              "  <thead>\n",
              "    <tr style=\"text-align: right;\">\n",
              "      <th></th>\n",
              "      <th>pmcid</th>\n",
              "      <th>doi</th>\n",
              "      <th>pmid</th>\n",
              "      <th>project_number</th>\n",
              "    </tr>\n",
              "  </thead>\n",
              "  <tbody>\n",
              "    <tr>\n",
              "      <th>0</th>\n",
              "      <td>3387267</td>\n",
              "      <td>10.1371/journal.pone.0039725</td>\n",
              "      <td>22768113</td>\n",
              "      <td>K08CA133103</td>\n",
              "    </tr>\n",
              "    <tr>\n",
              "      <th>1</th>\n",
              "      <td>3387267</td>\n",
              "      <td>10.1371/journal.pone.0039725</td>\n",
              "      <td>22768113</td>\n",
              "      <td>P01CA068484</td>\n",
              "    </tr>\n",
              "    <tr>\n",
              "      <th>2</th>\n",
              "      <td>7363900</td>\n",
              "      <td>10.1038/s41398-020-00916-0</td>\n",
              "      <td>32669557</td>\n",
              "      <td>R01MH113588</td>\n",
              "    </tr>\n",
              "    <tr>\n",
              "      <th>3</th>\n",
              "      <td>7363900</td>\n",
              "      <td>10.1038/s41398-020-00916-0</td>\n",
              "      <td>32669557</td>\n",
              "      <td>R01MH092793</td>\n",
              "    </tr>\n",
              "    <tr>\n",
              "      <th>4</th>\n",
              "      <td>7363900</td>\n",
              "      <td>10.1038/s41398-020-00916-0</td>\n",
              "      <td>32669557</td>\n",
              "      <td>F32MH108311</td>\n",
              "    </tr>\n",
              "  </tbody>\n",
              "</table>\n",
              "</div>"
            ],
            "text/plain": [
              "     pmcid                           doi      pmid project_number\n",
              "0  3387267  10.1371/journal.pone.0039725  22768113    K08CA133103\n",
              "1  3387267  10.1371/journal.pone.0039725  22768113    P01CA068484\n",
              "2  7363900    10.1038/s41398-020-00916-0  32669557    R01MH113588\n",
              "3  7363900    10.1038/s41398-020-00916-0  32669557    R01MH092793\n",
              "4  7363900    10.1038/s41398-020-00916-0  32669557    F32MH108311"
            ]
          },
          "execution_count": 49,
          "metadata": {},
          "output_type": "execute_result"
        }
      ],
      "source": [
        "filter_df = filter_df2[['pmcid', 'doi', 'pmid', 'project_number']]\n",
        "filter_df.head()"
      ]
    },
    {
      "cell_type": "code",
      "execution_count": 50,
      "metadata": {
        "id": "XHz3w71Kha_D"
      },
      "outputs": [
        {
          "name": "stdout",
          "output_type": "stream",
          "text": [
            "Removed items: 70\n"
          ]
        }
      ],
      "source": [
        "# Drop duplicates\n",
        "codes_df = filter_df.drop_duplicates(keep='last')\n",
        "print(f'Removed items: {filter_df.shape[0] - codes_df.shape[0]}')"
      ]
    },
    {
      "cell_type": "code",
      "execution_count": 51,
      "metadata": {
        "id": "nHR8qHoKhc3P"
      },
      "outputs": [
        {
          "name": "stdout",
          "output_type": "stream",
          "text": [
            "Unique pmc-ids: 22146\n"
          ]
        }
      ],
      "source": [
        "print(f\"Unique pmc-ids: {len(codes_df.pmcid.unique())}\")"
      ]
    },
    {
      "cell_type": "markdown",
      "metadata": {
        "id": "RmWfTRVhheQl"
      },
      "source": [
        "### Projects"
      ]
    },
    {
      "cell_type": "code",
      "execution_count": 52,
      "metadata": {
        "id": "vJzEo-uohexT"
      },
      "outputs": [
        {
          "name": "stdout",
          "output_type": "stream",
          "text": [
            "Unique project codes: 33200\n"
          ]
        }
      ],
      "source": [
        "projects_number = list(codes_df.project_number.unique())\n",
        "print(f'Unique project codes: {len(projects_number)}')"
      ]
    },
    {
      "cell_type": "code",
      "execution_count": 53,
      "metadata": {
        "id": "UKy-iezRhgCN"
      },
      "outputs": [
        {
          "name": "stdout",
          "output_type": "stream",
          "text": [
            "None: False\n",
            "Nan: False\n",
            "Null: False\n"
          ]
        }
      ],
      "source": [
        "# Check if a list contains Nan, nulls or None\n",
        "check_list_integrity(projects_number)"
      ]
    },
    {
      "cell_type": "code",
      "execution_count": 54,
      "metadata": {
        "id": "0N0CbLNQhhVC"
      },
      "outputs": [
        {
          "name": "stdout",
          "output_type": "stream",
          "text": [
            "Number of projects: 616345\n"
          ]
        },
        {
          "data": {
            "text/plain": [
              "(616345, 47)"
            ]
          },
          "execution_count": 54,
          "metadata": {},
          "output_type": "execute_result"
        }
      ],
      "source": [
        "all_projects = create_df_from_csv(folders, 'projects', projects_number)  # filter: pmc_ids\n",
        "# all_projects = pd.read_csv('data/processing/projects.csv', index_col=0, low_memory=False)\n",
        "all_projects.shape"
      ]
    },
    {
      "cell_type": "code",
      "execution_count": 55,
      "metadata": {
        "id": "vEJJE6YJhjwC"
      },
      "outputs": [],
      "source": [
        "all_projects.columns = all_projects.columns.str.lower()"
      ]
    },
    {
      "cell_type": "code",
      "execution_count": 56,
      "metadata": {
        "id": "LuM7JMk3hkw1"
      },
      "outputs": [
        {
          "data": {
            "text/plain": [
              "Index(['application_id', 'activity', 'administering_ic', 'application_type',\n",
              "       'arra_funded', 'award_notice_date', 'budget_start', 'budget_end',\n",
              "       'cfda_code', 'core_project_num', 'ed_inst_type', 'foa_number',\n",
              "       'full_project_num', 'subproject_id', 'funding_ics', 'fy', 'ic_name',\n",
              "       'nih_spending_cats', 'org_city', 'org_country', 'org_dept',\n",
              "       'org_district', 'org_duns', 'org_fips', 'org_name', 'org_state',\n",
              "       'org_zipcode', 'phr', 'pi_ids', 'pi_names', 'program_officer_name',\n",
              "       'project_start', 'project_end', 'project_terms', 'project_title',\n",
              "       'serial_number', 'study_section', 'study_section_name', 'suffix',\n",
              "       'support_year', 'total_cost', 'total_cost_sub_project',\n",
              "       'funding_mechanism', 'direct_cost_amt', 'indirect_cost_amt',\n",
              "       'org_ipf_code', 'opportunity number'],\n",
              "      dtype='object')"
            ]
          },
          "execution_count": 56,
          "metadata": {},
          "output_type": "execute_result"
        }
      ],
      "source": [
        "all_projects.columns"
      ]
    },
    {
      "cell_type": "code",
      "execution_count": 57,
      "metadata": {
        "id": "Y4spw7KDhnXz"
      },
      "outputs": [],
      "source": [
        "int_conversion =['application_type', 'support_year', 'total_cost',\n",
        "                 'total_cost_sub_project', 'direct_cost_amt', 'indirect_cost_amt', 'org_ipf_code']"
      ]
    },
    {
      "cell_type": "code",
      "execution_count": 58,
      "metadata": {
        "id": "cQWDolCshpLS"
      },
      "outputs": [],
      "source": [
        "for i in int_conversion:\n",
        "    all_projects.fillna(0, inplace = True)\n",
        "    all_projects[i] = all_projects[i].astype(int)\n",
        "    all_projects[i] = all_projects[i].replace(0, '')"
      ]
    },
    {
      "cell_type": "code",
      "execution_count": 59,
      "metadata": {
        "id": "pSyQZDehhqwz"
      },
      "outputs": [],
      "source": [
        "# Drop unuseful columns\n",
        "columns_to_drop = ['cfda_code', 'org_district', 'org_duns', 'org_zipcode', 'pi_ids', 'suffix']\n",
        "if 'cfda_code' in all_projects.columns:\n",
        "    all_projects.drop(columns=columns_to_drop, inplace=True)"
      ]
    },
    {
      "cell_type": "code",
      "execution_count": 60,
      "metadata": {
        "id": "f5nc2Jq7hr8r"
      },
      "outputs": [
        {
          "name": "stdout",
          "output_type": "stream",
          "text": [
            "Duplicate Rows: 0\n"
          ]
        }
      ],
      "source": [
        "count_duplicates(all_projects)"
      ]
    },
    {
      "cell_type": "code",
      "execution_count": 61,
      "metadata": {
        "id": "I6-hgX4EhuqV"
      },
      "outputs": [
        {
          "name": "stdout",
          "output_type": "stream",
          "text": [
            "Values that repeat multiple times: 31117\n"
          ]
        }
      ],
      "source": [
        "repeated_values =count_repeat_values(all_projects, 'core_project_num')"
      ]
    },
    {
      "cell_type": "code",
      "execution_count": 62,
      "metadata": {
        "id": "8lcAmF8fhwC8"
      },
      "outputs": [
        {
          "name": "stdout",
          "output_type": "stream",
          "text": [
            "One project name > 4915 rows\n"
          ]
        }
      ],
      "source": [
        "rv = all_projects[all_projects.core_project_num == repeated_values[0]]\n",
        "print(f'One project name > {rv.shape[0]} rows')"
      ]
    },
    {
      "cell_type": "code",
      "execution_count": 63,
      "metadata": {
        "id": "FFPE0vFbhyEC"
      },
      "outputs": [
        {
          "name": "stdout",
          "output_type": "stream",
          "text": [
            "Removed items: 0\n"
          ]
        }
      ],
      "source": [
        "# Drop duplicates\n",
        "filter_projects = all_projects.drop_duplicates(keep='last')\n",
        "print(f'Removed items: {all_projects.shape[0] - filter_projects.shape[0]}')"
      ]
    },
    {
      "cell_type": "code",
      "execution_count": 64,
      "metadata": {
        "id": "Tz1eK_uPhzdS"
      },
      "outputs": [
        {
          "data": {
            "text/plain": [
              "(616345, 41)"
            ]
          },
          "execution_count": 64,
          "metadata": {},
          "output_type": "execute_result"
        }
      ],
      "source": [
        "projects = filter_projects[filter_projects[\"core_project_num\"].isin(projects_number)]\n",
        "projects.shape"
      ]
    },
    {
      "cell_type": "code",
      "execution_count": 65,
      "metadata": {
        "id": "k4faj1UWh1E7"
      },
      "outputs": [
        {
          "name": "stdout",
          "output_type": "stream",
          "text": [
            "Removed items: 0\n"
          ]
        }
      ],
      "source": [
        "print(f'Removed items: {all_projects.shape[0] - projects.shape[0]}')"
      ]
    },
    {
      "cell_type": "code",
      "execution_count": 66,
      "metadata": {
        "id": "SAg2J3blh2kS"
      },
      "outputs": [],
      "source": [
        "projects.columns = projects.columns.str.lower()"
      ]
    },
    {
      "cell_type": "code",
      "execution_count": 67,
      "metadata": {
        "id": "On7tYQuTh3qE"
      },
      "outputs": [
        {
          "data": {
            "text/plain": [
              "Index(['application_id', 'activity', 'administering_ic', 'application_type',\n",
              "       'arra_funded', 'award_notice_date', 'budget_start', 'budget_end',\n",
              "       'core_project_num', 'ed_inst_type', 'foa_number', 'full_project_num',\n",
              "       'subproject_id', 'funding_ics', 'fy', 'ic_name', 'nih_spending_cats',\n",
              "       'org_city', 'org_country', 'org_dept', 'org_fips', 'org_name',\n",
              "       'org_state', 'phr', 'pi_names', 'program_officer_name', 'project_start',\n",
              "       'project_end', 'project_terms', 'project_title', 'serial_number',\n",
              "       'study_section', 'study_section_name', 'support_year', 'total_cost',\n",
              "       'total_cost_sub_project', 'funding_mechanism', 'direct_cost_amt',\n",
              "       'indirect_cost_amt', 'org_ipf_code', 'opportunity number'],\n",
              "      dtype='object')"
            ]
          },
          "execution_count": 67,
          "metadata": {},
          "output_type": "execute_result"
        }
      ],
      "source": [
        "projects.columns"
      ]
    },
    {
      "cell_type": "code",
      "execution_count": 68,
      "metadata": {
        "id": "vedyMuSYh5QL"
      },
      "outputs": [],
      "source": [
        "# Dataframe fro the merge - convert to string\n",
        "projects.fillna('', inplace = True)\n",
        "projects = projects.astype(str)"
      ]
    },
    {
      "cell_type": "markdown",
      "metadata": {
        "id": "0MC60wJ6h6qj"
      },
      "source": [
        "### Save partial results"
      ]
    },
    {
      "cell_type": "code",
      "execution_count": null,
      "metadata": {
        "id": "iYWWSBnMh7qF"
      },
      "outputs": [],
      "source": [
        "pmc_ids_df.to_csv('data/processing/codes.csv')\n",
        "publications.to_csv('data/processing/publications.csv')\n",
        "link_tables.to_csv('data/processing/link_tables.csv')\n",
        "merged_df2.to_csv('data/processing/merge_df2.csv')\n",
        "projects.to_csv('data/processing/projects.csv')"
      ]
    }
  ],
  "metadata": {
    "colab": {
      "provenance": []
    },
    "kernelspec": {
      "display_name": "Python 3",
      "name": "python3"
    },
    "language_info": {
      "codemirror_mode": {
        "name": "ipython",
        "version": 3
      },
      "file_extension": ".py",
      "mimetype": "text/x-python",
      "name": "python",
      "nbconvert_exporter": "python",
      "pygments_lexer": "ipython3",
      "version": "3.10.13"
    }
  },
  "nbformat": 4,
  "nbformat_minor": 0
}
