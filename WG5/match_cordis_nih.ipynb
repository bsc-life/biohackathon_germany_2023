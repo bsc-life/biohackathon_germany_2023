{
 "cells": [
  {
   "cell_type": "code",
   "execution_count": 1,
   "id": "e801df23",
   "metadata": {
    "ExecuteTime": {
     "end_time": "2023-12-14T15:25:36.874332Z",
     "start_time": "2023-12-14T15:25:36.070069Z"
    }
   },
   "outputs": [],
   "source": [
    "import pandas as pd\n",
    "import numpy as np\n",
    "import os, sys\n",
    "from tqdm import tqdm"
   ]
  },
  {
   "cell_type": "markdown",
   "id": "e5895e2e",
   "metadata": {},
   "source": [
    "# Matching CORDIS and NIH info"
   ]
  },
  {
   "cell_type": "code",
   "execution_count": 2,
   "id": "1a97be83",
   "metadata": {
    "ExecuteTime": {
     "end_time": "2023-12-14T15:25:37.217652Z",
     "start_time": "2023-12-14T15:25:36.877740Z"
    }
   },
   "outputs": [
    {
     "data": {
      "text/plain": [
       "(3436, 52)"
      ]
     },
     "execution_count": 2,
     "metadata": {},
     "output_type": "execute_result"
    }
   ],
   "source": [
    "cordis_and_counts=pd.read_csv(\"data/cordis_and_counts.csv\",sep=\";\",index_col=0)\n",
    "cordis_and_counts.shape"
   ]
  },
  {
   "cell_type": "code",
   "execution_count": 3,
   "id": "2787177d",
   "metadata": {
    "ExecuteTime": {
     "end_time": "2023-12-14T15:25:37.226603Z",
     "start_time": "2023-12-14T15:25:37.222118Z"
    }
   },
   "outputs": [],
   "source": [
    "nih_columns_redux=[\"pmcid\",\"doi\",\"pub_affiliation\",\n",
    "\"pub_author_list\", \"pub_country\", \"pub_issn\",\n",
    "\"pub_journal_issue\", \"pub_journal_title\", \"pub_journal_title_abbr\",\n",
    "\"pub_pmid\", \"pub_date\", \"pub_title\",\n",
    "\"pub_year\", \"pub_project_number\", \"proj_total_cost\",\n",
    "\"proj_project_start\", \"proj_project_end\"]"
   ]
  },
  {
   "cell_type": "code",
   "execution_count": 4,
   "id": "02dd5d3f",
   "metadata": {
    "ExecuteTime": {
     "end_time": "2023-12-14T15:25:37.323469Z",
     "start_time": "2023-12-14T15:25:37.229367Z"
    }
   },
   "outputs": [
    {
     "data": {
      "text/plain": [
       "(1000, 55)"
      ]
     },
     "execution_count": 4,
     "metadata": {},
     "output_type": "execute_result"
    }
   ],
   "source": [
    "nih_results_1000=pd.read_csv(\"data/nih_results-1000.csv\",index_col=0)\n",
    "nih_results_1000.shape"
   ]
  },
  {
   "cell_type": "code",
   "execution_count": 5,
   "id": "051571d2",
   "metadata": {
    "ExecuteTime": {
     "end_time": "2023-12-14T15:25:37.331917Z",
     "start_time": "2023-12-14T15:25:37.326110Z"
    }
   },
   "outputs": [
    {
     "data": {
      "text/plain": [
       "55"
      ]
     },
     "execution_count": 5,
     "metadata": {},
     "output_type": "execute_result"
    }
   ],
   "source": [
    "columns_nih = nih_results_1000.columns.tolist()\n",
    "len(columns_nih)"
   ]
  },
  {
   "cell_type": "code",
   "execution_count": 6,
   "id": "ce0dc62c",
   "metadata": {
    "ExecuteTime": {
     "end_time": "2023-12-14T15:25:37.349005Z",
     "start_time": "2023-12-14T15:25:37.335092Z"
    }
   },
   "outputs": [
    {
     "data": {
      "text/plain": [
       "52"
      ]
     },
     "execution_count": 6,
     "metadata": {},
     "output_type": "execute_result"
    }
   ],
   "source": [
    "columns_cordis = cordis_and_counts.columns.tolist()\n",
    "len(columns_cordis)"
   ]
  },
  {
   "cell_type": "code",
   "execution_count": 39,
   "id": "f826a918",
   "metadata": {
    "ExecuteTime": {
     "end_time": "2023-12-14T15:45:09.886975Z",
     "start_time": "2023-12-14T15:45:09.875597Z"
    },
    "scrolled": false
   },
   "outputs": [
    {
     "data": {
      "text/html": [
       "<div>\n",
       "<style scoped>\n",
       "    .dataframe tbody tr th:only-of-type {\n",
       "        vertical-align: middle;\n",
       "    }\n",
       "\n",
       "    .dataframe tbody tr th {\n",
       "        vertical-align: top;\n",
       "    }\n",
       "\n",
       "    .dataframe thead th {\n",
       "        text-align: right;\n",
       "    }\n",
       "</style>\n",
       "<table border=\"1\" class=\"dataframe\">\n",
       "  <thead>\n",
       "    <tr style=\"text-align: right;\">\n",
       "      <th></th>\n",
       "      <th>cordis</th>\n",
       "      <th>nih</th>\n",
       "    </tr>\n",
       "  </thead>\n",
       "  <tbody>\n",
       "    <tr>\n",
       "      <th>0</th>\n",
       "      <td>pmcid</td>\n",
       "      <td>pmcid</td>\n",
       "    </tr>\n",
       "    <tr>\n",
       "      <th>1</th>\n",
       "      <td>agg_sentence_index</td>\n",
       "      <td>nan</td>\n",
       "    </tr>\n",
       "    <tr>\n",
       "      <th>2</th>\n",
       "      <td>agg_n_fem</td>\n",
       "      <td>nan</td>\n",
       "    </tr>\n",
       "    <tr>\n",
       "      <th>3</th>\n",
       "      <td>agg_n_male</td>\n",
       "      <td>nan</td>\n",
       "    </tr>\n",
       "    <tr>\n",
       "      <th>4</th>\n",
       "      <td>agg_perc_fem</td>\n",
       "      <td>nan</td>\n",
       "    </tr>\n",
       "    <tr>\n",
       "      <th>5</th>\n",
       "      <td>agg_perc_male</td>\n",
       "      <td>nan</td>\n",
       "    </tr>\n",
       "    <tr>\n",
       "      <th>6</th>\n",
       "      <td>agg_sample</td>\n",
       "      <td>nan</td>\n",
       "    </tr>\n",
       "    <tr>\n",
       "      <th>7</th>\n",
       "      <td>clean_n_fem</td>\n",
       "      <td>nan</td>\n",
       "    </tr>\n",
       "    <tr>\n",
       "      <th>8</th>\n",
       "      <td>clean_n_male</td>\n",
       "      <td>nan</td>\n",
       "    </tr>\n",
       "    <tr>\n",
       "      <th>9</th>\n",
       "      <td>clean_perc_fem</td>\n",
       "      <td>nan</td>\n",
       "    </tr>\n",
       "    <tr>\n",
       "      <th>10</th>\n",
       "      <td>clean_perc_male</td>\n",
       "      <td>nan</td>\n",
       "    </tr>\n",
       "    <tr>\n",
       "      <th>11</th>\n",
       "      <td>clean_sample</td>\n",
       "      <td>nan</td>\n",
       "    </tr>\n",
       "    <tr>\n",
       "      <th>12</th>\n",
       "      <td>max_n_fem</td>\n",
       "      <td>nan</td>\n",
       "    </tr>\n",
       "    <tr>\n",
       "      <th>13</th>\n",
       "      <td>max_n_male</td>\n",
       "      <td>nan</td>\n",
       "    </tr>\n",
       "    <tr>\n",
       "      <th>14</th>\n",
       "      <td>max_perc_fem</td>\n",
       "      <td>nan</td>\n",
       "    </tr>\n",
       "    <tr>\n",
       "      <th>15</th>\n",
       "      <td>max_perc_male</td>\n",
       "      <td>nan</td>\n",
       "    </tr>\n",
       "    <tr>\n",
       "      <th>16</th>\n",
       "      <td>max_sample</td>\n",
       "      <td>nan</td>\n",
       "    </tr>\n",
       "    <tr>\n",
       "      <th>17</th>\n",
       "      <td>article_categories</td>\n",
       "      <td>nan</td>\n",
       "    </tr>\n",
       "    <tr>\n",
       "      <th>18</th>\n",
       "      <td>article_title</td>\n",
       "      <td>nan</td>\n",
       "    </tr>\n",
       "    <tr>\n",
       "      <th>19</th>\n",
       "      <td>authors</td>\n",
       "      <td>nan</td>\n",
       "    </tr>\n",
       "    <tr>\n",
       "      <th>20</th>\n",
       "      <td>copyright_info</td>\n",
       "      <td>nan</td>\n",
       "    </tr>\n",
       "    <tr>\n",
       "      <th>21</th>\n",
       "      <td>funding</td>\n",
       "      <td>nan</td>\n",
       "    </tr>\n",
       "    <tr>\n",
       "      <th>22</th>\n",
       "      <td>publisher_id</td>\n",
       "      <td>nan</td>\n",
       "    </tr>\n",
       "    <tr>\n",
       "      <th>23</th>\n",
       "      <td>doi</td>\n",
       "      <td>doi</td>\n",
       "    </tr>\n",
       "    <tr>\n",
       "      <th>24</th>\n",
       "      <td>journal_title</td>\n",
       "      <td>nan</td>\n",
       "    </tr>\n",
       "    <tr>\n",
       "      <th>25</th>\n",
       "      <td>keywords</td>\n",
       "      <td>nan</td>\n",
       "    </tr>\n",
       "    <tr>\n",
       "      <th>26</th>\n",
       "      <td>publication_date</td>\n",
       "      <td>nan</td>\n",
       "    </tr>\n",
       "    <tr>\n",
       "      <th>27</th>\n",
       "      <td>project_id_cordis</td>\n",
       "      <td>proj_core_project_num</td>\n",
       "    </tr>\n",
       "    <tr>\n",
       "      <th>28</th>\n",
       "      <td>acronym_projects_cordis</td>\n",
       "      <td>nan</td>\n",
       "    </tr>\n",
       "    <tr>\n",
       "      <th>29</th>\n",
       "      <td>status_cordis</td>\n",
       "      <td>nan</td>\n",
       "    </tr>\n",
       "    <tr>\n",
       "      <th>30</th>\n",
       "      <td>title_projects_cordis</td>\n",
       "      <td>proj_project_title</td>\n",
       "    </tr>\n",
       "    <tr>\n",
       "      <th>31</th>\n",
       "      <td>startdate_cordis</td>\n",
       "      <td>proj_project_start</td>\n",
       "    </tr>\n",
       "    <tr>\n",
       "      <th>32</th>\n",
       "      <td>enddate_cordis</td>\n",
       "      <td>proj_project_end</td>\n",
       "    </tr>\n",
       "    <tr>\n",
       "      <th>33</th>\n",
       "      <td>totalcost_cordis</td>\n",
       "      <td>proj_total_cost</td>\n",
       "    </tr>\n",
       "    <tr>\n",
       "      <th>34</th>\n",
       "      <td>ecmaxcontribution_cordis</td>\n",
       "      <td>nan</td>\n",
       "    </tr>\n",
       "    <tr>\n",
       "      <th>35</th>\n",
       "      <td>legalbasis_cordis</td>\n",
       "      <td>nan</td>\n",
       "    </tr>\n",
       "    <tr>\n",
       "      <th>36</th>\n",
       "      <td>topics_cordis</td>\n",
       "      <td>proj_nih_spending_cats</td>\n",
       "    </tr>\n",
       "    <tr>\n",
       "      <th>37</th>\n",
       "      <td>ecsignaturedate_cordis</td>\n",
       "      <td>proj_award_notice_date</td>\n",
       "    </tr>\n",
       "    <tr>\n",
       "      <th>38</th>\n",
       "      <td>frameworkprogramme_cordis</td>\n",
       "      <td>proj_funding_ics</td>\n",
       "    </tr>\n",
       "    <tr>\n",
       "      <th>39</th>\n",
       "      <td>mastercall_cordis</td>\n",
       "      <td>nan</td>\n",
       "    </tr>\n",
       "    <tr>\n",
       "      <th>40</th>\n",
       "      <td>subcall_cordis</td>\n",
       "      <td>nan</td>\n",
       "    </tr>\n",
       "    <tr>\n",
       "      <th>41</th>\n",
       "      <td>fundingscheme_cordis</td>\n",
       "      <td>nan</td>\n",
       "    </tr>\n",
       "    <tr>\n",
       "      <th>42</th>\n",
       "      <td>nature_cordis</td>\n",
       "      <td>nan</td>\n",
       "    </tr>\n",
       "    <tr>\n",
       "      <th>43</th>\n",
       "      <td>objective_cordis</td>\n",
       "      <td>nan</td>\n",
       "    </tr>\n",
       "    <tr>\n",
       "      <th>44</th>\n",
       "      <td>contentupdatedate_projects_cordis</td>\n",
       "      <td>nan</td>\n",
       "    </tr>\n",
       "    <tr>\n",
       "      <th>45</th>\n",
       "      <td>title_publications_cordis</td>\n",
       "      <td>pub_title</td>\n",
       "    </tr>\n",
       "    <tr>\n",
       "      <th>46</th>\n",
       "      <td>authors_cordis</td>\n",
       "      <td>pub_author_list</td>\n",
       "    </tr>\n",
       "    <tr>\n",
       "      <th>47</th>\n",
       "      <td>journal_title_cordis</td>\n",
       "      <td>pub_journal_title</td>\n",
       "    </tr>\n",
       "    <tr>\n",
       "      <th>48</th>\n",
       "      <td>_merge_cordis</td>\n",
       "      <td>nan</td>\n",
       "    </tr>\n",
       "    <tr>\n",
       "      <th>49</th>\n",
       "      <td>funding_body</td>\n",
       "      <td>proj_ic_name</td>\n",
       "    </tr>\n",
       "    <tr>\n",
       "      <th>50</th>\n",
       "      <td>publication_date_cordis</td>\n",
       "      <td>pub_date</td>\n",
       "    </tr>\n",
       "    <tr>\n",
       "      <th>51</th>\n",
       "      <td>acronym_publications_cordis</td>\n",
       "      <td>pub_journal_title_abbr</td>\n",
       "    </tr>\n",
       "  </tbody>\n",
       "</table>\n",
       "</div>"
      ],
      "text/plain": [
       "                               cordis                     nih\n",
       "0                               pmcid                   pmcid\n",
       "1                  agg_sentence_index                     nan\n",
       "2                           agg_n_fem                     nan\n",
       "3                          agg_n_male                     nan\n",
       "4                        agg_perc_fem                     nan\n",
       "5                       agg_perc_male                     nan\n",
       "6                          agg_sample                     nan\n",
       "7                         clean_n_fem                     nan\n",
       "8                        clean_n_male                     nan\n",
       "9                      clean_perc_fem                     nan\n",
       "10                    clean_perc_male                     nan\n",
       "11                       clean_sample                     nan\n",
       "12                          max_n_fem                     nan\n",
       "13                         max_n_male                     nan\n",
       "14                       max_perc_fem                     nan\n",
       "15                      max_perc_male                     nan\n",
       "16                         max_sample                     nan\n",
       "17                 article_categories                     nan\n",
       "18                      article_title                     nan\n",
       "19                            authors                     nan\n",
       "20                     copyright_info                     nan\n",
       "21                            funding                     nan\n",
       "22                       publisher_id                     nan\n",
       "23                                doi                     doi\n",
       "24                      journal_title                     nan\n",
       "25                           keywords                     nan\n",
       "26                   publication_date                     nan\n",
       "27                  project_id_cordis   proj_core_project_num\n",
       "28            acronym_projects_cordis                     nan\n",
       "29                      status_cordis                     nan\n",
       "30              title_projects_cordis      proj_project_title\n",
       "31                   startdate_cordis      proj_project_start\n",
       "32                     enddate_cordis        proj_project_end\n",
       "33                   totalcost_cordis         proj_total_cost\n",
       "34           ecmaxcontribution_cordis                     nan\n",
       "35                  legalbasis_cordis                     nan\n",
       "36                      topics_cordis  proj_nih_spending_cats\n",
       "37             ecsignaturedate_cordis  proj_award_notice_date\n",
       "38          frameworkprogramme_cordis        proj_funding_ics\n",
       "39                  mastercall_cordis                     nan\n",
       "40                     subcall_cordis                     nan\n",
       "41               fundingscheme_cordis                     nan\n",
       "42                      nature_cordis                     nan\n",
       "43                   objective_cordis                     nan\n",
       "44  contentupdatedate_projects_cordis                     nan\n",
       "45          title_publications_cordis               pub_title\n",
       "46                     authors_cordis         pub_author_list\n",
       "47               journal_title_cordis       pub_journal_title\n",
       "48                      _merge_cordis                     nan\n",
       "49                       funding_body            proj_ic_name\n",
       "50            publication_date_cordis                pub_date\n",
       "51        acronym_publications_cordis  pub_journal_title_abbr"
      ]
     },
     "execution_count": 39,
     "metadata": {},
     "output_type": "execute_result"
    }
   ],
   "source": [
    "df_compare_cols=pd.DataFrame(\n",
    "    np.array(\n",
    "        [\n",
    "            columns_cordis,\n",
    "            [\"pmcid\"] + \n",
    "            [np.nan] * 17 + \n",
    "            [np.nan,\n",
    "             np.nan,\n",
    "             np.nan,\n",
    "             np.nan,\n",
    "             np.nan,\n",
    "             \"doi\",\n",
    "             np.nan,\n",
    "             np.nan,\n",
    "             np.nan,\n",
    "             \"proj_core_project_num\",\n",
    "             np.nan,\n",
    "             np.nan,\n",
    "             \"proj_project_title\",\n",
    "             \"proj_project_start\",\n",
    "             \"proj_project_end\",\n",
    "             \"proj_total_cost\",\n",
    "             np.nan,\n",
    "             np.nan,\n",
    "             \"proj_nih_spending_cats\",\n",
    "             \"proj_award_notice_date\",\n",
    "             \"proj_funding_ics\"\n",
    "            ] + \n",
    "            [np.nan] * 6 +\n",
    "            [\"pub_title\",\n",
    "             \"pub_author_list\",\n",
    "             \"pub_journal_title\",\n",
    "             np.nan,\n",
    "             \"proj_ic_name\",\n",
    "             \"pub_date\",\n",
    "             \"pub_journal_title_abbr\"\n",
    "            ],\n",
    "        ]\n",
    "    ).T,\n",
    "    columns=[\"cordis\", \"nih\"],\n",
    ")\n",
    "df_compare_cols"
   ]
  },
  {
   "cell_type": "code",
   "execution_count": 8,
   "id": "afd95323",
   "metadata": {
    "ExecuteTime": {
     "end_time": "2023-12-14T15:25:37.383079Z",
     "start_time": "2023-12-14T15:25:37.377978Z"
    }
   },
   "outputs": [],
   "source": [
    "# df_compare_cols.to_csv(\"compare_cordis_nih.csv\")"
   ]
  },
  {
   "cell_type": "code",
   "execution_count": 40,
   "id": "7724183e",
   "metadata": {
    "ExecuteTime": {
     "end_time": "2023-12-14T15:45:11.803807Z",
     "start_time": "2023-12-14T15:45:11.799114Z"
    }
   },
   "outputs": [],
   "source": [
    "list_final_nih=[]\n",
    "for c,n in zip(df_compare_cols[\"cordis\"],df_compare_cols[\"nih\"]):\n",
    "    if n==\"nan\":\n",
    "        list_final_nih.append(\"nan\")\n",
    "    elif c.endswith(\"cordis\"):\n",
    "        list_final_nih.append(c.removesuffix(\"cordis\")+\"nih\")\n",
    "    else:\n",
    "        list_final_nih.append(c)\n",
    "#         list_final_nih.append(c+\"_nih\")\n",
    "    "
   ]
  },
  {
   "cell_type": "code",
   "execution_count": 41,
   "id": "7ccb466f",
   "metadata": {
    "ExecuteTime": {
     "end_time": "2023-12-14T15:45:13.028426Z",
     "start_time": "2023-12-14T15:45:13.022732Z"
    }
   },
   "outputs": [],
   "source": [
    "df_compare_cols[\"nih_new\"]=list_final_nih"
   ]
  },
  {
   "cell_type": "code",
   "execution_count": 42,
   "id": "90a9959d",
   "metadata": {
    "ExecuteTime": {
     "end_time": "2023-12-14T15:45:14.100741Z",
     "start_time": "2023-12-14T15:45:14.096503Z"
    }
   },
   "outputs": [],
   "source": [
    "df_compare_cols.columns=[\"cordis\",\"nih_old\",\"nih_new\"]"
   ]
  },
  {
   "cell_type": "code",
   "execution_count": 43,
   "id": "5332ba40",
   "metadata": {
    "ExecuteTime": {
     "end_time": "2023-12-14T15:45:14.921423Z",
     "start_time": "2023-12-14T15:45:14.911152Z"
    }
   },
   "outputs": [
    {
     "data": {
      "text/html": [
       "<div>\n",
       "<style scoped>\n",
       "    .dataframe tbody tr th:only-of-type {\n",
       "        vertical-align: middle;\n",
       "    }\n",
       "\n",
       "    .dataframe tbody tr th {\n",
       "        vertical-align: top;\n",
       "    }\n",
       "\n",
       "    .dataframe thead th {\n",
       "        text-align: right;\n",
       "    }\n",
       "</style>\n",
       "<table border=\"1\" class=\"dataframe\">\n",
       "  <thead>\n",
       "    <tr style=\"text-align: right;\">\n",
       "      <th></th>\n",
       "      <th>cordis</th>\n",
       "      <th>nih_old</th>\n",
       "      <th>nih_new</th>\n",
       "    </tr>\n",
       "  </thead>\n",
       "  <tbody>\n",
       "    <tr>\n",
       "      <th>0</th>\n",
       "      <td>pmcid</td>\n",
       "      <td>pmcid</td>\n",
       "      <td>pmcid</td>\n",
       "    </tr>\n",
       "    <tr>\n",
       "      <th>1</th>\n",
       "      <td>agg_sentence_index</td>\n",
       "      <td>nan</td>\n",
       "      <td>nan</td>\n",
       "    </tr>\n",
       "    <tr>\n",
       "      <th>2</th>\n",
       "      <td>agg_n_fem</td>\n",
       "      <td>nan</td>\n",
       "      <td>nan</td>\n",
       "    </tr>\n",
       "    <tr>\n",
       "      <th>3</th>\n",
       "      <td>agg_n_male</td>\n",
       "      <td>nan</td>\n",
       "      <td>nan</td>\n",
       "    </tr>\n",
       "    <tr>\n",
       "      <th>4</th>\n",
       "      <td>agg_perc_fem</td>\n",
       "      <td>nan</td>\n",
       "      <td>nan</td>\n",
       "    </tr>\n",
       "    <tr>\n",
       "      <th>5</th>\n",
       "      <td>agg_perc_male</td>\n",
       "      <td>nan</td>\n",
       "      <td>nan</td>\n",
       "    </tr>\n",
       "    <tr>\n",
       "      <th>6</th>\n",
       "      <td>agg_sample</td>\n",
       "      <td>nan</td>\n",
       "      <td>nan</td>\n",
       "    </tr>\n",
       "    <tr>\n",
       "      <th>7</th>\n",
       "      <td>clean_n_fem</td>\n",
       "      <td>nan</td>\n",
       "      <td>nan</td>\n",
       "    </tr>\n",
       "    <tr>\n",
       "      <th>8</th>\n",
       "      <td>clean_n_male</td>\n",
       "      <td>nan</td>\n",
       "      <td>nan</td>\n",
       "    </tr>\n",
       "    <tr>\n",
       "      <th>9</th>\n",
       "      <td>clean_perc_fem</td>\n",
       "      <td>nan</td>\n",
       "      <td>nan</td>\n",
       "    </tr>\n",
       "    <tr>\n",
       "      <th>10</th>\n",
       "      <td>clean_perc_male</td>\n",
       "      <td>nan</td>\n",
       "      <td>nan</td>\n",
       "    </tr>\n",
       "    <tr>\n",
       "      <th>11</th>\n",
       "      <td>clean_sample</td>\n",
       "      <td>nan</td>\n",
       "      <td>nan</td>\n",
       "    </tr>\n",
       "    <tr>\n",
       "      <th>12</th>\n",
       "      <td>max_n_fem</td>\n",
       "      <td>nan</td>\n",
       "      <td>nan</td>\n",
       "    </tr>\n",
       "    <tr>\n",
       "      <th>13</th>\n",
       "      <td>max_n_male</td>\n",
       "      <td>nan</td>\n",
       "      <td>nan</td>\n",
       "    </tr>\n",
       "    <tr>\n",
       "      <th>14</th>\n",
       "      <td>max_perc_fem</td>\n",
       "      <td>nan</td>\n",
       "      <td>nan</td>\n",
       "    </tr>\n",
       "    <tr>\n",
       "      <th>15</th>\n",
       "      <td>max_perc_male</td>\n",
       "      <td>nan</td>\n",
       "      <td>nan</td>\n",
       "    </tr>\n",
       "    <tr>\n",
       "      <th>16</th>\n",
       "      <td>max_sample</td>\n",
       "      <td>nan</td>\n",
       "      <td>nan</td>\n",
       "    </tr>\n",
       "    <tr>\n",
       "      <th>17</th>\n",
       "      <td>article_categories</td>\n",
       "      <td>nan</td>\n",
       "      <td>nan</td>\n",
       "    </tr>\n",
       "    <tr>\n",
       "      <th>18</th>\n",
       "      <td>article_title</td>\n",
       "      <td>nan</td>\n",
       "      <td>nan</td>\n",
       "    </tr>\n",
       "    <tr>\n",
       "      <th>19</th>\n",
       "      <td>authors</td>\n",
       "      <td>nan</td>\n",
       "      <td>nan</td>\n",
       "    </tr>\n",
       "    <tr>\n",
       "      <th>20</th>\n",
       "      <td>copyright_info</td>\n",
       "      <td>nan</td>\n",
       "      <td>nan</td>\n",
       "    </tr>\n",
       "    <tr>\n",
       "      <th>21</th>\n",
       "      <td>funding</td>\n",
       "      <td>nan</td>\n",
       "      <td>nan</td>\n",
       "    </tr>\n",
       "    <tr>\n",
       "      <th>22</th>\n",
       "      <td>publisher_id</td>\n",
       "      <td>nan</td>\n",
       "      <td>nan</td>\n",
       "    </tr>\n",
       "    <tr>\n",
       "      <th>23</th>\n",
       "      <td>doi</td>\n",
       "      <td>doi</td>\n",
       "      <td>doi</td>\n",
       "    </tr>\n",
       "    <tr>\n",
       "      <th>24</th>\n",
       "      <td>journal_title</td>\n",
       "      <td>nan</td>\n",
       "      <td>nan</td>\n",
       "    </tr>\n",
       "    <tr>\n",
       "      <th>25</th>\n",
       "      <td>keywords</td>\n",
       "      <td>nan</td>\n",
       "      <td>nan</td>\n",
       "    </tr>\n",
       "    <tr>\n",
       "      <th>26</th>\n",
       "      <td>publication_date</td>\n",
       "      <td>nan</td>\n",
       "      <td>nan</td>\n",
       "    </tr>\n",
       "    <tr>\n",
       "      <th>27</th>\n",
       "      <td>project_id_cordis</td>\n",
       "      <td>proj_core_project_num</td>\n",
       "      <td>project_id_nih</td>\n",
       "    </tr>\n",
       "    <tr>\n",
       "      <th>28</th>\n",
       "      <td>acronym_projects_cordis</td>\n",
       "      <td>nan</td>\n",
       "      <td>nan</td>\n",
       "    </tr>\n",
       "    <tr>\n",
       "      <th>29</th>\n",
       "      <td>status_cordis</td>\n",
       "      <td>nan</td>\n",
       "      <td>nan</td>\n",
       "    </tr>\n",
       "    <tr>\n",
       "      <th>30</th>\n",
       "      <td>title_projects_cordis</td>\n",
       "      <td>proj_project_title</td>\n",
       "      <td>title_projects_nih</td>\n",
       "    </tr>\n",
       "    <tr>\n",
       "      <th>31</th>\n",
       "      <td>startdate_cordis</td>\n",
       "      <td>proj_project_start</td>\n",
       "      <td>startdate_nih</td>\n",
       "    </tr>\n",
       "    <tr>\n",
       "      <th>32</th>\n",
       "      <td>enddate_cordis</td>\n",
       "      <td>proj_project_end</td>\n",
       "      <td>enddate_nih</td>\n",
       "    </tr>\n",
       "    <tr>\n",
       "      <th>33</th>\n",
       "      <td>totalcost_cordis</td>\n",
       "      <td>proj_total_cost</td>\n",
       "      <td>totalcost_nih</td>\n",
       "    </tr>\n",
       "    <tr>\n",
       "      <th>34</th>\n",
       "      <td>ecmaxcontribution_cordis</td>\n",
       "      <td>nan</td>\n",
       "      <td>nan</td>\n",
       "    </tr>\n",
       "    <tr>\n",
       "      <th>35</th>\n",
       "      <td>legalbasis_cordis</td>\n",
       "      <td>nan</td>\n",
       "      <td>nan</td>\n",
       "    </tr>\n",
       "    <tr>\n",
       "      <th>36</th>\n",
       "      <td>topics_cordis</td>\n",
       "      <td>proj_nih_spending_cats</td>\n",
       "      <td>topics_nih</td>\n",
       "    </tr>\n",
       "    <tr>\n",
       "      <th>37</th>\n",
       "      <td>ecsignaturedate_cordis</td>\n",
       "      <td>proj_award_notice_date</td>\n",
       "      <td>ecsignaturedate_nih</td>\n",
       "    </tr>\n",
       "    <tr>\n",
       "      <th>38</th>\n",
       "      <td>frameworkprogramme_cordis</td>\n",
       "      <td>proj_funding_ics</td>\n",
       "      <td>frameworkprogramme_nih</td>\n",
       "    </tr>\n",
       "    <tr>\n",
       "      <th>39</th>\n",
       "      <td>mastercall_cordis</td>\n",
       "      <td>nan</td>\n",
       "      <td>nan</td>\n",
       "    </tr>\n",
       "    <tr>\n",
       "      <th>40</th>\n",
       "      <td>subcall_cordis</td>\n",
       "      <td>nan</td>\n",
       "      <td>nan</td>\n",
       "    </tr>\n",
       "    <tr>\n",
       "      <th>41</th>\n",
       "      <td>fundingscheme_cordis</td>\n",
       "      <td>nan</td>\n",
       "      <td>nan</td>\n",
       "    </tr>\n",
       "    <tr>\n",
       "      <th>42</th>\n",
       "      <td>nature_cordis</td>\n",
       "      <td>nan</td>\n",
       "      <td>nan</td>\n",
       "    </tr>\n",
       "    <tr>\n",
       "      <th>43</th>\n",
       "      <td>objective_cordis</td>\n",
       "      <td>nan</td>\n",
       "      <td>nan</td>\n",
       "    </tr>\n",
       "    <tr>\n",
       "      <th>44</th>\n",
       "      <td>contentupdatedate_projects_cordis</td>\n",
       "      <td>nan</td>\n",
       "      <td>nan</td>\n",
       "    </tr>\n",
       "    <tr>\n",
       "      <th>45</th>\n",
       "      <td>title_publications_cordis</td>\n",
       "      <td>pub_title</td>\n",
       "      <td>title_publications_nih</td>\n",
       "    </tr>\n",
       "    <tr>\n",
       "      <th>46</th>\n",
       "      <td>authors_cordis</td>\n",
       "      <td>pub_author_list</td>\n",
       "      <td>authors_nih</td>\n",
       "    </tr>\n",
       "    <tr>\n",
       "      <th>47</th>\n",
       "      <td>journal_title_cordis</td>\n",
       "      <td>pub_journal_title</td>\n",
       "      <td>journal_title_nih</td>\n",
       "    </tr>\n",
       "    <tr>\n",
       "      <th>48</th>\n",
       "      <td>_merge_cordis</td>\n",
       "      <td>nan</td>\n",
       "      <td>nan</td>\n",
       "    </tr>\n",
       "    <tr>\n",
       "      <th>49</th>\n",
       "      <td>funding_body</td>\n",
       "      <td>proj_ic_name</td>\n",
       "      <td>funding_body</td>\n",
       "    </tr>\n",
       "    <tr>\n",
       "      <th>50</th>\n",
       "      <td>publication_date_cordis</td>\n",
       "      <td>pub_date</td>\n",
       "      <td>publication_date_nih</td>\n",
       "    </tr>\n",
       "    <tr>\n",
       "      <th>51</th>\n",
       "      <td>acronym_publications_cordis</td>\n",
       "      <td>pub_journal_title_abbr</td>\n",
       "      <td>acronym_publications_nih</td>\n",
       "    </tr>\n",
       "  </tbody>\n",
       "</table>\n",
       "</div>"
      ],
      "text/plain": [
       "                               cordis                 nih_old  \\\n",
       "0                               pmcid                   pmcid   \n",
       "1                  agg_sentence_index                     nan   \n",
       "2                           agg_n_fem                     nan   \n",
       "3                          agg_n_male                     nan   \n",
       "4                        agg_perc_fem                     nan   \n",
       "5                       agg_perc_male                     nan   \n",
       "6                          agg_sample                     nan   \n",
       "7                         clean_n_fem                     nan   \n",
       "8                        clean_n_male                     nan   \n",
       "9                      clean_perc_fem                     nan   \n",
       "10                    clean_perc_male                     nan   \n",
       "11                       clean_sample                     nan   \n",
       "12                          max_n_fem                     nan   \n",
       "13                         max_n_male                     nan   \n",
       "14                       max_perc_fem                     nan   \n",
       "15                      max_perc_male                     nan   \n",
       "16                         max_sample                     nan   \n",
       "17                 article_categories                     nan   \n",
       "18                      article_title                     nan   \n",
       "19                            authors                     nan   \n",
       "20                     copyright_info                     nan   \n",
       "21                            funding                     nan   \n",
       "22                       publisher_id                     nan   \n",
       "23                                doi                     doi   \n",
       "24                      journal_title                     nan   \n",
       "25                           keywords                     nan   \n",
       "26                   publication_date                     nan   \n",
       "27                  project_id_cordis   proj_core_project_num   \n",
       "28            acronym_projects_cordis                     nan   \n",
       "29                      status_cordis                     nan   \n",
       "30              title_projects_cordis      proj_project_title   \n",
       "31                   startdate_cordis      proj_project_start   \n",
       "32                     enddate_cordis        proj_project_end   \n",
       "33                   totalcost_cordis         proj_total_cost   \n",
       "34           ecmaxcontribution_cordis                     nan   \n",
       "35                  legalbasis_cordis                     nan   \n",
       "36                      topics_cordis  proj_nih_spending_cats   \n",
       "37             ecsignaturedate_cordis  proj_award_notice_date   \n",
       "38          frameworkprogramme_cordis        proj_funding_ics   \n",
       "39                  mastercall_cordis                     nan   \n",
       "40                     subcall_cordis                     nan   \n",
       "41               fundingscheme_cordis                     nan   \n",
       "42                      nature_cordis                     nan   \n",
       "43                   objective_cordis                     nan   \n",
       "44  contentupdatedate_projects_cordis                     nan   \n",
       "45          title_publications_cordis               pub_title   \n",
       "46                     authors_cordis         pub_author_list   \n",
       "47               journal_title_cordis       pub_journal_title   \n",
       "48                      _merge_cordis                     nan   \n",
       "49                       funding_body            proj_ic_name   \n",
       "50            publication_date_cordis                pub_date   \n",
       "51        acronym_publications_cordis  pub_journal_title_abbr   \n",
       "\n",
       "                     nih_new  \n",
       "0                      pmcid  \n",
       "1                        nan  \n",
       "2                        nan  \n",
       "3                        nan  \n",
       "4                        nan  \n",
       "5                        nan  \n",
       "6                        nan  \n",
       "7                        nan  \n",
       "8                        nan  \n",
       "9                        nan  \n",
       "10                       nan  \n",
       "11                       nan  \n",
       "12                       nan  \n",
       "13                       nan  \n",
       "14                       nan  \n",
       "15                       nan  \n",
       "16                       nan  \n",
       "17                       nan  \n",
       "18                       nan  \n",
       "19                       nan  \n",
       "20                       nan  \n",
       "21                       nan  \n",
       "22                       nan  \n",
       "23                       doi  \n",
       "24                       nan  \n",
       "25                       nan  \n",
       "26                       nan  \n",
       "27            project_id_nih  \n",
       "28                       nan  \n",
       "29                       nan  \n",
       "30        title_projects_nih  \n",
       "31             startdate_nih  \n",
       "32               enddate_nih  \n",
       "33             totalcost_nih  \n",
       "34                       nan  \n",
       "35                       nan  \n",
       "36                topics_nih  \n",
       "37       ecsignaturedate_nih  \n",
       "38    frameworkprogramme_nih  \n",
       "39                       nan  \n",
       "40                       nan  \n",
       "41                       nan  \n",
       "42                       nan  \n",
       "43                       nan  \n",
       "44                       nan  \n",
       "45    title_publications_nih  \n",
       "46               authors_nih  \n",
       "47         journal_title_nih  \n",
       "48                       nan  \n",
       "49              funding_body  \n",
       "50      publication_date_nih  \n",
       "51  acronym_publications_nih  "
      ]
     },
     "execution_count": 43,
     "metadata": {},
     "output_type": "execute_result"
    }
   ],
   "source": [
    "df_compare_cols"
   ]
  },
  {
   "cell_type": "markdown",
   "id": "421cafcb",
   "metadata": {},
   "source": [
    "# Create new table with nih_new columns"
   ]
  },
  {
   "cell_type": "code",
   "execution_count": 53,
   "id": "c2ffb683",
   "metadata": {
    "ExecuteTime": {
     "end_time": "2023-12-14T15:49:53.694562Z",
     "start_time": "2023-12-14T15:49:53.685272Z"
    }
   },
   "outputs": [
    {
     "data": {
      "text/plain": [
       "array(['pmcid', 'doi', 'proj_core_project_num', 'proj_project_title',\n",
       "       'proj_project_start', 'proj_project_end', 'proj_total_cost',\n",
       "       'proj_nih_spending_cats', 'proj_award_notice_date',\n",
       "       'proj_funding_ics', 'pub_title', 'pub_author_list',\n",
       "       'pub_journal_title', 'proj_ic_name', 'pub_date',\n",
       "       'pub_journal_title_abbr'], dtype=object)"
      ]
     },
     "execution_count": 53,
     "metadata": {},
     "output_type": "execute_result"
    }
   ],
   "source": [
    "nih_old_names=np.delete(arr=df_compare_cols[\"nih_old\"].unique(),\n",
    "                        obj=np.where(df_compare_cols[\"nih_old\"].unique()==\"nan\")\n",
    "                       )\n",
    "nih_old_names"
   ]
  },
  {
   "cell_type": "code",
   "execution_count": 54,
   "id": "ae6fcf8b",
   "metadata": {
    "ExecuteTime": {
     "end_time": "2023-12-14T15:50:15.424906Z",
     "start_time": "2023-12-14T15:50:15.415826Z"
    }
   },
   "outputs": [
    {
     "data": {
      "text/plain": [
       "array(['pmcid', 'doi', 'project_id_nih', 'title_projects_nih',\n",
       "       'startdate_nih', 'enddate_nih', 'totalcost_nih', 'topics_nih',\n",
       "       'ecsignaturedate_nih', 'frameworkprogramme_nih',\n",
       "       'title_publications_nih', 'authors_nih', 'journal_title_nih',\n",
       "       'funding_body', 'publication_date_nih', 'acronym_publications_nih'],\n",
       "      dtype=object)"
      ]
     },
     "execution_count": 54,
     "metadata": {},
     "output_type": "execute_result"
    }
   ],
   "source": [
    "nih_new_names=np.delete(arr=df_compare_cols[\"nih_new\"].unique(),\n",
    "                        obj=np.where(df_compare_cols[\"nih_new\"].unique()==\"nan\")\n",
    "                       )\n",
    "nih_new_names"
   ]
  },
  {
   "cell_type": "code",
   "execution_count": null,
   "id": "41a436e6",
   "metadata": {
    "ExecuteTime": {
     "end_time": "2023-12-14T16:00:14.255130Z",
     "start_time": "2023-12-14T16:00:14.234504Z"
    }
   },
   "outputs": [],
   "source": [
    "nih_results_1000_new_cols = nih_results_1000[nih_old_names]\n",
    "nih_results_1000_new_cols.columns = nih_new_names"
   ]
  },
  {
   "cell_type": "code",
   "execution_count": 81,
   "id": "7b197477",
   "metadata": {
    "ExecuteTime": {
     "end_time": "2023-12-14T16:03:16.577990Z",
     "start_time": "2023-12-14T16:03:16.572152Z"
    }
   },
   "outputs": [
    {
     "name": "stderr",
     "output_type": "stream",
     "text": [
      "/tmp/ipykernel_388/1999645457.py:2: SettingWithCopyWarning: \n",
      "A value is trying to be set on a copy of a slice from a DataFrame.\n",
      "Try using .loc[row_indexer,col_indexer] = value instead\n",
      "\n",
      "See the caveats in the documentation: https://pandas.pydata.org/pandas-docs/stable/user_guide/indexing.html#returning-a-view-versus-a-copy\n",
      "  nih_results_1000_new_cols[\"pmcid\"]=pmcid_plus_pmc\n"
     ]
    }
   ],
   "source": [
    "pmcid_plus_pmc=[\"PMC\"+str(i) for i in nih_results_1000_new_cols[\"pmcid\"]]\n",
    "nih_results_1000_new_cols[\"pmcid\"]=pmcid_plus_pmc"
   ]
  },
  {
   "cell_type": "code",
   "execution_count": 90,
   "id": "220e26f8",
   "metadata": {
    "ExecuteTime": {
     "end_time": "2023-12-14T16:06:51.994019Z",
     "start_time": "2023-12-14T16:06:51.988776Z"
    }
   },
   "outputs": [
    {
     "data": {
      "text/plain": [
       "'2008-01-07'"
      ]
     },
     "execution_count": 90,
     "metadata": {},
     "output_type": "execute_result"
    }
   ],
   "source": [
    "# From MM/DD/YYY to YYYY-MM-DD\n",
    "\"-\".join(np.array(\"07/01/2008\".split(\"/\"))[[2,1,0]])"
   ]
  },
  {
   "cell_type": "code",
   "execution_count": 103,
   "id": "e7d4bea2",
   "metadata": {
    "ExecuteTime": {
     "end_time": "2023-12-14T16:11:42.629941Z",
     "start_time": "2023-12-14T16:11:42.620429Z"
    }
   },
   "outputs": [
    {
     "name": "stderr",
     "output_type": "stream",
     "text": [
      "/tmp/ipykernel_388/1991964242.py:1: SettingWithCopyWarning: \n",
      "A value is trying to be set on a copy of a slice from a DataFrame.\n",
      "Try using .loc[row_indexer,col_indexer] = value instead\n",
      "\n",
      "See the caveats in the documentation: https://pandas.pydata.org/pandas-docs/stable/user_guide/indexing.html#returning-a-view-versus-a-copy\n",
      "  nih_results_1000_new_cols[\"frameworkprogramme_nih\"]=np.array([str(i)[:-1] for i in nih_results_1000_new_cols[\"frameworkprogramme_nih\"]])\n"
     ]
    }
   ],
   "source": [
    "nih_results_1000_new_cols[\"frameworkprogramme_nih\"] = [\n",
    "    str(i)[:-1] for i in nih_results_1000_new_cols[\"frameworkprogramme_nih\"]\n",
    "]"
   ]
  },
  {
   "cell_type": "code",
   "execution_count": 104,
   "id": "49369c81",
   "metadata": {
    "ExecuteTime": {
     "end_time": "2023-12-14T16:11:53.975765Z",
     "start_time": "2023-12-14T16:11:53.959143Z"
    }
   },
   "outputs": [
    {
     "data": {
      "text/html": [
       "<div>\n",
       "<style scoped>\n",
       "    .dataframe tbody tr th:only-of-type {\n",
       "        vertical-align: middle;\n",
       "    }\n",
       "\n",
       "    .dataframe tbody tr th {\n",
       "        vertical-align: top;\n",
       "    }\n",
       "\n",
       "    .dataframe thead th {\n",
       "        text-align: right;\n",
       "    }\n",
       "</style>\n",
       "<table border=\"1\" class=\"dataframe\">\n",
       "  <thead>\n",
       "    <tr style=\"text-align: right;\">\n",
       "      <th></th>\n",
       "      <th>pmcid</th>\n",
       "      <th>doi</th>\n",
       "      <th>project_id_nih</th>\n",
       "      <th>title_projects_nih</th>\n",
       "      <th>startdate_nih</th>\n",
       "      <th>enddate_nih</th>\n",
       "      <th>totalcost_nih</th>\n",
       "      <th>topics_nih</th>\n",
       "      <th>ecsignaturedate_nih</th>\n",
       "      <th>frameworkprogramme_nih</th>\n",
       "      <th>title_publications_nih</th>\n",
       "      <th>authors_nih</th>\n",
       "      <th>journal_title_nih</th>\n",
       "      <th>funding_body</th>\n",
       "      <th>publication_date_nih</th>\n",
       "      <th>acronym_publications_nih</th>\n",
       "    </tr>\n",
       "  </thead>\n",
       "  <tbody>\n",
       "    <tr>\n",
       "      <th>0</th>\n",
       "      <td>PMC3387267</td>\n",
       "      <td>10.1371/journal.pone.0039725</td>\n",
       "      <td>K08CA133103</td>\n",
       "      <td>Zebrafish Chemical and Classical Genetics Appr...</td>\n",
       "      <td>07/01/2008</td>\n",
       "      <td>06/30/2013</td>\n",
       "      <td>140940.0</td>\n",
       "      <td>Biotechnology;Cancer;Childhood Leukemia;Clinic...</td>\n",
       "      <td>2008-05-27T00:00:00</td>\n",
       "      <td>NCI:140940</td>\n",
       "      <td>NOTCH1 signaling promotes human T-cell acute l...</td>\n",
       "      <td>Ma, Wenxue; Gutierrez, Alejandro; Goff, Daniel...</td>\n",
       "      <td>PloS one</td>\n",
       "      <td>NATIONAL CANCER INSTITUTE</td>\n",
       "      <td>2012</td>\n",
       "      <td>PLoS One</td>\n",
       "    </tr>\n",
       "    <tr>\n",
       "      <th>1</th>\n",
       "      <td>PMC3387267</td>\n",
       "      <td>10.1371/journal.pone.0039725</td>\n",
       "      <td>K08CA133103</td>\n",
       "      <td>Zebrafish Chemical and Classical Genetics Appr...</td>\n",
       "      <td>07/01/2008</td>\n",
       "      <td>06/30/2013</td>\n",
       "      <td>140940.0</td>\n",
       "      <td>Biotechnology;Clinical Research - Extramural;H...</td>\n",
       "      <td>06/05/2009</td>\n",
       "      <td>NCI:140940</td>\n",
       "      <td>NOTCH1 signaling promotes human T-cell acute l...</td>\n",
       "      <td>Ma, Wenxue; Gutierrez, Alejandro; Goff, Daniel...</td>\n",
       "      <td>PloS one</td>\n",
       "      <td>NATIONAL CANCER INSTITUTE</td>\n",
       "      <td>2012</td>\n",
       "      <td>PLoS One</td>\n",
       "    </tr>\n",
       "    <tr>\n",
       "      <th>2</th>\n",
       "      <td>PMC3387267</td>\n",
       "      <td>10.1371/journal.pone.0039725</td>\n",
       "      <td>K08CA133103</td>\n",
       "      <td>Zebrafish Chemical and Classical Genetics Appr...</td>\n",
       "      <td>7/1/2008</td>\n",
       "      <td>6/30/2013</td>\n",
       "      <td>140940.0</td>\n",
       "      <td>Biotechnology;Clinical Research;Cancer;Hematol...</td>\n",
       "      <td>6/29/2010</td>\n",
       "      <td>NCI:140940</td>\n",
       "      <td>NOTCH1 signaling promotes human T-cell acute l...</td>\n",
       "      <td>Ma, Wenxue; Gutierrez, Alejandro; Goff, Daniel...</td>\n",
       "      <td>PloS one</td>\n",
       "      <td>NATIONAL CANCER INSTITUTE</td>\n",
       "      <td>2012</td>\n",
       "      <td>PLoS One</td>\n",
       "    </tr>\n",
       "    <tr>\n",
       "      <th>3</th>\n",
       "      <td>PMC3387267</td>\n",
       "      <td>10.1371/journal.pone.0039725</td>\n",
       "      <td>K08CA133103</td>\n",
       "      <td>Zebrafish Chemical and Classical Genetics Appr...</td>\n",
       "      <td>07/01/2008</td>\n",
       "      <td>02/29/2012</td>\n",
       "      <td>140940.0</td>\n",
       "      <td>Rare Diseases;Genetics;Human Genome;Hematology...</td>\n",
       "      <td>06/29/2011</td>\n",
       "      <td>NCI:140940</td>\n",
       "      <td>NOTCH1 signaling promotes human T-cell acute l...</td>\n",
       "      <td>Ma, Wenxue; Gutierrez, Alejandro; Goff, Daniel...</td>\n",
       "      <td>PloS one</td>\n",
       "      <td>NATIONAL CANCER INSTITUTE</td>\n",
       "      <td>2012</td>\n",
       "      <td>PLoS One</td>\n",
       "    </tr>\n",
       "    <tr>\n",
       "      <th>4</th>\n",
       "      <td>PMC3387267</td>\n",
       "      <td>10.1371/journal.pone.0039725</td>\n",
       "      <td>K08CA133103</td>\n",
       "      <td>Zebrafish Chemical and Classical Genetics Appr...</td>\n",
       "      <td>7/1/2008</td>\n",
       "      <td>6/30/2013</td>\n",
       "      <td>140940.0</td>\n",
       "      <td>Biotechnology; Cancer; Childhood Leukemia; Cli...</td>\n",
       "      <td>9/7/2012</td>\n",
       "      <td>NCI:140940</td>\n",
       "      <td>NOTCH1 signaling promotes human T-cell acute l...</td>\n",
       "      <td>Ma, Wenxue; Gutierrez, Alejandro; Goff, Daniel...</td>\n",
       "      <td>PloS one</td>\n",
       "      <td>NATIONAL CANCER INSTITUTE</td>\n",
       "      <td>2012</td>\n",
       "      <td>PLoS One</td>\n",
       "    </tr>\n",
       "  </tbody>\n",
       "</table>\n",
       "</div>"
      ],
      "text/plain": [
       "        pmcid                           doi project_id_nih  \\\n",
       "0  PMC3387267  10.1371/journal.pone.0039725    K08CA133103   \n",
       "1  PMC3387267  10.1371/journal.pone.0039725    K08CA133103   \n",
       "2  PMC3387267  10.1371/journal.pone.0039725    K08CA133103   \n",
       "3  PMC3387267  10.1371/journal.pone.0039725    K08CA133103   \n",
       "4  PMC3387267  10.1371/journal.pone.0039725    K08CA133103   \n",
       "\n",
       "                                  title_projects_nih startdate_nih  \\\n",
       "0  Zebrafish Chemical and Classical Genetics Appr...    07/01/2008   \n",
       "1  Zebrafish Chemical and Classical Genetics Appr...    07/01/2008   \n",
       "2  Zebrafish Chemical and Classical Genetics Appr...      7/1/2008   \n",
       "3  Zebrafish Chemical and Classical Genetics Appr...    07/01/2008   \n",
       "4  Zebrafish Chemical and Classical Genetics Appr...      7/1/2008   \n",
       "\n",
       "  enddate_nih  totalcost_nih  \\\n",
       "0  06/30/2013       140940.0   \n",
       "1  06/30/2013       140940.0   \n",
       "2   6/30/2013       140940.0   \n",
       "3  02/29/2012       140940.0   \n",
       "4   6/30/2013       140940.0   \n",
       "\n",
       "                                          topics_nih  ecsignaturedate_nih  \\\n",
       "0  Biotechnology;Cancer;Childhood Leukemia;Clinic...  2008-05-27T00:00:00   \n",
       "1  Biotechnology;Clinical Research - Extramural;H...           06/05/2009   \n",
       "2  Biotechnology;Clinical Research;Cancer;Hematol...            6/29/2010   \n",
       "3  Rare Diseases;Genetics;Human Genome;Hematology...           06/29/2011   \n",
       "4  Biotechnology; Cancer; Childhood Leukemia; Cli...             9/7/2012   \n",
       "\n",
       "  frameworkprogramme_nih                             title_publications_nih  \\\n",
       "0             NCI:140940  NOTCH1 signaling promotes human T-cell acute l...   \n",
       "1             NCI:140940  NOTCH1 signaling promotes human T-cell acute l...   \n",
       "2             NCI:140940  NOTCH1 signaling promotes human T-cell acute l...   \n",
       "3             NCI:140940  NOTCH1 signaling promotes human T-cell acute l...   \n",
       "4             NCI:140940  NOTCH1 signaling promotes human T-cell acute l...   \n",
       "\n",
       "                                         authors_nih journal_title_nih  \\\n",
       "0  Ma, Wenxue; Gutierrez, Alejandro; Goff, Daniel...          PloS one   \n",
       "1  Ma, Wenxue; Gutierrez, Alejandro; Goff, Daniel...          PloS one   \n",
       "2  Ma, Wenxue; Gutierrez, Alejandro; Goff, Daniel...          PloS one   \n",
       "3  Ma, Wenxue; Gutierrez, Alejandro; Goff, Daniel...          PloS one   \n",
       "4  Ma, Wenxue; Gutierrez, Alejandro; Goff, Daniel...          PloS one   \n",
       "\n",
       "                funding_body publication_date_nih acronym_publications_nih  \n",
       "0  NATIONAL CANCER INSTITUTE                 2012                 PLoS One  \n",
       "1  NATIONAL CANCER INSTITUTE                 2012                 PLoS One  \n",
       "2  NATIONAL CANCER INSTITUTE                 2012                 PLoS One  \n",
       "3  NATIONAL CANCER INSTITUTE                 2012                 PLoS One  \n",
       "4  NATIONAL CANCER INSTITUTE                 2012                 PLoS One  "
      ]
     },
     "execution_count": 104,
     "metadata": {},
     "output_type": "execute_result"
    }
   ],
   "source": [
    "nih_results_1000_new_cols.head()"
   ]
  },
  {
   "cell_type": "markdown",
   "id": "b46021a9",
   "metadata": {},
   "source": [
    "# Join CORDIS and NIH data"
   ]
  },
  {
   "cell_type": "code",
   "execution_count": 105,
   "id": "29372ede",
   "metadata": {
    "ExecuteTime": {
     "end_time": "2023-12-14T16:22:32.704307Z",
     "start_time": "2023-12-14T16:22:32.698542Z"
    }
   },
   "outputs": [
    {
     "data": {
      "text/plain": [
       "(3436, 52)"
      ]
     },
     "execution_count": 105,
     "metadata": {},
     "output_type": "execute_result"
    }
   ],
   "source": [
    "cordis_and_counts.shape"
   ]
  },
  {
   "cell_type": "code",
   "execution_count": 106,
   "id": "9bcd865e",
   "metadata": {
    "ExecuteTime": {
     "end_time": "2023-12-14T16:23:06.147446Z",
     "start_time": "2023-12-14T16:23:06.142077Z"
    }
   },
   "outputs": [
    {
     "data": {
      "text/plain": [
       "(1000, 16)"
      ]
     },
     "execution_count": 106,
     "metadata": {},
     "output_type": "execute_result"
    }
   ],
   "source": [
    "nih_results_1000_new_cols.shape"
   ]
  },
  {
   "cell_type": "code",
   "execution_count": null,
   "id": "0087ddc5",
   "metadata": {},
   "outputs": [],
   "source": [
    "nih_results_1000_new_cols.join(other=cordis_and_counts,on=[\"pmcid\"],how=\"outer\")"
   ]
  }
 ],
 "metadata": {
  "kernelspec": {
   "display_name": "Python 3 (ipykernel)",
   "language": "python",
   "name": "python3"
  },
  "language_info": {
   "codemirror_mode": {
    "name": "ipython",
    "version": 3
   },
   "file_extension": ".py",
   "mimetype": "text/x-python",
   "name": "python",
   "nbconvert_exporter": "python",
   "pygments_lexer": "ipython3",
   "version": "3.9.18"
  },
  "toc": {
   "base_numbering": 1,
   "nav_menu": {},
   "number_sections": true,
   "sideBar": true,
   "skip_h1_title": false,
   "title_cell": "Table of Contents",
   "title_sidebar": "Contents",
   "toc_cell": false,
   "toc_position": {},
   "toc_section_display": true,
   "toc_window_display": false
  },
  "varInspector": {
   "cols": {
    "lenName": 16,
    "lenType": 16,
    "lenVar": 40
   },
   "kernels_config": {
    "python": {
     "delete_cmd_postfix": "",
     "delete_cmd_prefix": "del ",
     "library": "var_list.py",
     "varRefreshCmd": "print(var_dic_list())"
    },
    "r": {
     "delete_cmd_postfix": ") ",
     "delete_cmd_prefix": "rm(",
     "library": "var_list.r",
     "varRefreshCmd": "cat(var_dic_list()) "
    }
   },
   "types_to_exclude": [
    "module",
    "function",
    "builtin_function_or_method",
    "instance",
    "_Feature"
   ],
   "window_display": false
  }
 },
 "nbformat": 4,
 "nbformat_minor": 5
}
