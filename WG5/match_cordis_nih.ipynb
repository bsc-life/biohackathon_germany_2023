{
 "cells": [
  {
   "cell_type": "code",
   "execution_count": 1,
   "id": "e801df23",
   "metadata": {
    "ExecuteTime": {
     "end_time": "2023-12-14T09:41:23.987149Z",
     "start_time": "2023-12-14T09:41:23.593100Z"
    }
   },
   "outputs": [],
   "source": [
    "import pandas as pd\n",
    "import numpy as np\n",
    "import os, sys\n",
    "from tqdm import tqdm"
   ]
  },
  {
   "cell_type": "code",
   "execution_count": 20,
   "id": "1a97be83",
   "metadata": {
    "ExecuteTime": {
     "end_time": "2023-12-14T10:06:29.488100Z",
     "start_time": "2023-12-14T10:06:29.335693Z"
    }
   },
   "outputs": [
    {
     "data": {
      "text/plain": [
       "(3436, 52)"
      ]
     },
     "execution_count": 20,
     "metadata": {},
     "output_type": "execute_result"
    }
   ],
   "source": [
    "cordis_and_counts=pd.read_csv(\"data/cordis_and_counts.csv\",sep=\";\",index_col=0)\n",
    "cordis_and_counts.shape"
   ]
  },
  {
   "cell_type": "code",
   "execution_count": 127,
   "id": "2787177d",
   "metadata": {
    "ExecuteTime": {
     "end_time": "2023-12-14T11:34:14.504664Z",
     "start_time": "2023-12-14T11:34:14.499917Z"
    }
   },
   "outputs": [
    {
     "data": {
      "text/plain": [
       "['pmcid',\n",
       " 'doi',\n",
       " 'pub_affiliation',\n",
       " 'pub_author_list',\n",
       " 'pub_country',\n",
       " 'pub_issn',\n",
       " 'pub_journal_issue',\n",
       " 'pub_journal_title',\n",
       " 'pub_journal_title_abbr',\n",
       " 'pub_pmid',\n",
       " 'pub_date',\n",
       " 'pub_title',\n",
       " 'pub_year',\n",
       " 'pub_project_number',\n",
       " 'proj_total_cost',\n",
       " 'proj_project_start',\n",
       " 'proj_project_end']"
      ]
     },
     "execution_count": 127,
     "metadata": {},
     "output_type": "execute_result"
    }
   ],
   "source": [
    "nih_columns_redux=[\"pmcid\",\"doi\",\"pub_affiliation\",\n",
    "\"pub_author_list\", \"pub_country\", \"pub_issn\",\n",
    "\"pub_journal_issue\", \"pub_journal_title\", \"pub_journal_title_abbr\",\n",
    "\"pub_pmid\", \"pub_date\", \"pub_title\",\n",
    "\"pub_year\", \"pub_project_number\", \"proj_total_cost\",\n",
    "\"proj_project_start\", \"proj_project_end\"]\n",
    "nih_columns_redux"
   ]
  },
  {
   "cell_type": "code",
   "execution_count": 28,
   "id": "02dd5d3f",
   "metadata": {
    "ExecuteTime": {
     "end_time": "2023-12-14T10:11:55.889853Z",
     "start_time": "2023-12-14T10:11:55.858169Z"
    }
   },
   "outputs": [
    {
     "data": {
      "text/plain": [
       "(1000, 55)"
      ]
     },
     "execution_count": 28,
     "metadata": {},
     "output_type": "execute_result"
    }
   ],
   "source": [
    "nih_results_1000=pd.read_csv(\"data/nih_results-1000.csv\",index_col=0)\n",
    "nih_results_1000.shape"
   ]
  },
  {
   "cell_type": "code",
   "execution_count": 58,
   "id": "5fc44ac3",
   "metadata": {
    "ExecuteTime": {
     "end_time": "2023-12-14T10:38:05.217715Z",
     "start_time": "2023-12-14T10:38:05.213666Z"
    }
   },
   "outputs": [
    {
     "data": {
      "text/plain": [
       "'[{\"institution\": \"XIN Joint Center of Innovation for Global Challenge\"}, {\"institution\": \"BeyondSeq consortium\"}, {\"institution\": \"The Nofar grant by the Israeli ministry of economy \\\\u2013 the administration of research and development\"}, {\"institution\": \"The i-Core program of the Israel Science Foundation\"}, {\"institution\": \"European Research Council (BE)\"}]'"
      ]
     },
     "execution_count": 58,
     "metadata": {},
     "output_type": "execute_result"
    }
   ],
   "source": [
    "cordis_and_counts[\"funding\"][1]"
   ]
  },
  {
   "cell_type": "code",
   "execution_count": 32,
   "id": "051571d2",
   "metadata": {
    "ExecuteTime": {
     "end_time": "2023-12-14T10:40:54.862764Z",
     "start_time": "2023-12-14T10:40:54.858824Z"
    }
   },
   "outputs": [
    {
     "data": {
      "text/plain": [
       "55"
      ]
     },
     "execution_count": 32,
     "metadata": {},
     "output_type": "execute_result"
    }
   ],
   "source": [
    "columns_nih = nih_results_1000.columns.tolist()\n",
    "len(columns_nih)"
   ]
  },
  {
   "cell_type": "code",
   "execution_count": 164,
   "id": "2de5a3f2",
   "metadata": {
    "ExecuteTime": {
     "end_time": "2023-12-14T11:47:37.695715Z",
     "start_time": "2023-12-14T11:47:37.691606Z"
    }
   },
   "outputs": [
    {
     "data": {
      "text/plain": [
       "['pmcid',\n",
       " 'doi',\n",
       " 'pub_affiliation',\n",
       " 'pub_author_list',\n",
       " 'pub_country',\n",
       " 'pub_issn',\n",
       " 'pub_journal_issue',\n",
       " 'pub_journal_title',\n",
       " 'pub_journal_title_abbr',\n",
       " 'pub_pmid',\n",
       " 'pub_date',\n",
       " 'pub_title',\n",
       " 'pub_year',\n",
       " 'pub_project_number',\n",
       " 'proj_application_id',\n",
       " 'proj_activity',\n",
       " 'proj_administering_ic',\n",
       " 'proj_application_type',\n",
       " 'proj_arra_funded',\n",
       " 'proj_award_notice_date',\n",
       " 'proj_budget_start',\n",
       " 'proj_budget_end',\n",
       " 'proj_core_project_num',\n",
       " 'proj_ed_inst_type',\n",
       " 'proj_foa_number',\n",
       " 'proj_full_project_num',\n",
       " 'proj_subproject_id',\n",
       " 'proj_funding_ics',\n",
       " 'proj_fy',\n",
       " 'proj_ic_name',\n",
       " 'proj_nih_spending_cats',\n",
       " 'proj_org_city',\n",
       " 'proj_org_country',\n",
       " 'proj_org_dept',\n",
       " 'proj_org_fips',\n",
       " 'proj_org_name',\n",
       " 'proj_org_state',\n",
       " 'proj_phr',\n",
       " 'proj_pi_names',\n",
       " 'proj_program_officer_name',\n",
       " 'proj_project_start',\n",
       " 'proj_project_end',\n",
       " 'proj_project_terms',\n",
       " 'proj_project_title',\n",
       " 'proj_serial_number',\n",
       " 'proj_study_section',\n",
       " 'proj_study_section_name',\n",
       " 'proj_support_year',\n",
       " 'proj_total_cost',\n",
       " 'proj_total_cost_sub_project',\n",
       " 'proj_funding_mechanism',\n",
       " 'proj_direct_cost_amt',\n",
       " 'proj_indirect_cost_amt',\n",
       " 'proj_org_ipf_code',\n",
       " 'proj_opportunity number']"
      ]
     },
     "execution_count": 164,
     "metadata": {},
     "output_type": "execute_result"
    }
   ],
   "source": [
    "columns_nih"
   ]
  },
  {
   "cell_type": "code",
   "execution_count": 23,
   "id": "ce0dc62c",
   "metadata": {
    "ExecuteTime": {
     "end_time": "2023-12-14T10:07:33.034175Z",
     "start_time": "2023-12-14T10:07:33.030311Z"
    }
   },
   "outputs": [
    {
     "data": {
      "text/plain": [
       "52"
      ]
     },
     "execution_count": 23,
     "metadata": {},
     "output_type": "execute_result"
    }
   ],
   "source": [
    "columns_cordis = cordis_and_counts.columns.tolist()\n",
    "len(columns_cordis)"
   ]
  },
  {
   "cell_type": "code",
   "execution_count": 189,
   "id": "49e1086f",
   "metadata": {
    "ExecuteTime": {
     "end_time": "2023-12-14T12:13:34.357504Z",
     "start_time": "2023-12-14T12:13:34.353077Z"
    }
   },
   "outputs": [
    {
     "data": {
      "text/plain": [
       "array(['ERC-SG', 'RIA', 'CP-IP', 'ERC-SyG', 'ERC-AG', 'CSA', 'ERC-COG',\n",
       "       'MSCA-ITN-EID', 'MSCA-ITN', 'NoE', 'ERC-ADG', 'ERC-STG',\n",
       "       'CP-CSA-Infra', 'MC-IRSES', 'CP-FP', 'MC-ERG', 'MC-IEF', 'MSCA-IF',\n",
       "       'IA', 'MSCA-ITN-ETN', 'MSCA-IF-EF-RI', 'ERA-NET-Cofund',\n",
       "       'CP-IP-SICA', 'JTI-CP-IMI', 'ERC-CG', 'ERC-POC', 'MSCA-IF-GF',\n",
       "       'CP-TP', 'MSCA-RISE', 'CP', 'MSCA-COFUND-DP', 'MSCA-IF-EF-ST',\n",
       "       'CP-FP-SICA', 'MC-IOF', 'MSCA-COFUND-FP', 'MC-IIF', 'CSA-SA',\n",
       "       'MSCA-COFUND', 'MC-IRG', 'CSA-CA', 'CPCSA', 'HORIZON-AG',\n",
       "       'COFUND-EJP', 'MSCA-ITN-EJD', 'CP-SICA', 'IMI2-RIA', 'SME-2',\n",
       "       'SME', 'ERC-POC-LS', 'HORIZON-RIA', nan], dtype=object)"
      ]
     },
     "execution_count": 189,
     "metadata": {},
     "output_type": "execute_result"
    }
   ],
   "source": [
    "cordis_and_counts[\"fundingscheme_cordis\"].unique()"
   ]
  },
  {
   "cell_type": "code",
   "execution_count": 188,
   "id": "d79f7810",
   "metadata": {
    "ExecuteTime": {
     "end_time": "2023-12-14T12:13:27.655313Z",
     "start_time": "2023-12-14T12:13:27.650014Z"
    }
   },
   "outputs": [
    {
     "data": {
      "text/plain": [
       "array(['0', 'Other Research Related', 'OTHER RESEARCH-RELATED',\n",
       "       'Research Projects', 'NON-SBIR/STTR RPGS', 'Non-SBIR/STTR RPGs',\n",
       "       'TRAINING, INDIVIDUAL', 'Training, Institutional',\n",
       "       'TRAINING, INSTITUTIONAL', 'Research Centers', 'RESEARCH CENTERS',\n",
       "       nan, 'Intramural Research', 'INTRAMURAL RESEARCH'], dtype=object)"
      ]
     },
     "execution_count": 188,
     "metadata": {},
     "output_type": "execute_result"
    }
   ],
   "source": [
    "nih_results_1000[\"proj_funding_mechanism\"].unique()"
   ]
  },
  {
   "cell_type": "code",
   "execution_count": null,
   "id": "c29af721",
   "metadata": {},
   "outputs": [],
   "source": []
  },
  {
   "cell_type": "code",
   "execution_count": 168,
   "id": "e7afa9ca",
   "metadata": {
    "ExecuteTime": {
     "end_time": "2023-12-14T11:49:25.907357Z",
     "start_time": "2023-12-14T11:49:25.902748Z"
    }
   },
   "outputs": [
    {
     "data": {
      "text/plain": [
       "['pmcid',\n",
       " 'doi',\n",
       " 'pub_affiliation',\n",
       " 'pub_author_list',\n",
       " 'pub_country',\n",
       " 'pub_issn',\n",
       " 'pub_journal_issue',\n",
       " 'pub_journal_title',\n",
       " 'pub_journal_title_abbr',\n",
       " 'pub_pmid',\n",
       " 'pub_date',\n",
       " 'pub_title',\n",
       " 'pub_year',\n",
       " 'pub_project_number',\n",
       " 'proj_application_id',\n",
       " 'proj_activity',\n",
       " 'proj_administering_ic',\n",
       " 'proj_application_type',\n",
       " 'proj_arra_funded',\n",
       " 'proj_award_notice_date',\n",
       " 'proj_budget_start',\n",
       " 'proj_budget_end',\n",
       " 'proj_core_project_num',\n",
       " 'proj_ed_inst_type',\n",
       " 'proj_foa_number',\n",
       " 'proj_full_project_num',\n",
       " 'proj_subproject_id',\n",
       " 'proj_funding_ics',\n",
       " 'proj_fy',\n",
       " 'proj_ic_name',\n",
       " 'proj_nih_spending_cats',\n",
       " 'proj_org_city',\n",
       " 'proj_org_country',\n",
       " 'proj_org_dept',\n",
       " 'proj_org_fips',\n",
       " 'proj_org_name',\n",
       " 'proj_org_state',\n",
       " 'proj_phr',\n",
       " 'proj_pi_names',\n",
       " 'proj_program_officer_name',\n",
       " 'proj_project_start',\n",
       " 'proj_project_end',\n",
       " 'proj_project_terms',\n",
       " 'proj_project_title',\n",
       " 'proj_serial_number',\n",
       " 'proj_study_section',\n",
       " 'proj_study_section_name',\n",
       " 'proj_support_year',\n",
       " 'proj_total_cost',\n",
       " 'proj_total_cost_sub_project',\n",
       " 'proj_funding_mechanism',\n",
       " 'proj_direct_cost_amt',\n",
       " 'proj_indirect_cost_amt',\n",
       " 'proj_org_ipf_code',\n",
       " 'proj_opportunity number']"
      ]
     },
     "execution_count": 168,
     "metadata": {},
     "output_type": "execute_result"
    }
   ],
   "source": [
    "columns_nih"
   ]
  },
  {
   "cell_type": "code",
   "execution_count": null,
   "id": "1292336c",
   "metadata": {},
   "outputs": [],
   "source": []
  },
  {
   "cell_type": "code",
   "execution_count": 60,
   "id": "e19277f1",
   "metadata": {
    "ExecuteTime": {
     "end_time": "2023-12-14T10:40:54.862764Z",
     "start_time": "2023-12-14T10:40:54.858824Z"
    }
   },
   "outputs": [
    {
     "data": {
      "text/plain": [
       "array(['0', 'N', 'Y', nan], dtype=object)"
      ]
     },
     "execution_count": 60,
     "metadata": {},
     "output_type": "execute_result"
    }
   ],
   "source": [
    "nih_results_1000[\"\"]"
   ]
  },
  {
   "cell_type": "code",
   "execution_count": 46,
   "id": "8ae9eff7",
   "metadata": {
    "ExecuteTime": {
     "end_time": "2023-12-14T10:30:25.076214Z",
     "start_time": "2023-12-14T10:30:25.072445Z"
    }
   },
   "outputs": [
    {
     "data": {
      "text/plain": [
       "52"
      ]
     },
     "execution_count": 46,
     "metadata": {},
     "output_type": "execute_result"
    }
   ],
   "source": [
    "len(columns_cordis)"
   ]
  },
  {
   "cell_type": "code",
   "execution_count": 45,
   "id": "f39cf6cb",
   "metadata": {
    "ExecuteTime": {
     "end_time": "2023-12-14T10:30:17.121406Z",
     "start_time": "2023-12-14T10:30:17.115968Z"
    }
   },
   "outputs": [
    {
     "data": {
      "text/plain": [
       "51"
      ]
     },
     "execution_count": 45,
     "metadata": {},
     "output_type": "execute_result"
    }
   ],
   "source": [
    "len([\"pmcid\"]+[np.nan]*19+[\"something\"]+[np.nan]*30)"
   ]
  },
  {
   "cell_type": "code",
   "execution_count": 184,
   "id": "f826a918",
   "metadata": {
    "ExecuteTime": {
     "end_time": "2023-12-14T12:11:47.436237Z",
     "start_time": "2023-12-14T12:11:47.428568Z"
    },
    "scrolled": false
   },
   "outputs": [
    {
     "data": {
      "text/html": [
       "<div>\n",
       "<style scoped>\n",
       "    .dataframe tbody tr th:only-of-type {\n",
       "        vertical-align: middle;\n",
       "    }\n",
       "\n",
       "    .dataframe tbody tr th {\n",
       "        vertical-align: top;\n",
       "    }\n",
       "\n",
       "    .dataframe thead th {\n",
       "        text-align: right;\n",
       "    }\n",
       "</style>\n",
       "<table border=\"1\" class=\"dataframe\">\n",
       "  <thead>\n",
       "    <tr style=\"text-align: right;\">\n",
       "      <th></th>\n",
       "      <th>cordis</th>\n",
       "      <th>nih</th>\n",
       "    </tr>\n",
       "  </thead>\n",
       "  <tbody>\n",
       "    <tr>\n",
       "      <th>0</th>\n",
       "      <td>pmcid</td>\n",
       "      <td>pmcid</td>\n",
       "    </tr>\n",
       "    <tr>\n",
       "      <th>1</th>\n",
       "      <td>agg_sentence_index</td>\n",
       "      <td>nan</td>\n",
       "    </tr>\n",
       "    <tr>\n",
       "      <th>2</th>\n",
       "      <td>agg_n_fem</td>\n",
       "      <td>nan</td>\n",
       "    </tr>\n",
       "    <tr>\n",
       "      <th>3</th>\n",
       "      <td>agg_n_male</td>\n",
       "      <td>nan</td>\n",
       "    </tr>\n",
       "    <tr>\n",
       "      <th>4</th>\n",
       "      <td>agg_perc_fem</td>\n",
       "      <td>nan</td>\n",
       "    </tr>\n",
       "    <tr>\n",
       "      <th>5</th>\n",
       "      <td>agg_perc_male</td>\n",
       "      <td>nan</td>\n",
       "    </tr>\n",
       "    <tr>\n",
       "      <th>6</th>\n",
       "      <td>agg_sample</td>\n",
       "      <td>nan</td>\n",
       "    </tr>\n",
       "    <tr>\n",
       "      <th>7</th>\n",
       "      <td>clean_n_fem</td>\n",
       "      <td>nan</td>\n",
       "    </tr>\n",
       "    <tr>\n",
       "      <th>8</th>\n",
       "      <td>clean_n_male</td>\n",
       "      <td>nan</td>\n",
       "    </tr>\n",
       "    <tr>\n",
       "      <th>9</th>\n",
       "      <td>clean_perc_fem</td>\n",
       "      <td>nan</td>\n",
       "    </tr>\n",
       "    <tr>\n",
       "      <th>10</th>\n",
       "      <td>clean_perc_male</td>\n",
       "      <td>nan</td>\n",
       "    </tr>\n",
       "    <tr>\n",
       "      <th>11</th>\n",
       "      <td>clean_sample</td>\n",
       "      <td>nan</td>\n",
       "    </tr>\n",
       "    <tr>\n",
       "      <th>12</th>\n",
       "      <td>max_n_fem</td>\n",
       "      <td>nan</td>\n",
       "    </tr>\n",
       "    <tr>\n",
       "      <th>13</th>\n",
       "      <td>max_n_male</td>\n",
       "      <td>nan</td>\n",
       "    </tr>\n",
       "    <tr>\n",
       "      <th>14</th>\n",
       "      <td>max_perc_fem</td>\n",
       "      <td>nan</td>\n",
       "    </tr>\n",
       "    <tr>\n",
       "      <th>15</th>\n",
       "      <td>max_perc_male</td>\n",
       "      <td>nan</td>\n",
       "    </tr>\n",
       "    <tr>\n",
       "      <th>16</th>\n",
       "      <td>max_sample</td>\n",
       "      <td>nan</td>\n",
       "    </tr>\n",
       "    <tr>\n",
       "      <th>17</th>\n",
       "      <td>article_categories</td>\n",
       "      <td>nan</td>\n",
       "    </tr>\n",
       "    <tr>\n",
       "      <th>18</th>\n",
       "      <td>article_title</td>\n",
       "      <td>nan</td>\n",
       "    </tr>\n",
       "    <tr>\n",
       "      <th>19</th>\n",
       "      <td>authors</td>\n",
       "      <td>nan</td>\n",
       "    </tr>\n",
       "    <tr>\n",
       "      <th>20</th>\n",
       "      <td>copyright_info</td>\n",
       "      <td>nan</td>\n",
       "    </tr>\n",
       "    <tr>\n",
       "      <th>21</th>\n",
       "      <td>funding</td>\n",
       "      <td>nan</td>\n",
       "    </tr>\n",
       "    <tr>\n",
       "      <th>22</th>\n",
       "      <td>publisher_id</td>\n",
       "      <td>nan</td>\n",
       "    </tr>\n",
       "    <tr>\n",
       "      <th>23</th>\n",
       "      <td>doi</td>\n",
       "      <td>doi</td>\n",
       "    </tr>\n",
       "    <tr>\n",
       "      <th>24</th>\n",
       "      <td>journal_title</td>\n",
       "      <td>nan</td>\n",
       "    </tr>\n",
       "    <tr>\n",
       "      <th>25</th>\n",
       "      <td>keywords</td>\n",
       "      <td>nan</td>\n",
       "    </tr>\n",
       "    <tr>\n",
       "      <th>26</th>\n",
       "      <td>publication_date</td>\n",
       "      <td>nan</td>\n",
       "    </tr>\n",
       "    <tr>\n",
       "      <th>27</th>\n",
       "      <td>project_id_cordis</td>\n",
       "      <td>proj_core_project_num</td>\n",
       "    </tr>\n",
       "    <tr>\n",
       "      <th>28</th>\n",
       "      <td>acronym_projects_cordis</td>\n",
       "      <td>nan</td>\n",
       "    </tr>\n",
       "    <tr>\n",
       "      <th>29</th>\n",
       "      <td>status_cordis</td>\n",
       "      <td>nan</td>\n",
       "    </tr>\n",
       "    <tr>\n",
       "      <th>30</th>\n",
       "      <td>title_projects_cordis</td>\n",
       "      <td>proj_project_title</td>\n",
       "    </tr>\n",
       "    <tr>\n",
       "      <th>31</th>\n",
       "      <td>startdate_cordis</td>\n",
       "      <td>proj_project_start</td>\n",
       "    </tr>\n",
       "    <tr>\n",
       "      <th>32</th>\n",
       "      <td>enddate_cordis</td>\n",
       "      <td>proj_project_end</td>\n",
       "    </tr>\n",
       "    <tr>\n",
       "      <th>33</th>\n",
       "      <td>totalcost_cordis</td>\n",
       "      <td>proj_total_cost</td>\n",
       "    </tr>\n",
       "    <tr>\n",
       "      <th>34</th>\n",
       "      <td>ecmaxcontribution_cordis</td>\n",
       "      <td>nan</td>\n",
       "    </tr>\n",
       "    <tr>\n",
       "      <th>35</th>\n",
       "      <td>legalbasis_cordis</td>\n",
       "      <td>nan</td>\n",
       "    </tr>\n",
       "    <tr>\n",
       "      <th>36</th>\n",
       "      <td>topics_cordis</td>\n",
       "      <td>proj_nih_spending_cats</td>\n",
       "    </tr>\n",
       "    <tr>\n",
       "      <th>37</th>\n",
       "      <td>ecsignaturedate_cordis</td>\n",
       "      <td>proj_award_notice_date</td>\n",
       "    </tr>\n",
       "    <tr>\n",
       "      <th>38</th>\n",
       "      <td>frameworkprogramme_cordis</td>\n",
       "      <td>proj_funding_ics[0:3]</td>\n",
       "    </tr>\n",
       "    <tr>\n",
       "      <th>39</th>\n",
       "      <td>mastercall_cordis</td>\n",
       "      <td>nan</td>\n",
       "    </tr>\n",
       "    <tr>\n",
       "      <th>40</th>\n",
       "      <td>subcall_cordis</td>\n",
       "      <td>nan</td>\n",
       "    </tr>\n",
       "    <tr>\n",
       "      <th>41</th>\n",
       "      <td>fundingscheme_cordis</td>\n",
       "      <td>nan</td>\n",
       "    </tr>\n",
       "    <tr>\n",
       "      <th>42</th>\n",
       "      <td>nature_cordis</td>\n",
       "      <td>nan</td>\n",
       "    </tr>\n",
       "    <tr>\n",
       "      <th>43</th>\n",
       "      <td>objective_cordis</td>\n",
       "      <td>nan</td>\n",
       "    </tr>\n",
       "    <tr>\n",
       "      <th>44</th>\n",
       "      <td>contentupdatedate_projects_cordis</td>\n",
       "      <td>nan</td>\n",
       "    </tr>\n",
       "    <tr>\n",
       "      <th>45</th>\n",
       "      <td>title_publications_cordis</td>\n",
       "      <td>pub_title</td>\n",
       "    </tr>\n",
       "    <tr>\n",
       "      <th>46</th>\n",
       "      <td>authors_cordis</td>\n",
       "      <td>pub_author_list</td>\n",
       "    </tr>\n",
       "    <tr>\n",
       "      <th>47</th>\n",
       "      <td>journal_title_cordis</td>\n",
       "      <td>pub_journal_title</td>\n",
       "    </tr>\n",
       "    <tr>\n",
       "      <th>48</th>\n",
       "      <td>_merge_cordis</td>\n",
       "      <td>nan</td>\n",
       "    </tr>\n",
       "    <tr>\n",
       "      <th>49</th>\n",
       "      <td>funding_body</td>\n",
       "      <td>proj_ic_name</td>\n",
       "    </tr>\n",
       "    <tr>\n",
       "      <th>50</th>\n",
       "      <td>publication_date_cordis</td>\n",
       "      <td>pub_date</td>\n",
       "    </tr>\n",
       "    <tr>\n",
       "      <th>51</th>\n",
       "      <td>acronym_publications_cordis</td>\n",
       "      <td>pub_journal_title_abbr</td>\n",
       "    </tr>\n",
       "  </tbody>\n",
       "</table>\n",
       "</div>"
      ],
      "text/plain": [
       "                               cordis                     nih\n",
       "0                               pmcid                   pmcid\n",
       "1                  agg_sentence_index                     nan\n",
       "2                           agg_n_fem                     nan\n",
       "3                          agg_n_male                     nan\n",
       "4                        agg_perc_fem                     nan\n",
       "5                       agg_perc_male                     nan\n",
       "6                          agg_sample                     nan\n",
       "7                         clean_n_fem                     nan\n",
       "8                        clean_n_male                     nan\n",
       "9                      clean_perc_fem                     nan\n",
       "10                    clean_perc_male                     nan\n",
       "11                       clean_sample                     nan\n",
       "12                          max_n_fem                     nan\n",
       "13                         max_n_male                     nan\n",
       "14                       max_perc_fem                     nan\n",
       "15                      max_perc_male                     nan\n",
       "16                         max_sample                     nan\n",
       "17                 article_categories                     nan\n",
       "18                      article_title                     nan\n",
       "19                            authors                     nan\n",
       "20                     copyright_info                     nan\n",
       "21                            funding                     nan\n",
       "22                       publisher_id                     nan\n",
       "23                                doi                     doi\n",
       "24                      journal_title                     nan\n",
       "25                           keywords                     nan\n",
       "26                   publication_date                     nan\n",
       "27                  project_id_cordis   proj_core_project_num\n",
       "28            acronym_projects_cordis                     nan\n",
       "29                      status_cordis                     nan\n",
       "30              title_projects_cordis      proj_project_title\n",
       "31                   startdate_cordis      proj_project_start\n",
       "32                     enddate_cordis        proj_project_end\n",
       "33                   totalcost_cordis         proj_total_cost\n",
       "34           ecmaxcontribution_cordis                     nan\n",
       "35                  legalbasis_cordis                     nan\n",
       "36                      topics_cordis  proj_nih_spending_cats\n",
       "37             ecsignaturedate_cordis  proj_award_notice_date\n",
       "38          frameworkprogramme_cordis   proj_funding_ics[0:3]\n",
       "39                  mastercall_cordis                     nan\n",
       "40                     subcall_cordis                     nan\n",
       "41               fundingscheme_cordis                     nan\n",
       "42                      nature_cordis                     nan\n",
       "43                   objective_cordis                     nan\n",
       "44  contentupdatedate_projects_cordis                     nan\n",
       "45          title_publications_cordis               pub_title\n",
       "46                     authors_cordis         pub_author_list\n",
       "47               journal_title_cordis       pub_journal_title\n",
       "48                      _merge_cordis                     nan\n",
       "49                       funding_body            proj_ic_name\n",
       "50            publication_date_cordis                pub_date\n",
       "51        acronym_publications_cordis  pub_journal_title_abbr"
      ]
     },
     "execution_count": 184,
     "metadata": {},
     "output_type": "execute_result"
    }
   ],
   "source": [
    "df_compare_cols=pd.DataFrame(\n",
    "    np.array(\n",
    "        [\n",
    "            columns_cordis,\n",
    "            [\"pmcid\"] + \n",
    "            [np.nan] * 17 + \n",
    "            [np.nan,\n",
    "             np.nan,\n",
    "             np.nan,\n",
    "             np.nan,\n",
    "             np.nan,\n",
    "             \"doi\",\n",
    "             np.nan,\n",
    "             np.nan,\n",
    "             np.nan,\n",
    "             \"proj_core_project_num\",\n",
    "             np.nan,\n",
    "             np.nan,\n",
    "             \"proj_project_title\",\n",
    "             \"proj_project_start\",\n",
    "             \"proj_project_end\",\n",
    "             \"proj_total_cost\",\n",
    "             np.nan,\n",
    "             np.nan,\n",
    "             \"proj_nih_spending_cats\",\n",
    "             \"proj_award_notice_date\",\n",
    "             \"proj_funding_ics[0:3]\"\n",
    "            ] + \n",
    "            [np.nan] * 6 +\n",
    "            [\"pub_title\",\n",
    "             \"pub_author_list\",\n",
    "             \"pub_journal_title\",\n",
    "             np.nan,\n",
    "             \"proj_ic_name\",\n",
    "             \"pub_date\",\n",
    "             \"pub_journal_title_abbr\"\n",
    "            ],\n",
    "        ]\n",
    "    ).T,\n",
    "    columns=[\"cordis\", \"nih\"],\n",
    ")\n",
    "df_compare_cols"
   ]
  },
  {
   "cell_type": "code",
   "execution_count": 190,
   "id": "afd95323",
   "metadata": {
    "ExecuteTime": {
     "end_time": "2023-12-14T12:17:20.472005Z",
     "start_time": "2023-12-14T12:17:20.454597Z"
    }
   },
   "outputs": [],
   "source": [
    "df_compare_cols.to_csv(\"compare_cordis_nih.csv\")"
   ]
  }
 ],
 "metadata": {
  "kernelspec": {
   "display_name": "Python 3 (ipykernel)",
   "language": "python",
   "name": "python3"
  },
  "language_info": {
   "codemirror_mode": {
    "name": "ipython",
    "version": 3
   },
   "file_extension": ".py",
   "mimetype": "text/x-python",
   "name": "python",
   "nbconvert_exporter": "python",
   "pygments_lexer": "ipython3",
   "version": "3.9.18"
  },
  "toc": {
   "base_numbering": 1,
   "nav_menu": {},
   "number_sections": true,
   "sideBar": true,
   "skip_h1_title": false,
   "title_cell": "Table of Contents",
   "title_sidebar": "Contents",
   "toc_cell": false,
   "toc_position": {},
   "toc_section_display": true,
   "toc_window_display": false
  },
  "varInspector": {
   "cols": {
    "lenName": 16,
    "lenType": 16,
    "lenVar": 40
   },
   "kernels_config": {
    "python": {
     "delete_cmd_postfix": "",
     "delete_cmd_prefix": "del ",
     "library": "var_list.py",
     "varRefreshCmd": "print(var_dic_list())"
    },
    "r": {
     "delete_cmd_postfix": ") ",
     "delete_cmd_prefix": "rm(",
     "library": "var_list.r",
     "varRefreshCmd": "cat(var_dic_list()) "
    }
   },
   "types_to_exclude": [
    "module",
    "function",
    "builtin_function_or_method",
    "instance",
    "_Feature"
   ],
   "window_display": false
  }
 },
 "nbformat": 4,
 "nbformat_minor": 5
}
