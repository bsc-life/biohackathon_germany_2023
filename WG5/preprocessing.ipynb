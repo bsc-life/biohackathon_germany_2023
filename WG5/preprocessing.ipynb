{
 "cells": [
  {
   "cell_type": "code",
   "execution_count": 1,
   "id": "0e6956df",
   "metadata": {},
   "outputs": [],
   "source": [
    "import pandas as pd\n",
    "import os, sys\n",
    "import numpy as np\n",
    "import matplotlib.pyplot as plt"
   ]
  },
  {
   "cell_type": "markdown",
   "id": "bbcab866",
   "metadata": {},
   "source": [
    "Import sample data:"
   ]
  },
  {
   "cell_type": "code",
   "execution_count": 2,
   "id": "b51e2a10",
   "metadata": {},
   "outputs": [],
   "source": [
    "# Import data:\n",
    "linktable = pd.read_csv(\"data/RePORTER_PUBLNK_C_FY2022.csv\")\n",
    "project = pd.read_csv(\"data/RePORTER_PRJ_C_FY2022.csv\")\n",
    "abstract = pd.read_csv(\"data/RePORTER_PRJABS_C_FY2022.csv\")\n",
    "publications = pd.read_csv(\"data/RePORTER_PUB_C_FY2022.csv\")"
   ]
  },
  {
   "cell_type": "code",
   "execution_count": 3,
   "id": "4f717d2f",
   "metadata": {},
   "outputs": [
    {
     "name": "stdout",
     "output_type": "stream",
     "text": [
      "(293478, 2) (83730, 46) (83238, 2) (112383, 15)\n"
     ]
    }
   ],
   "source": [
    "print(linktable.shape,project.shape,abstract.shape,publications.shape)"
   ]
  },
  {
   "cell_type": "code",
   "execution_count": 4,
   "id": "13a3138c",
   "metadata": {},
   "outputs": [],
   "source": [
    "# Set specific column to index:\n",
    "abstract.index=abstract[\"APPLICATION_ID\"]\n",
    "abstract=abstract.drop([\"APPLICATION_ID\"],axis=1)\n",
    "\n",
    "linktable.index=linktable[\"PROJECT_NUMBER\"]\n",
    "linktable=linktable.drop([\"PROJECT_NUMBER\"],axis=1)\n",
    "\n",
    "publications.index=publications[\"PMID\"]\n",
    "publications = publications.drop([\"PMID\"],axis=1)"
   ]
  },
  {
   "cell_type": "code",
   "execution_count": 5,
   "id": "7e85345a",
   "metadata": {},
   "outputs": [],
   "source": [
    "# project ∩ linktable\n",
    "general_df = project.join(other=linktable,on=\"CORE_PROJECT_NUM\",how=\"inner\") #intersection"
   ]
  },
  {
   "cell_type": "code",
   "execution_count": 6,
   "id": "41335b1c",
   "metadata": {},
   "outputs": [],
   "source": [
    "# project ∩ linktable ∩ abstract\n",
    "general_df=general_df.join(other=abstract, on=\"APPLICATION_ID\", how=\"inner\") # intersection"
   ]
  },
  {
   "cell_type": "code",
   "execution_count": 7,
   "id": "3c207311",
   "metadata": {},
   "outputs": [],
   "source": [
    "# project ∩ linktable ∩ abstract ∩ publications\n",
    "general_df=general_df.join(other=publications, on=\"PMID\", how=\"inner\") # intersection"
   ]
  },
  {
   "cell_type": "code",
   "execution_count": 8,
   "id": "9b453a47",
   "metadata": {},
   "outputs": [
    {
     "data": {
      "text/plain": [
       "(619889, 62)"
      ]
     },
     "execution_count": 8,
     "metadata": {},
     "output_type": "execute_result"
    }
   ],
   "source": [
    "general_df.shape"
   ]
  }
 ],
 "metadata": {
  "kernelspec": {
   "display_name": "Python 3 (ipykernel)",
   "language": "python",
   "name": "python3"
  },
  "language_info": {
   "codemirror_mode": {
    "name": "ipython",
    "version": 3
   },
   "file_extension": ".py",
   "mimetype": "text/x-python",
   "name": "python",
   "nbconvert_exporter": "python",
   "pygments_lexer": "ipython3",
   "version": "3.9.18"
  }
 },
 "nbformat": 4,
 "nbformat_minor": 5
}
