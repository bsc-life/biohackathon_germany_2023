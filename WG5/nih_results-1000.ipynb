{
 "cells": [
  {
   "cell_type": "markdown",
   "id": "d647f9e6",
   "metadata": {},
   "source": [
    "# RePORTER data"
   ]
  },
  {
   "cell_type": "markdown",
   "id": "17794526",
   "metadata": {},
   "source": [
    "[RePORTER data](https://reporter.nih.gov/exporter/): publications + funding data of NIH projects (US) from 1980 until 2022. \n",
    "\n",
    "Analysis time window: `1985 - 2022`."
   ]
  },
  {
   "cell_type": "markdown",
   "id": "ef5df6f3",
   "metadata": {},
   "source": [
    "## Imports"
   ]
  },
  {
   "cell_type": "code",
   "execution_count": 1,
   "id": "ab5d269b",
   "metadata": {},
   "outputs": [],
   "source": [
    "import os\n",
    "import json\n",
    "import zipfile\n",
    "import pandas as pd"
   ]
  },
  {
   "cell_type": "markdown",
   "id": "b7e627bb",
   "metadata": {},
   "source": [
    "## Scraper"
   ]
  },
  {
   "cell_type": "markdown",
   "id": "46d41024",
   "metadata": {},
   "source": [
    "[pynih](https://github.com/jermwatt/pynih) is a useful library designed to extract data from the [NIH RePORTER API](https://api.reporter.nih.gov/). However, it was not utilized for the Hackathon, where zip files were manually downloaded."
   ]
  },
  {
   "cell_type": "markdown",
   "id": "ac7f5c0d",
   "metadata": {},
   "source": [
    "## Functions"
   ]
  },
  {
   "cell_type": "code",
   "execution_count": 2,
   "id": "00ef6f73",
   "metadata": {},
   "outputs": [],
   "source": [
    "def create_folder(folder_path):\n",
    "    # Specify the folder containing the zip files\n",
    "    # Create the extraction folder if it doesn't exist\n",
    "    os.makedirs(folder_path, exist_ok=True)\n",
    "    return folder_path"
   ]
  },
  {
   "cell_type": "code",
   "execution_count": 3,
   "id": "524eefc8",
   "metadata": {},
   "outputs": [],
   "source": [
    "def create_general_folders():\n",
    "    folders = []\n",
    "    for folder in ['raw', 'input', 'processing', 'output']:\n",
    "        folder_path = os.path.join('data/', folder)\n",
    "        folders.append(create_folder(folder_path)) \n",
    "    return folders   "
   ]
  },
  {
   "cell_type": "code",
   "execution_count": 4,
   "id": "965cf7e8",
   "metadata": {},
   "outputs": [],
   "source": [
    "def create_extraction_folders(document):\n",
    "    # Specify the folder containing the zip files\n",
    "    zip_folder = f'/{document}/'\n",
    "    # Specify the folder where you want to extract the files\n",
    "    extracted_folder = f'data/input/{document}/'\n",
    "    # Create the extraction folder if it doesn't exist\n",
    "    os.makedirs(zip_folder, exist_ok=True)\n",
    "    os.makedirs(extracted_folder, exist_ok=True)\n",
    "    print(f'Input folder: {zip_folder}')\n",
    "    print(f'Output folder: {zip_folder}')\n",
    "    return zip_folder, extracted_folder"
   ]
  },
  {
   "cell_type": "code",
   "execution_count": 5,
   "id": "bf1bc236",
   "metadata": {},
   "outputs": [],
   "source": [
    "def unzip_files(zip_folder, extracted_folder):\n",
    "    # List all zip files in the zip folder\n",
    "    zip_files = [f for f in os.listdir(zip_folder) if f.endswith('.zip')]\n",
    "\n",
    "    # Loop through zip files and extract contents\n",
    "    count = 0\n",
    "    for zip_file in zip_files:\n",
    "        zip_path = os.path.join(zip_folder, zip_file)\n",
    "        \n",
    "        with zipfile.ZipFile(zip_path, 'r') as zip_ref:\n",
    "            zip_ref.extractall(extracted_folder)\n",
    "        count += 1 \n",
    "    print(f'{count} zips extracted successfully!')"
   ]
  },
  {
   "cell_type": "code",
   "execution_count": 6,
   "id": "6c267cde",
   "metadata": {},
   "outputs": [],
   "source": [
    "def create_df_from_csv(folders, document, project_numbers=''):\n",
    "    extracted_folder =  os.path.join(folders[1], document)\n",
    "    # Create a DataFrame to store the data from the CSVs\n",
    "    df_list = []\n",
    "    # Loop through extracted CSV files and read them into the DataFrame\n",
    "    for csv_file in os.listdir(extracted_folder):\n",
    "        if csv_file.endswith('.csv'):\n",
    "            csv_path = os.path.join(extracted_folder, csv_file)\n",
    "            try:\n",
    "                # Open and read the file manually with error handling\n",
    "                with open(csv_path, 'r', encoding='utf-8', errors='replace') as file:\n",
    "                    df = pd.read_csv(file, on_bad_lines='skip', encoding='utf-8', engine='python')\n",
    "                    # if 'projects' in csv_path and project_numbers != '':\n",
    "                        # df = df[df[\"CORE_PROJECT_NUM\"].isin(project_numbers)]\n",
    "                        # df = pd.merge(codes_df, df, on='pmid', how='left')\n",
    "                df_list.append(df)\n",
    "            except Exception as e:\n",
    "                print(f\"Error reading {csv_path}: {e}\")\n",
    "\n",
    "    # Concatenate all DataFrames into a single DataFrame\n",
    "    final_df = pd.concat(df_list, ignore_index=True)\n",
    "    print(f'Number of {document}: {final_df.shape[0]}')\n",
    "    return final_df\n"
   ]
  },
  {
   "cell_type": "markdown",
   "id": "ceb7d5c3",
   "metadata": {},
   "source": [
    "## Paths"
   ]
  },
  {
   "cell_type": "code",
   "execution_count": 7,
   "id": "41d2980c",
   "metadata": {},
   "outputs": [
    {
     "data": {
      "text/plain": [
       "['data/raw', 'data/input', 'data/processing', 'data/output']"
      ]
     },
     "execution_count": 7,
     "metadata": {},
     "output_type": "execute_result"
    }
   ],
   "source": [
    "folders = create_general_folders() # 'raw', 'input', 'processing', 'output'\n",
    "folders"
   ]
  },
  {
   "cell_type": "markdown",
   "id": "318cca54",
   "metadata": {},
   "source": [
    "## Unzip files"
   ]
  },
  {
   "cell_type": "code",
   "execution_count": 8,
   "id": "9747b147",
   "metadata": {},
   "outputs": [],
   "source": [
    "zip_folder = os.path.join(folders[0], 'publications')\n",
    "extracted_folder = os.path.join(folders[1], 'publications')"
   ]
  },
  {
   "cell_type": "code",
   "execution_count": 9,
   "id": "782c363d",
   "metadata": {},
   "outputs": [],
   "source": [
    "# UNZIP FILES - optional\n",
    "# if any(os.scandir(zip_folder)):\n",
    "#    unzip_files(zip_folder, extracted_folder)\n",
    "# else:\n",
    "#    print('No zips!')"
   ]
  },
  {
   "cell_type": "markdown",
   "id": "df5f179f",
   "metadata": {},
   "source": [
    "## Data"
   ]
  },
  {
   "cell_type": "markdown",
   "id": "133fa251",
   "metadata": {},
   "source": [
    "### Count Data"
   ]
  },
  {
   "cell_type": "code",
   "execution_count": 10,
   "id": "0c3a375a",
   "metadata": {},
   "outputs": [],
   "source": [
    "json_file_path = 'data/results_for_analysis.json'"
   ]
  },
  {
   "cell_type": "code",
   "execution_count": 11,
   "id": "d690c299",
   "metadata": {},
   "outputs": [],
   "source": [
    "# Open the JSON file\n",
    "with open(json_file_path, 'r') as file:\n",
    "    # Load the JSON data\n",
    "    data = json.load(file)"
   ]
  },
  {
   "cell_type": "code",
   "execution_count": 12,
   "id": "d0648afe",
   "metadata": {},
   "outputs": [
    {
     "data": {
      "text/html": [
       "<div>\n",
       "<style scoped>\n",
       "    .dataframe tbody tr th:only-of-type {\n",
       "        vertical-align: middle;\n",
       "    }\n",
       "\n",
       "    .dataframe tbody tr th {\n",
       "        vertical-align: top;\n",
       "    }\n",
       "\n",
       "    .dataframe thead th {\n",
       "        text-align: right;\n",
       "    }\n",
       "</style>\n",
       "<table border=\"1\" class=\"dataframe\">\n",
       "  <thead>\n",
       "    <tr style=\"text-align: right;\">\n",
       "      <th></th>\n",
       "      <th>pmcid</th>\n",
       "      <th>agg_sentence_index</th>\n",
       "      <th>agg_n_fem</th>\n",
       "      <th>agg_n_male</th>\n",
       "      <th>agg_perc_fem</th>\n",
       "      <th>agg_perc_male</th>\n",
       "      <th>agg_sample</th>\n",
       "      <th>clean_n_fem</th>\n",
       "      <th>clean_n_male</th>\n",
       "      <th>clean_perc_fem</th>\n",
       "      <th>...</th>\n",
       "      <th>article_categories</th>\n",
       "      <th>article_title</th>\n",
       "      <th>authors</th>\n",
       "      <th>copyright_info</th>\n",
       "      <th>funding</th>\n",
       "      <th>publisher_id</th>\n",
       "      <th>doi</th>\n",
       "      <th>journal_title</th>\n",
       "      <th>keywords</th>\n",
       "      <th>publication_date</th>\n",
       "    </tr>\n",
       "  </thead>\n",
       "  <tbody>\n",
       "    <tr>\n",
       "      <th>0</th>\n",
       "      <td>PMC9683380</td>\n",
       "      <td>[3, 5, 6, 7, 8]</td>\n",
       "      <td>[null, null, \"\\\"352\\\"\", null, null]</td>\n",
       "      <td>[null, null, \"\\\"328\\\"\", null, null]</td>\n",
       "      <td>[null, null, null, null, null]</td>\n",
       "      <td>[null, null, null, null, null]</td>\n",
       "      <td>[\"\\\"##3\\\"\", \"\\\"##3\\\"\", \"\\\"70\\\"\", \"\\\"##6\\\"\", \"\\...</td>\n",
       "      <td>[352]</td>\n",
       "      <td>[328]</td>\n",
       "      <td>[]</td>\n",
       "      <td>...</td>\n",
       "      <td>[\"Endocrinology\"]</td>\n",
       "      <td>Differential diagnostic value of plain CT scan...</td>\n",
       "      <td>[\"Zhijiang Han\", \"Mengwei Wu\", \"Peiying Wei\", ...</td>\n",
       "      <td>Copyright © 2022 Han, Wu, Wei, Zhu, Zhang, Din...</td>\n",
       "      <td>[]</td>\n",
       "      <td>None</td>\n",
       "      <td>10.3389/fendo.2022.1007870</td>\n",
       "      <td>Frontiers in Endocrinology</td>\n",
       "      <td>[\"adrenal gland neoplasms\", \"adrenal adenoma\",...</td>\n",
       "      <td>2022-11-09 00:00:00</td>\n",
       "    </tr>\n",
       "    <tr>\n",
       "      <th>1</th>\n",
       "      <td>PMC5137654</td>\n",
       "      <td>[1, 3, 4]</td>\n",
       "      <td>[\"\\\"30\\\"\", null, null]</td>\n",
       "      <td>[\"\\\"30\\\"\", null, null]</td>\n",
       "      <td>[null, null, null]</td>\n",
       "      <td>[null, null, null]</td>\n",
       "      <td>[\"\\\"60\\\"\", \"\\\"16\\\"\", \"\\\"46\\\"\"]</td>\n",
       "      <td>[30]</td>\n",
       "      <td>[30]</td>\n",
       "      <td>[]</td>\n",
       "      <td>...</td>\n",
       "      <td>[\"Spine\"]</td>\n",
       "      <td>Posterior hemivertebra resection and monosegme...</td>\n",
       "      <td>[\"X Zhu\", \"X Wei\", \"J Chen\", \"C Li\", \"M Li\", \"...</td>\n",
       "      <td>Copyright © 2013 Royal College of Surgeons</td>\n",
       "      <td>[]</td>\n",
       "      <td>650173</td>\n",
       "      <td>10.1308/003588414X13824511650173</td>\n",
       "      <td>Annals of The Royal College of Surgeons of Eng...</td>\n",
       "      <td>[\"Hemivertebra resection\", \"Monosegmental fusi...</td>\n",
       "      <td>None</td>\n",
       "    </tr>\n",
       "  </tbody>\n",
       "</table>\n",
       "<p>2 rows × 27 columns</p>\n",
       "</div>"
      ],
      "text/plain": [
       "        pmcid agg_sentence_index                            agg_n_fem  \\\n",
       "0  PMC9683380    [3, 5, 6, 7, 8]  [null, null, \"\\\"352\\\"\", null, null]   \n",
       "1  PMC5137654          [1, 3, 4]               [\"\\\"30\\\"\", null, null]   \n",
       "\n",
       "                            agg_n_male                    agg_perc_fem  \\\n",
       "0  [null, null, \"\\\"328\\\"\", null, null]  [null, null, null, null, null]   \n",
       "1               [\"\\\"30\\\"\", null, null]              [null, null, null]   \n",
       "\n",
       "                    agg_perc_male  \\\n",
       "0  [null, null, null, null, null]   \n",
       "1              [null, null, null]   \n",
       "\n",
       "                                          agg_sample clean_n_fem clean_n_male  \\\n",
       "0  [\"\\\"##3\\\"\", \"\\\"##3\\\"\", \"\\\"70\\\"\", \"\\\"##6\\\"\", \"\\...       [352]        [328]   \n",
       "1                     [\"\\\"60\\\"\", \"\\\"16\\\"\", \"\\\"46\\\"\"]        [30]         [30]   \n",
       "\n",
       "  clean_perc_fem  ... article_categories  \\\n",
       "0             []  ...  [\"Endocrinology\"]   \n",
       "1             []  ...          [\"Spine\"]   \n",
       "\n",
       "                                       article_title  \\\n",
       "0  Differential diagnostic value of plain CT scan...   \n",
       "1  Posterior hemivertebra resection and monosegme...   \n",
       "\n",
       "                                             authors  \\\n",
       "0  [\"Zhijiang Han\", \"Mengwei Wu\", \"Peiying Wei\", ...   \n",
       "1  [\"X Zhu\", \"X Wei\", \"J Chen\", \"C Li\", \"M Li\", \"...   \n",
       "\n",
       "                                      copyright_info funding publisher_id  \\\n",
       "0  Copyright © 2022 Han, Wu, Wei, Zhu, Zhang, Din...      []         None   \n",
       "1         Copyright © 2013 Royal College of Surgeons      []       650173   \n",
       "\n",
       "                                doi  \\\n",
       "0        10.3389/fendo.2022.1007870   \n",
       "1  10.1308/003588414X13824511650173   \n",
       "\n",
       "                                       journal_title  \\\n",
       "0                         Frontiers in Endocrinology   \n",
       "1  Annals of The Royal College of Surgeons of Eng...   \n",
       "\n",
       "                                            keywords     publication_date  \n",
       "0  [\"adrenal gland neoplasms\", \"adrenal adenoma\",...  2022-11-09 00:00:00  \n",
       "1  [\"Hemivertebra resection\", \"Monosegmental fusi...                 None  \n",
       "\n",
       "[2 rows x 27 columns]"
      ]
     },
     "execution_count": 12,
     "metadata": {},
     "output_type": "execute_result"
    }
   ],
   "source": [
    "count_data = pd.DataFrame.from_dict(data)\n",
    "count_data.head(2)"
   ]
  },
  {
   "cell_type": "code",
   "execution_count": 13,
   "id": "efb29c0d",
   "metadata": {},
   "outputs": [
    {
     "data": {
      "text/plain": [
       "166011"
      ]
     },
     "execution_count": 13,
     "metadata": {},
     "output_type": "execute_result"
    }
   ],
   "source": [
    "count_data.shape[0]"
   ]
  },
  {
   "cell_type": "code",
   "execution_count": 14,
   "id": "6bf94d97",
   "metadata": {},
   "outputs": [
    {
     "data": {
      "text/plain": [
       "Index(['pmcid', 'agg_sentence_index', 'agg_n_fem', 'agg_n_male',\n",
       "       'agg_perc_fem', 'agg_perc_male', 'agg_sample', 'clean_n_fem',\n",
       "       'clean_n_male', 'clean_perc_fem', 'clean_perc_male', 'clean_sample',\n",
       "       'max_n_fem', 'max_n_male', 'max_perc_fem', 'max_perc_male',\n",
       "       'max_sample', 'article_categories', 'article_title', 'authors',\n",
       "       'copyright_info', 'funding', 'publisher_id', 'doi', 'journal_title',\n",
       "       'keywords', 'publication_date'],\n",
       "      dtype='object')"
      ]
     },
     "execution_count": 14,
     "metadata": {},
     "output_type": "execute_result"
    }
   ],
   "source": [
    "count_data.columns"
   ]
  },
  {
   "cell_type": "markdown",
   "id": "e99a5482",
   "metadata": {},
   "source": [
    "### Filters"
   ]
  },
  {
   "cell_type": "code",
   "execution_count": 15,
   "id": "59f05413",
   "metadata": {},
   "outputs": [
    {
     "data": {
      "text/html": [
       "<div>\n",
       "<style scoped>\n",
       "    .dataframe tbody tr th:only-of-type {\n",
       "        vertical-align: middle;\n",
       "    }\n",
       "\n",
       "    .dataframe tbody tr th {\n",
       "        vertical-align: top;\n",
       "    }\n",
       "\n",
       "    .dataframe thead th {\n",
       "        text-align: right;\n",
       "    }\n",
       "</style>\n",
       "<table border=\"1\" class=\"dataframe\">\n",
       "  <thead>\n",
       "    <tr style=\"text-align: right;\">\n",
       "      <th></th>\n",
       "      <th>pmcid</th>\n",
       "      <th>doi</th>\n",
       "    </tr>\n",
       "  </thead>\n",
       "  <tbody>\n",
       "    <tr>\n",
       "      <th>0</th>\n",
       "      <td>PMC9683380</td>\n",
       "      <td>10.3389/fendo.2022.1007870</td>\n",
       "    </tr>\n",
       "    <tr>\n",
       "      <th>1</th>\n",
       "      <td>PMC5137654</td>\n",
       "      <td>10.1308/003588414X13824511650173</td>\n",
       "    </tr>\n",
       "  </tbody>\n",
       "</table>\n",
       "</div>"
      ],
      "text/plain": [
       "        pmcid                               doi\n",
       "0  PMC9683380        10.3389/fendo.2022.1007870\n",
       "1  PMC5137654  10.1308/003588414X13824511650173"
      ]
     },
     "execution_count": 15,
     "metadata": {},
     "output_type": "execute_result"
    }
   ],
   "source": [
    "pmc_ids_df = pd.read_csv('data/pmcids_dois_from_counts_data.txt')\n",
    "pmc_ids_df.head(2)"
   ]
  },
  {
   "cell_type": "code",
   "execution_count": 16,
   "id": "bbbea781",
   "metadata": {},
   "outputs": [
    {
     "name": "stdout",
     "output_type": "stream",
     "text": [
      "<class 'pandas.core.frame.DataFrame'>\n",
      "RangeIndex: 166011 entries, 0 to 166010\n",
      "Data columns (total 2 columns):\n",
      " #   Column  Non-Null Count   Dtype \n",
      "---  ------  --------------   ----- \n",
      " 0   pmcid   166011 non-null  object\n",
      " 1   doi     162158 non-null  object\n",
      "dtypes: object(2)\n",
      "memory usage: 2.5+ MB\n"
     ]
    }
   ],
   "source": [
    "pmc_ids_df.info()"
   ]
  },
  {
   "cell_type": "code",
   "execution_count": 17,
   "id": "d76b1d21",
   "metadata": {},
   "outputs": [
    {
     "name": "stdout",
     "output_type": "stream",
     "text": [
      "Unique pmc ids: 166011\n"
     ]
    }
   ],
   "source": [
    "pmc_ids = [x.replace('PMC', '') for x in pmc_ids_df.pmcid.unique()]\n",
    "pmc_ids_df['pmcid'] = pmc_ids\n",
    "print(f'Unique pmc ids: {len(pmc_ids)}')"
   ]
  },
  {
   "cell_type": "markdown",
   "id": "e07ebfd9",
   "metadata": {},
   "source": [
    "### Link Tables"
   ]
  },
  {
   "cell_type": "code",
   "execution_count": 18,
   "id": "4e439844",
   "metadata": {},
   "outputs": [
    {
     "data": {
      "text/html": [
       "<div>\n",
       "<style scoped>\n",
       "    .dataframe tbody tr th:only-of-type {\n",
       "        vertical-align: middle;\n",
       "    }\n",
       "\n",
       "    .dataframe tbody tr th {\n",
       "        vertical-align: top;\n",
       "    }\n",
       "\n",
       "    .dataframe thead th {\n",
       "        text-align: right;\n",
       "    }\n",
       "</style>\n",
       "<table border=\"1\" class=\"dataframe\">\n",
       "  <thead>\n",
       "    <tr style=\"text-align: right;\">\n",
       "      <th></th>\n",
       "      <th>Unnamed: 0</th>\n",
       "      <th>pmid</th>\n",
       "      <th>project_number</th>\n",
       "    </tr>\n",
       "  </thead>\n",
       "  <tbody>\n",
       "    <tr>\n",
       "      <th>0</th>\n",
       "      <td>0</td>\n",
       "      <td>3968312</td>\n",
       "      <td>R01HL025826</td>\n",
       "    </tr>\n",
       "    <tr>\n",
       "      <th>1</th>\n",
       "      <td>1</td>\n",
       "      <td>3889259</td>\n",
       "      <td>R01HD016292</td>\n",
       "    </tr>\n",
       "    <tr>\n",
       "      <th>2</th>\n",
       "      <td>2</td>\n",
       "      <td>3918136</td>\n",
       "      <td>R01HD011011</td>\n",
       "    </tr>\n",
       "    <tr>\n",
       "      <th>3</th>\n",
       "      <td>3</td>\n",
       "      <td>3864856</td>\n",
       "      <td>T32HL007535</td>\n",
       "    </tr>\n",
       "    <tr>\n",
       "      <th>4</th>\n",
       "      <td>4</td>\n",
       "      <td>4064865</td>\n",
       "      <td>R23AM031070</td>\n",
       "    </tr>\n",
       "  </tbody>\n",
       "</table>\n",
       "</div>"
      ],
      "text/plain": [
       "   Unnamed: 0     pmid project_number\n",
       "0           0  3968312    R01HL025826\n",
       "1           1  3889259    R01HD016292\n",
       "2           2  3918136    R01HD011011\n",
       "3           3  3864856    T32HL007535\n",
       "4           4  4064865    R23AM031070"
      ]
     },
     "execution_count": 18,
     "metadata": {},
     "output_type": "execute_result"
    }
   ],
   "source": [
    "# link_tables = create_df_from_csv(folders, 'link_tables')\n",
    "link_tables = pd.read_csv('data/processing/link_tables.csv')\n",
    "link_tables.head()"
   ]
  },
  {
   "cell_type": "code",
   "execution_count": 19,
   "id": "9f8f8e8e",
   "metadata": {},
   "outputs": [],
   "source": [
    "# Convert column names to lowercase\n",
    "link_tables.columns = link_tables.columns.str.lower()"
   ]
  },
  {
   "cell_type": "code",
   "execution_count": 20,
   "id": "062753ef",
   "metadata": {},
   "outputs": [
    {
     "name": "stdout",
     "output_type": "stream",
     "text": [
      "<class 'pandas.core.frame.DataFrame'>\n",
      "RangeIndex: 6437869 entries, 0 to 6437868\n",
      "Data columns (total 3 columns):\n",
      " #   Column          Dtype \n",
      "---  ------          ----- \n",
      " 0   unnamed: 0      int64 \n",
      " 1   pmid            int64 \n",
      " 2   project_number  object\n",
      "dtypes: int64(2), object(1)\n",
      "memory usage: 147.4+ MB\n"
     ]
    }
   ],
   "source": [
    "link_tables.info()"
   ]
  },
  {
   "cell_type": "code",
   "execution_count": 21,
   "id": "f29e07d6",
   "metadata": {},
   "outputs": [],
   "source": [
    "link_tables['pmid'] = link_tables['pmid'].fillna(0).astype(str)"
   ]
  },
  {
   "cell_type": "markdown",
   "id": "dd7f55cf",
   "metadata": {},
   "source": [
    "### Publications"
   ]
  },
  {
   "cell_type": "code",
   "execution_count": 28,
   "id": "e8754623",
   "metadata": {},
   "outputs": [],
   "source": [
    "# publications = create_df_from_csv(folders, 'publications')\n",
    "all_publications = pd.read_csv('data/processing/publications.csv', index_col=None, engine='python')\n",
    "all_publications.columns"
   ]
  },
  {
   "cell_type": "code",
   "execution_count": 24,
   "id": "9c90b6b3",
   "metadata": {},
   "outputs": [
    {
     "ename": "NameError",
     "evalue": "name 'publication' is not defined",
     "output_type": "error",
     "traceback": [
      "\u001b[1;31m---------------------------------------------------------------------------\u001b[0m",
      "\u001b[1;31mNameError\u001b[0m                                 Traceback (most recent call last)",
      "Cell \u001b[1;32mIn[24], line 1\u001b[0m\n\u001b[1;32m----> 1\u001b[0m \u001b[43mpublication\u001b[49m\u001b[38;5;241m.\u001b[39mhead()\n",
      "\u001b[1;31mNameError\u001b[0m: name 'publication' is not defined"
     ]
    }
   ],
   "source": [
    "all_publications.head()"
   ]
  },
  {
   "cell_type": "code",
   "execution_count": 23,
   "id": "cc8d01a0",
   "metadata": {},
   "outputs": [
    {
     "ename": "SyntaxError",
     "evalue": "invalid syntax (4058105336.py, line 2)",
     "output_type": "error",
     "traceback": [
      "\u001b[1;36m  Cell \u001b[1;32mIn[23], line 2\u001b[1;36m\u001b[0m\n\u001b[1;33m    -\u001b[0m\n\u001b[1;37m     ^\u001b[0m\n\u001b[1;31mSyntaxError\u001b[0m\u001b[1;31m:\u001b[0m invalid syntax\n"
     ]
    }
   ],
   "source": [
    "# remove publication with only different year of publication\n",
    "publications = all_publications[all_publications.duplicated(subset='column_name') | df.duplicated(subset='column_name', keep=False)]\n",
    "publications.shape"
   ]
  },
  {
   "cell_type": "code",
   "execution_count": null,
   "id": "e6e8d6c0",
   "metadata": {},
   "outputs": [],
   "source": [
    "# Convert column names to lowercase\n",
    "publications.columns = publications.columns.str.lower()"
   ]
  },
  {
   "cell_type": "code",
   "execution_count": null,
   "id": "b7c4ea54",
   "metadata": {},
   "outputs": [],
   "source": [
    "publications.info()"
   ]
  },
  {
   "cell_type": "code",
   "execution_count": null,
   "id": "2a9aaf57",
   "metadata": {},
   "outputs": [],
   "source": [
    "publications['pmc_id'] = publications['pmc_id'].fillna(0).astype(int).astype(str)"
   ]
  },
  {
   "cell_type": "code",
   "execution_count": null,
   "id": "25868ac2",
   "metadata": {},
   "outputs": [],
   "source": [
    "publications['pmid'] = publications['pmid'].fillna(0).astype(int).astype(str)"
   ]
  },
  {
   "cell_type": "markdown",
   "id": "829a67f1",
   "metadata": {},
   "source": [
    "### Codes"
   ]
  },
  {
   "cell_type": "code",
   "execution_count": null,
   "id": "3efa1216",
   "metadata": {},
   "outputs": [],
   "source": [
    "merged_df1 = pd.merge(pmc_ids_df, publications, left_on='pmcid', right_on='pmc_id', how='left')\n",
    "merged_df1.head()"
   ]
  },
  {
   "cell_type": "code",
   "execution_count": null,
   "id": "7b07b8aa",
   "metadata": {},
   "outputs": [],
   "source": [
    "print(f'Merged df: {merged_df1.shape[0]}')"
   ]
  },
  {
   "cell_type": "code",
   "execution_count": null,
   "id": "af339cc3",
   "metadata": {},
   "outputs": [],
   "source": [
    "merged_df1.columns"
   ]
  },
  {
   "cell_type": "code",
   "execution_count": null,
   "id": "468611f6",
   "metadata": {},
   "outputs": [],
   "source": [
    "merged_df1.isnull().sum()"
   ]
  },
  {
   "cell_type": "code",
   "execution_count": null,
   "id": "fa95d53a",
   "metadata": {},
   "outputs": [],
   "source": [
    "# Convert column names to lowercase\n",
    "merged_df1.columns = merged_df1.columns.str.lower()"
   ]
  },
  {
   "cell_type": "code",
   "execution_count": null,
   "id": "39458449",
   "metadata": {},
   "outputs": [],
   "source": [
    "partial_df = merged_df1[(merged_df1['pmcid'].notna()) & (merged_df1['pmc_id'].notna())]\n",
    "print(f'Partial df: {partial_df.shape[0]}')"
   ]
  },
  {
   "cell_type": "code",
   "execution_count": null,
   "id": "c02ed110",
   "metadata": {},
   "outputs": [],
   "source": [
    "merged_df2 = pd.merge(partial_df, link_tables, on='pmid', how='left')\n",
    "merged_df2.head()"
   ]
  },
  {
   "cell_type": "code",
   "execution_count": null,
   "id": "c59424dc",
   "metadata": {},
   "outputs": [],
   "source": [
    "len(merged_df2.pmcid.unique())"
   ]
  },
  {
   "cell_type": "code",
   "execution_count": null,
   "id": "a0a8512d",
   "metadata": {},
   "outputs": [],
   "source": [
    "merged_df2.columns"
   ]
  },
  {
   "cell_type": "code",
   "execution_count": null,
   "id": "c8438799",
   "metadata": {},
   "outputs": [],
   "source": [
    "codes_df = merged_df2[['pmcid', 'doi', 'pmid', 'project_number']]\n",
    "codes_df.head()"
   ]
  },
  {
   "cell_type": "code",
   "execution_count": null,
   "id": "9278c818",
   "metadata": {},
   "outputs": [],
   "source": [
    "print(f\"Unique pmc-ids: {len(codes_df.pmcid.unique())}\")"
   ]
  },
  {
   "cell_type": "markdown",
   "id": "babb8d57",
   "metadata": {},
   "source": [
    "### Projects"
   ]
  },
  {
   "cell_type": "code",
   "execution_count": null,
   "id": "a7d46628",
   "metadata": {},
   "outputs": [],
   "source": [
    "projects_number = list(codes_df.project_number.unique())\n",
    "print(type(projects_number))"
   ]
  },
  {
   "cell_type": "code",
   "execution_count": null,
   "id": "de692122",
   "metadata": {},
   "outputs": [],
   "source": [
    "print(len(projects_number))"
   ]
  },
  {
   "cell_type": "code",
   "execution_count": null,
   "id": "37a0caad",
   "metadata": {},
   "outputs": [],
   "source": [
    "# projects = create_df_from_csv(folders, 'projects', projects_number)  # filter: pmc_ids\n",
    "projects = pd.read_csv('data/processing/projects.csv')\n",
    "projects.shape[0]"
   ]
  },
  {
   "cell_type": "code",
   "execution_count": null,
   "id": "d2836d2d",
   "metadata": {},
   "outputs": [],
   "source": [
    "projects.columns"
   ]
  },
  {
   "cell_type": "code",
   "execution_count": null,
   "id": "9080abeb",
   "metadata": {},
   "outputs": [],
   "source": [
    "-"
   ]
  },
  {
   "cell_type": "code",
   "execution_count": null,
   "id": "ed735c9a",
   "metadata": {},
   "outputs": [],
   "source": [
    "df = df[df[\"CORE_PROJECT_NUM\"].isin(project_numbers)]"
   ]
  },
  {
   "cell_type": "code",
   "execution_count": null,
   "id": "8a028793",
   "metadata": {},
   "outputs": [],
   "source": [
    "projects.tail()"
   ]
  },
  {
   "cell_type": "code",
   "execution_count": null,
   "id": "f34ea2f8",
   "metadata": {},
   "outputs": [],
   "source": [
    "projects.columns = projects.columns.str.lower()"
   ]
  },
  {
   "cell_type": "code",
   "execution_count": null,
   "id": "b2e00e63",
   "metadata": {},
   "outputs": [],
   "source": [
    "projects.columns"
   ]
  },
  {
   "cell_type": "markdown",
   "id": "c3c0a42f",
   "metadata": {},
   "source": [
    "### Save partial results"
   ]
  },
  {
   "cell_type": "code",
   "execution_count": null,
   "id": "47cfbc1e",
   "metadata": {},
   "outputs": [],
   "source": [
    "# Partial results\n",
    "# publications.to_csv('data/processing/publications.csv')\n",
    "# link_tables.to_csv('data/processing/link_tables.csv')\n",
    "# projects.to_csv('data/processing/projects.csv')"
   ]
  },
  {
   "cell_type": "markdown",
   "id": "02b0d02b",
   "metadata": {},
   "source": [
    "## Results"
   ]
  },
  {
   "cell_type": "code",
   "execution_count": null,
   "id": "365167a0",
   "metadata": {},
   "outputs": [],
   "source": [
    "link_tables.columns"
   ]
  },
  {
   "cell_type": "code",
   "execution_count": null,
   "id": "60cb6c8b",
   "metadata": {},
   "outputs": [],
   "source": [
    "publications.columns"
   ]
  },
  {
   "cell_type": "code",
   "execution_count": null,
   "id": "7d566c36",
   "metadata": {},
   "outputs": [],
   "source": [
    "merged_df2.columns # link_tables + publications"
   ]
  },
  {
   "cell_type": "code",
   "execution_count": null,
   "id": "dd2b7d5e",
   "metadata": {},
   "outputs": [],
   "source": [
    "# Remove pmc_id column (duplicate)\n",
    "are_columns_equal = merged_df2[\"pmcid\"].equals(merged_df2[\"pmc_id\"])\n",
    "\n",
    "if are_columns_equal:\n",
    "    print(\"The two columns contain the same data.\")\n",
    "else:\n",
    "    print(\"The two columns do not contain the same data.\")"
   ]
  },
  {
   "cell_type": "code",
   "execution_count": null,
   "id": "06cfc6be",
   "metadata": {},
   "outputs": [],
   "source": [
    "merged_df2 = merged_df2.drop(\"pmc_id\", axis=1)"
   ]
  },
  {
   "cell_type": "code",
   "execution_count": null,
   "id": "21cd9dca",
   "metadata": {},
   "outputs": [],
   "source": [
    "merged_df2.columns # link_tables + publications"
   ]
  },
  {
   "cell_type": "code",
   "execution_count": null,
   "id": "f89b30f1",
   "metadata": {},
   "outputs": [],
   "source": [
    "publ_list = ['pub_' + col if 'pub_' not in col else col for col in merged_df2.columns[2:]]\n",
    "merged_df2.columns = ['pmcid', 'doi'] + publ_list"
   ]
  },
  {
   "cell_type": "code",
   "execution_count": null,
   "id": "4813284f",
   "metadata": {},
   "outputs": [],
   "source": [
    "merged_df2.columns # link_tables + publications"
   ]
  },
  {
   "cell_type": "code",
   "execution_count": null,
   "id": "af9e0689",
   "metadata": {},
   "outputs": [],
   "source": [
    "print(f\"Unique pmc-ids: {len(merged_df2.pmcid.unique())}\")"
   ]
  },
  {
   "cell_type": "code",
   "execution_count": null,
   "id": "a0d68068",
   "metadata": {},
   "outputs": [],
   "source": [
    "projects.columns"
   ]
  },
  {
   "cell_type": "code",
   "execution_count": null,
   "id": "a612781c",
   "metadata": {},
   "outputs": [],
   "source": [
    "proj_list = ['proj_' + col if 'proj_' not in col else col for col in projects.columns]\n",
    "projects.columns =  proj_list"
   ]
  },
  {
   "cell_type": "code",
   "execution_count": null,
   "id": "083822ff",
   "metadata": {},
   "outputs": [],
   "source": [
    "projects.columns"
   ]
  },
  {
   "cell_type": "code",
   "execution_count": null,
   "id": "37eb81ec",
   "metadata": {},
   "outputs": [],
   "source": [
    "# Check \n",
    "print(merged_df2.pub_project_number.loc[0])\n",
    "print(projects.proj_core_project_num.loc[0])"
   ]
  },
  {
   "cell_type": "code",
   "execution_count": null,
   "id": "28754776",
   "metadata": {},
   "outputs": [],
   "source": [
    "# Final results\n",
    "results = pd.merge(merged_df2, projects, left_on='pub_project_number', right_on='proj_core_project_num', how='left')"
   ]
  },
  {
   "cell_type": "code",
   "execution_count": null,
   "id": "4e74677b",
   "metadata": {},
   "outputs": [],
   "source": [
    "# Check\n",
    "results['pmcid'] = results['pmcid'].apply(lambda x: 'PMC' + str(x))"
   ]
  },
  {
   "cell_type": "code",
   "execution_count": null,
   "id": "242e6e97",
   "metadata": {},
   "outputs": [],
   "source": [
    "results.head(2)"
   ]
  },
  {
   "cell_type": "code",
   "execution_count": null,
   "id": "a1aa39ee",
   "metadata": {},
   "outputs": [],
   "source": [
    "# Check pmc-ids \n",
    "print(f\"Unique pmc-ids (original): {len(merged_df2.pmcid.unique())}\")\n",
    "print(f\"Unique pmc-id (results): {len(results.pmcid.unique())}\")"
   ]
  },
  {
   "cell_type": "code",
   "execution_count": null,
   "id": "60343a56",
   "metadata": {},
   "outputs": [],
   "source": [
    "results.columns"
   ]
  },
  {
   "cell_type": "markdown",
   "id": "02e834b9",
   "metadata": {},
   "source": [
    "### Save final results"
   ]
  },
  {
   "cell_type": "code",
   "execution_count": null,
   "id": "29f6a2ce",
   "metadata": {},
   "outputs": [],
   "source": [
    "# Final results\n",
    "# results.to_csv('data/output/nih_projs_publs.csv')"
   ]
  },
  {
   "cell_type": "markdown",
   "id": "bb21daa4",
   "metadata": {},
   "source": [
    "### Random check"
   ]
  },
  {
   "cell_type": "code",
   "execution_count": null,
   "id": "81978c27",
   "metadata": {},
   "outputs": [],
   "source": [
    "check = pd.read_csv('data/output/nih_projs_publs.csv')\n",
    "check.head()"
   ]
  },
  {
   "cell_type": "code",
   "execution_count": null,
   "id": "0d6c0362",
   "metadata": {},
   "outputs": [],
   "source": [
    "publications.columns"
   ]
  },
  {
   "cell_type": "code",
   "execution_count": null,
   "id": "0d7313ab",
   "metadata": {},
   "outputs": [],
   "source": [
    "projects.columns"
   ]
  },
  {
   "cell_type": "code",
   "execution_count": null,
   "id": "658d979b",
   "metadata": {},
   "outputs": [],
   "source": [
    "# Publication Y, project Y\n",
    "example1 = results[(results.pub_pmid.notna()) & (results.proj_core_project_num.notna())]\n",
    "print(example1['pub_pmid'])\n",
    "print(example1['proj_core_project_num'])"
   ]
  },
  {
   "cell_type": "code",
   "execution_count": null,
   "id": "6b32a1c6",
   "metadata": {},
   "outputs": [],
   "source": [
    "publications[publications.pmid == '22768113']"
   ]
  },
  {
   "cell_type": "code",
   "execution_count": null,
   "id": "834b19aa",
   "metadata": {},
   "outputs": [],
   "source": [
    "projects[projects.proj_core_project_num == 'K08CA133103']"
   ]
  },
  {
   "cell_type": "markdown",
   "id": "a4891cab",
   "metadata": {},
   "source": [
    "## Edit Table"
   ]
  },
  {
   "cell_type": "markdown",
   "id": "268f515f",
   "metadata": {},
   "source": []
  }
 ],
 "metadata": {
  "kernelspec": {
   "display_name": "Python 3",
   "language": "python",
   "name": "python3"
  },
  "language_info": {
   "codemirror_mode": {
    "name": "ipython",
    "version": 3
   },
   "file_extension": ".py",
   "mimetype": "text/x-python",
   "name": "python",
   "nbconvert_exporter": "python",
   "pygments_lexer": "ipython3",
   "version": "3.10.13"
  }
 },
 "nbformat": 4,
 "nbformat_minor": 5
}
